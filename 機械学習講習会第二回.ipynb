{
  "cells": [
    {
      "cell_type": "markdown",
      "metadata": {
        "id": "view-in-github",
        "colab_type": "text"
      },
      "source": [
        "<a href=\"https://colab.research.google.com/github/dacq-trap/MachineLearningWorkshop/blob/main/%E6%A9%9F%E6%A2%B0%E5%AD%A6%E7%BF%92%E8%AC%9B%E7%BF%92%E4%BC%9A%E7%AC%AC%E4%BA%8C%E5%9B%9E.ipynb\" target=\"_parent\"><img src=\"https://colab.research.google.com/assets/colab-badge.svg\" alt=\"Open In Colab\"/></a>"
      ]
    },
    {
      "cell_type": "markdown",
      "metadata": {
        "id": "WTRmjUutPrOF"
      },
      "source": [
        "# 機械学習講習会第二回"
      ]
    },
    {
      "cell_type": "markdown",
      "metadata": {
        "id": "CrjXGDkZQCt1"
      },
      "source": [
        "## 今回やりたいこと\n",
        "数字を認識する簡単なモデルを構築し、実行することをやってみようと思います。"
      ]
    },
    {
      "cell_type": "markdown",
      "metadata": {
        "id": "ZHd_nTp8O_PP"
      },
      "source": [
        "## データの準備\n",
        "今回はMNISTと呼ばれる画像認識では有名なデータセットを使いたいと思います。さてMNISTのデータはhttp://yann.lecun.com/exdb/mnist/ にてダウンロードできるので、これをwgetでダウンロードして解凍...としたいところですが、解凍された画像ファイルはpngなどではなく、バイナリファイルとして構成されており、そのまま扱うと非常に面倒です。なので、今回はpytorchのライブラリを頼ることにします。"
      ]
    },
    {
      "cell_type": "code",
      "execution_count": null,
      "metadata": {
        "colab": {
          "base_uri": "https://localhost:8080/",
          "height": 440,
          "referenced_widgets": [
            "dc77b8a804184a63bdd05aa13710903d",
            "62e87ca9f99b48adafecf3bc630edd7c",
            "67b4c6e9f1dd420c99f755c74eb169d0",
            "1d1857abc54d4e618e7d5321855e33d5",
            "4cf80f8776724b5487737d73a76a6ec4",
            "369dcd835ac7454a9158f17c8e6ebf7e",
            "ff9d9ce8cde6407aa76217a15d4a55f2",
            "568681a255ae45b8a2091fa48ffbfbf9",
            "f00b78e93b044d6689b4cc56dcce94ed",
            "e81065bead354f32b4554eb99839ec08",
            "008d7bdc60b343328b4c93afdbddb60e",
            "b9b01faded4642d29fecb892249c2e91",
            "da281e6a529840619d78627c522c790e",
            "b2aa72076d9146a3b519b4d0e07b49fa",
            "c7fc3f2a04f8482e96808ba583ffbbe9",
            "0980f0f9132648c0bd3ee1420967d0be",
            "7f8e2a46d0f5491e8699a5887db16525",
            "881081459c744454968e091501b38f21",
            "5b778ca607814d9a87b8efcceb409c73",
            "6cef5e48d33046f4a5f0cfef6ad2febf",
            "f9fa8622bb9941bb926683ae253439d6",
            "f929c34b764e4962bbcdaadbf9e2881d",
            "dd721be6e4d04715a152b1342d17420f",
            "79fd693473e8424f9e5ea0f37ea7b2f0",
            "878fe28b7d0a4cd0b30e9fe4968c7f74",
            "d5b43dc02eb647f0be11bedd8437d8c7",
            "2df52e77a83e44e4ac7ed1fda3aa5a37",
            "8d5ad47475fc4daaa731d7abd1c0df20",
            "ccb5f36041b54ce9b366dd561b095575",
            "5c19689190aa44d6b0fb9797242391d5",
            "c64e5990787e42669449d6f978418f7f",
            "2fae554f187440c79d5e2661cf9beeb5",
            "bafb29ae1f054f76a91a8d7689916503",
            "76b90400e01748c683975830112ad718",
            "0fc4458b4d344218ab17b66b8de0d9b3",
            "445ec3a3159043ff90b0b4a9f0ba72b0",
            "1bbaf0f3a5704a44ab9edf25f4c17f47",
            "01f4d147ca0f48938a0bab3bac5c7e8e",
            "8c8418960c1b422aad78e792cd9a958c",
            "383a36b1355047eb99dc9a3395e637c9",
            "229e0ff8e66441c9b914045d31f5aca0",
            "81d11a73b4d540338a271b31b55a9da0",
            "da816015536d48eba7db0eb2327bc0ab",
            "c473ef221234417a972a1b7b2efffc5f"
          ]
        },
        "id": "K65V3tSmBTNU",
        "outputId": "ad566d7c-b82f-4f26-f89c-5c5cd97e2076"
      },
      "outputs": [
        {
          "output_type": "stream",
          "name": "stdout",
          "text": [
            "Downloading http://yann.lecun.com/exdb/mnist/train-images-idx3-ubyte.gz\n",
            "Downloading http://yann.lecun.com/exdb/mnist/train-images-idx3-ubyte.gz to ./data/MNIST/raw/train-images-idx3-ubyte.gz\n"
          ]
        },
        {
          "output_type": "display_data",
          "data": {
            "text/plain": [
              "  0%|          | 0/9912422 [00:00<?, ?it/s]"
            ],
            "application/vnd.jupyter.widget-view+json": {
              "version_major": 2,
              "version_minor": 0,
              "model_id": "dc77b8a804184a63bdd05aa13710903d"
            }
          },
          "metadata": {}
        },
        {
          "output_type": "stream",
          "name": "stdout",
          "text": [
            "Extracting ./data/MNIST/raw/train-images-idx3-ubyte.gz to ./data/MNIST/raw\n",
            "\n",
            "Downloading http://yann.lecun.com/exdb/mnist/train-labels-idx1-ubyte.gz\n",
            "Downloading http://yann.lecun.com/exdb/mnist/train-labels-idx1-ubyte.gz to ./data/MNIST/raw/train-labels-idx1-ubyte.gz\n"
          ]
        },
        {
          "output_type": "display_data",
          "data": {
            "text/plain": [
              "  0%|          | 0/28881 [00:00<?, ?it/s]"
            ],
            "application/vnd.jupyter.widget-view+json": {
              "version_major": 2,
              "version_minor": 0,
              "model_id": "b9b01faded4642d29fecb892249c2e91"
            }
          },
          "metadata": {}
        },
        {
          "output_type": "stream",
          "name": "stdout",
          "text": [
            "Extracting ./data/MNIST/raw/train-labels-idx1-ubyte.gz to ./data/MNIST/raw\n",
            "\n",
            "Downloading http://yann.lecun.com/exdb/mnist/t10k-images-idx3-ubyte.gz\n",
            "Downloading http://yann.lecun.com/exdb/mnist/t10k-images-idx3-ubyte.gz to ./data/MNIST/raw/t10k-images-idx3-ubyte.gz\n"
          ]
        },
        {
          "output_type": "display_data",
          "data": {
            "text/plain": [
              "  0%|          | 0/1648877 [00:00<?, ?it/s]"
            ],
            "application/vnd.jupyter.widget-view+json": {
              "version_major": 2,
              "version_minor": 0,
              "model_id": "dd721be6e4d04715a152b1342d17420f"
            }
          },
          "metadata": {}
        },
        {
          "output_type": "stream",
          "name": "stdout",
          "text": [
            "Extracting ./data/MNIST/raw/t10k-images-idx3-ubyte.gz to ./data/MNIST/raw\n",
            "\n",
            "Downloading http://yann.lecun.com/exdb/mnist/t10k-labels-idx1-ubyte.gz\n",
            "Downloading http://yann.lecun.com/exdb/mnist/t10k-labels-idx1-ubyte.gz to ./data/MNIST/raw/t10k-labels-idx1-ubyte.gz\n"
          ]
        },
        {
          "output_type": "display_data",
          "data": {
            "text/plain": [
              "  0%|          | 0/4542 [00:00<?, ?it/s]"
            ],
            "application/vnd.jupyter.widget-view+json": {
              "version_major": 2,
              "version_minor": 0,
              "model_id": "76b90400e01748c683975830112ad718"
            }
          },
          "metadata": {}
        },
        {
          "output_type": "stream",
          "name": "stdout",
          "text": [
            "Extracting ./data/MNIST/raw/t10k-labels-idx1-ubyte.gz to ./data/MNIST/raw\n",
            "\n"
          ]
        }
      ],
      "source": [
        "import torch\n",
        "import torchvision\n",
        "import torchvision.transforms as transforms\n",
        "import numpy as np\n",
        "\n",
        "rootpath=\"./data\"\n",
        "\n",
        "transform = transforms.Compose(#入力画像の整形\n",
        "    [transforms.ToTensor()])\n",
        "trainset = torchvision.datasets.MNIST(root=rootpath, \n",
        "                                        train=True,\n",
        "                                        download=True,\n",
        "                                        transform=transform)\n",
        "trainloader = torch.utils.data.DataLoader(trainset,\n",
        "                                            #batch_size=3,\n",
        "                                            shuffle=True)\n",
        "\n",
        "evalset = torchvision.datasets.MNIST(root=rootpath, \n",
        "                                        train=False, \n",
        "                                        download=True, \n",
        "                                        transform=transform)\n",
        "evalloader = torch.utils.data.DataLoader(evalset, \n",
        "                                            #batch_size=3,\n",
        "                                            shuffle=False)\n"
      ]
    },
    {
      "cell_type": "markdown",
      "metadata": {
        "id": "qy97xKiOC3xw"
      },
      "source": [
        "上のコードには見慣れないものがたくさんあると思いますが、ひとまずtrainset,evalsetに画像トラベルの情報が配列の形で入っています。ひとまず以下のコードを実行してみてください。"
      ]
    },
    {
      "cell_type": "code",
      "execution_count": null,
      "metadata": {
        "colab": {
          "base_uri": "https://localhost:8080/"
        },
        "id": "2hIF8W-4DGgg",
        "outputId": "0eed39bb-8266-4880-bdd9-b78aad48b74e"
      },
      "outputs": [
        {
          "name": "stdout",
          "output_type": "stream",
          "text": [
            "tensor([[[[0.0000, 0.0000, 0.0000, 0.0000, 0.0000, 0.0000, 0.0000, 0.0000,\n",
            "           0.0000, 0.0000, 0.0000, 0.0000, 0.0000, 0.0000, 0.0000, 0.0000,\n",
            "           0.0000, 0.0000, 0.0000, 0.0000, 0.0000, 0.0000, 0.0000, 0.0000,\n",
            "           0.0000, 0.0000, 0.0000, 0.0000],\n",
            "          [0.0000, 0.0000, 0.0000, 0.0000, 0.0000, 0.0000, 0.0000, 0.0000,\n",
            "           0.0000, 0.0000, 0.0000, 0.0000, 0.0000, 0.0000, 0.0000, 0.0000,\n",
            "           0.0000, 0.0000, 0.0000, 0.0000, 0.0000, 0.0000, 0.0000, 0.0000,\n",
            "           0.0000, 0.0000, 0.0000, 0.0000],\n",
            "          [0.0000, 0.0000, 0.0000, 0.0000, 0.0000, 0.0000, 0.0000, 0.0000,\n",
            "           0.0000, 0.0000, 0.0000, 0.0000, 0.0000, 0.0000, 0.0000, 0.0000,\n",
            "           0.0000, 0.0000, 0.0000, 0.0000, 0.0000, 0.0000, 0.0000, 0.0000,\n",
            "           0.0000, 0.0000, 0.0000, 0.0000],\n",
            "          [0.0000, 0.0000, 0.0000, 0.0000, 0.0000, 0.0000, 0.0000, 0.0000,\n",
            "           0.0000, 0.0000, 0.0000, 0.0000, 0.0000, 0.0824, 0.6784, 0.9922,\n",
            "           0.7961, 0.0000, 0.0000, 0.0000, 0.0000, 0.0000, 0.0000, 0.0000,\n",
            "           0.0000, 0.0000, 0.0000, 0.0000],\n",
            "          [0.0000, 0.0000, 0.0000, 0.0000, 0.0000, 0.0000, 0.0000, 0.0000,\n",
            "           0.0000, 0.0000, 0.0000, 0.0000, 0.0000, 0.5569, 0.9922, 0.9882,\n",
            "           0.9529, 0.1569, 0.0000, 0.0000, 0.0000, 0.0000, 0.0000, 0.0000,\n",
            "           0.0000, 0.0000, 0.0000, 0.0000],\n",
            "          [0.0000, 0.0000, 0.0000, 0.0000, 0.0000, 0.0000, 0.0000, 0.0000,\n",
            "           0.0000, 0.0000, 0.0000, 0.0000, 0.5961, 0.9922, 0.9961, 0.9922,\n",
            "           0.9569, 0.1569, 0.0000, 0.0000, 0.0000, 0.0000, 0.0000, 0.0000,\n",
            "           0.0000, 0.0000, 0.0000, 0.0000],\n",
            "          [0.0000, 0.0000, 0.0000, 0.0000, 0.0000, 0.0000, 0.0000, 0.0000,\n",
            "           0.0000, 0.0000, 0.0000, 0.1608, 0.9137, 0.9882, 0.9922, 0.9882,\n",
            "           0.1569, 0.0000, 0.0000, 0.0000, 0.0000, 0.0000, 0.0000, 0.0000,\n",
            "           0.0000, 0.0000, 0.0000, 0.0000],\n",
            "          [0.0000, 0.0000, 0.0000, 0.0000, 0.0000, 0.0000, 0.0000, 0.0000,\n",
            "           0.0000, 0.0000, 0.0000, 0.7961, 0.9961, 0.9922, 0.8784, 0.2392,\n",
            "           0.0000, 0.0000, 0.0000, 0.0000, 0.0000, 0.0000, 0.0000, 0.0000,\n",
            "           0.0000, 0.0000, 0.0000, 0.0000],\n",
            "          [0.0000, 0.0000, 0.0000, 0.0000, 0.0000, 0.0000, 0.0000, 0.0000,\n",
            "           0.0000, 0.0000, 0.3216, 0.9529, 0.9922, 0.8314, 0.3176, 0.0000,\n",
            "           0.0000, 0.0000, 0.0000, 0.0000, 0.0000, 0.0000, 0.0000, 0.0000,\n",
            "           0.0000, 0.0000, 0.0000, 0.0000],\n",
            "          [0.0000, 0.0000, 0.0000, 0.0000, 0.0000, 0.0000, 0.0000, 0.0000,\n",
            "           0.0000, 0.0000, 0.9961, 0.9922, 0.9961, 0.3569, 0.0000, 0.0000,\n",
            "           0.0000, 0.0000, 0.0000, 0.0000, 0.0000, 0.0000, 0.0000, 0.0000,\n",
            "           0.0000, 0.0000, 0.0000, 0.0000],\n",
            "          [0.0000, 0.0000, 0.0000, 0.0000, 0.0000, 0.0000, 0.0000, 0.0000,\n",
            "           0.0000, 0.4824, 0.9922, 0.9882, 0.6745, 0.0392, 0.0000, 0.0000,\n",
            "           0.0000, 0.0000, 0.0000, 0.0000, 0.0000, 0.0000, 0.0000, 0.0000,\n",
            "           0.0000, 0.0000, 0.0000, 0.0000],\n",
            "          [0.0000, 0.0000, 0.0000, 0.0000, 0.0000, 0.0000, 0.0000, 0.0000,\n",
            "           0.1216, 0.9137, 0.9961, 0.9922, 0.3216, 0.0000, 0.0000, 0.0000,\n",
            "           0.2000, 0.5176, 0.5961, 0.5961, 0.5176, 0.1216, 0.0000, 0.0000,\n",
            "           0.0000, 0.0000, 0.0000, 0.0000],\n",
            "          [0.0000, 0.0000, 0.0000, 0.0000, 0.0000, 0.0000, 0.0000, 0.0000,\n",
            "           0.2000, 0.9882, 0.9922, 0.8314, 0.0000, 0.0000, 0.0824, 0.5569,\n",
            "           0.9922, 0.9882, 0.9922, 0.9882, 0.9922, 0.9098, 0.1608, 0.0000,\n",
            "           0.0000, 0.0000, 0.0000, 0.0000],\n",
            "          [0.0000, 0.0000, 0.0000, 0.0000, 0.0000, 0.0000, 0.0000, 0.0000,\n",
            "           0.6784, 0.9922, 0.9961, 0.1961, 0.0000, 0.3216, 0.8392, 0.9922,\n",
            "           0.9961, 0.9922, 0.9961, 0.9922, 0.9961, 0.9922, 0.9176, 0.1176,\n",
            "           0.0000, 0.0000, 0.0000, 0.0000],\n",
            "          [0.0000, 0.0000, 0.0000, 0.0000, 0.0000, 0.0000, 0.0000, 0.1608,\n",
            "           0.9922, 0.9882, 0.9137, 0.1176, 0.4824, 0.9529, 0.9922, 0.9882,\n",
            "           0.9137, 0.9098, 0.7529, 0.5922, 0.9922, 0.9882, 0.9922, 0.1961,\n",
            "           0.0000, 0.0000, 0.0000, 0.0000],\n",
            "          [0.0000, 0.0000, 0.0000, 0.0000, 0.0000, 0.0000, 0.0000, 0.4000,\n",
            "           0.9961, 0.9922, 0.7961, 0.4824, 0.9961, 0.9922, 0.9569, 0.7961,\n",
            "           0.1608, 0.0000, 0.0000, 0.0000, 0.3608, 0.9922, 0.9961, 0.5922,\n",
            "           0.0000, 0.0000, 0.0000, 0.0000],\n",
            "          [0.0000, 0.0000, 0.0000, 0.0000, 0.0000, 0.0000, 0.0000, 0.4000,\n",
            "           0.9922, 0.9882, 0.9529, 0.9529, 0.9922, 0.8314, 0.3176, 0.0000,\n",
            "           0.0000, 0.0000, 0.0000, 0.0000, 0.2000, 0.9882, 0.9922, 0.5922,\n",
            "           0.0000, 0.0000, 0.0000, 0.0000],\n",
            "          [0.0000, 0.0000, 0.0000, 0.0000, 0.0000, 0.0000, 0.0000, 0.4000,\n",
            "           0.9961, 0.9922, 0.9961, 0.9922, 0.9569, 0.3176, 0.0000, 0.0000,\n",
            "           0.0000, 0.0000, 0.0000, 0.0000, 0.2000, 0.9922, 0.9961, 0.9137,\n",
            "           0.0000, 0.0000, 0.0000, 0.0000],\n",
            "          [0.0000, 0.0000, 0.0000, 0.0000, 0.0000, 0.0000, 0.0000, 0.0784,\n",
            "           0.9922, 0.9882, 0.9922, 0.9882, 0.4784, 0.0000, 0.0000, 0.0000,\n",
            "           0.0000, 0.0000, 0.0000, 0.0000, 0.6784, 0.9882, 0.9922, 0.4353,\n",
            "           0.0000, 0.0000, 0.0000, 0.0000],\n",
            "          [0.0000, 0.0000, 0.0000, 0.0000, 0.0000, 0.0000, 0.0000, 0.0000,\n",
            "           0.3608, 0.9922, 1.0000, 0.9922, 0.5176, 0.2000, 0.0000, 0.0000,\n",
            "           0.0000, 0.0000, 0.1216, 0.6784, 0.9961, 0.9922, 0.5569, 0.0784,\n",
            "           0.0000, 0.0000, 0.0000, 0.0000],\n",
            "          [0.0000, 0.0000, 0.0000, 0.0000, 0.0000, 0.0000, 0.0000, 0.0000,\n",
            "           0.0392, 0.8314, 0.9922, 0.9882, 0.9922, 0.9882, 0.7176, 0.2392,\n",
            "           0.6392, 0.7961, 0.9137, 0.9882, 0.9137, 0.4353, 0.0000, 0.0000,\n",
            "           0.0000, 0.0000, 0.0000, 0.0000],\n",
            "          [0.0000, 0.0000, 0.0000, 0.0000, 0.0000, 0.0000, 0.0000, 0.0000,\n",
            "           0.0000, 0.3216, 1.0000, 0.9922, 0.7961, 0.7961, 0.8784, 0.7961,\n",
            "           0.7961, 0.6353, 0.5569, 0.4000, 0.1608, 0.0000, 0.0000, 0.0000,\n",
            "           0.0000, 0.0000, 0.0000, 0.0000],\n",
            "          [0.0000, 0.0000, 0.0000, 0.0000, 0.0000, 0.0000, 0.0000, 0.0000,\n",
            "           0.0000, 0.0000, 0.9922, 0.9882, 0.0000, 0.0000, 0.0784, 0.0000,\n",
            "           0.0000, 0.0000, 0.0000, 0.0000, 0.0000, 0.0000, 0.0000, 0.0000,\n",
            "           0.0000, 0.0000, 0.0000, 0.0000],\n",
            "          [0.0000, 0.0000, 0.0000, 0.0000, 0.0000, 0.0000, 0.0000, 0.0000,\n",
            "           0.0000, 0.0000, 0.0000, 0.0000, 0.0000, 0.0000, 0.0000, 0.0000,\n",
            "           0.0000, 0.0000, 0.0000, 0.0000, 0.0000, 0.0000, 0.0000, 0.0000,\n",
            "           0.0000, 0.0000, 0.0000, 0.0000],\n",
            "          [0.0000, 0.0000, 0.0000, 0.0000, 0.0000, 0.0000, 0.0000, 0.0000,\n",
            "           0.0000, 0.0000, 0.0000, 0.0000, 0.0000, 0.0000, 0.0000, 0.0000,\n",
            "           0.0000, 0.0000, 0.0000, 0.0000, 0.0000, 0.0000, 0.0000, 0.0000,\n",
            "           0.0000, 0.0000, 0.0000, 0.0000],\n",
            "          [0.0000, 0.0000, 0.0000, 0.0000, 0.0000, 0.0000, 0.0000, 0.0000,\n",
            "           0.0000, 0.0000, 0.0000, 0.0000, 0.0000, 0.0000, 0.0000, 0.0000,\n",
            "           0.0000, 0.0000, 0.0000, 0.0000, 0.0000, 0.0000, 0.0000, 0.0000,\n",
            "           0.0000, 0.0000, 0.0000, 0.0000],\n",
            "          [0.0000, 0.0000, 0.0000, 0.0000, 0.0000, 0.0000, 0.0000, 0.0000,\n",
            "           0.0000, 0.0000, 0.0000, 0.0000, 0.0000, 0.0000, 0.0000, 0.0000,\n",
            "           0.0000, 0.0000, 0.0000, 0.0000, 0.0000, 0.0000, 0.0000, 0.0000,\n",
            "           0.0000, 0.0000, 0.0000, 0.0000],\n",
            "          [0.0000, 0.0000, 0.0000, 0.0000, 0.0000, 0.0000, 0.0000, 0.0000,\n",
            "           0.0000, 0.0000, 0.0000, 0.0000, 0.0000, 0.0000, 0.0000, 0.0000,\n",
            "           0.0000, 0.0000, 0.0000, 0.0000, 0.0000, 0.0000, 0.0000, 0.0000,\n",
            "           0.0000, 0.0000, 0.0000, 0.0000]]]])\n",
            "tensor([6])\n",
            "shape of img is torch.Size([1, 1, 28, 28])\n"
          ]
        }
      ],
      "source": [
        "img, label=trainset[0]#これで一つのデータが(画像、ラベル)の形で取れる\n",
        "print(img)#表示させてみる\n",
        "print(label)#表示させてみる\n",
        "print(\"shape of img is {}\".format(img.shape))#画像の形の確認"
      ]
    },
    {
      "cell_type": "markdown",
      "metadata": {
        "id": "0UIAJ0SWOhQp"
      },
      "source": [
        "やたら大きい配列と整数値が一つが表示されると思います。それぞれが画像のデータと、そのラベルとなります。画像を具体的に白黒で表示させてみるためには、以下のようにします。"
      ]
    },
    {
      "cell_type": "code",
      "execution_count": null,
      "metadata": {
        "colab": {
          "base_uri": "https://localhost:8080/",
          "height": 283
        },
        "id": "syzLmwiVO8gC",
        "outputId": "4374822e-2d13-44e6-ef53-5e07cc0c8f41"
      },
      "outputs": [
        {
          "name": "stdout",
          "output_type": "stream",
          "text": [
            "class is 4\n"
          ]
        },
        {
          "data": {
            "image/png": "[encoded data removed]",
            "text/plain": [
              "<Figure size 432x288 with 1 Axes>"
            ]
          },
          "metadata": {},
          "output_type": "display_data"
        }
      ],
      "source": [
        "size = img.shape[-1]#画像の一辺の大きさ\n",
        "img = np.reshape(img,[size,size])#画像表示の都合で形を変える\n",
        "\n",
        "import matplotlib.pyplot as plt#画像表示用のライブラリ\n",
        "\n",
        "plt.imshow(img,cmap='gray')\n",
        "print(\"class is {}\".format(label.numpy()[0]))"
      ]
    },
    {
      "cell_type": "markdown",
      "metadata": {
        "id": "Ho_X3YJjYmBr"
      },
      "source": [
        "## モデルの構築\n",
        "次に、モデルを具体的に構築してみましょう。機械学習のモデルの定義を以下のクラスで書きます。(https://rightcode.co.jp/blog/information-technology/pytorch-mnist-learning にあったものをお借りして、ある程度手直ししました。)"
      ]
    },
    {
      "cell_type": "code",
      "execution_count": null,
      "metadata": {
        "id": "7hIuoSjLEBv3"
      },
      "outputs": [],
      "source": [
        "class MyNet(torch.nn.Module):#モデルの定義\n",
        "    def __init__(self):\n",
        "        super(MyNet, self).__init__()\n",
        "        #ここでパラメータのインスタンスを定義する必要がある\n",
        "        self.fc1 = torch.nn.Linear(28*28, 1000)# 全結合層fc1の定義\n",
        "        self.fc2 = torch.nn.Linear(1000, 10)# 全結合層fc2の定義\n",
        " \n",
        "    def forward(self, x):#データを入力されたときの処理。\n",
        "        x = self.fc1(x)\n",
        "        x = torch.sigmoid(x)#活性化関数\n",
        "        x = self.fc2(x)\n",
        "        #確率の形で出力させる\n",
        "        x = torch.nn.functional.softmax(x, dim=-1)\n",
        "        return x"
      ]
    },
    {
      "cell_type": "markdown",
      "metadata": {
        "id": "DnCMYPy-HiaP"
      },
      "source": [
        "## 学習の実行\n",
        "とりあえず上からセルを順に実行してみましょう。訓練と評価を一通りできます。"
      ]
    },
    {
      "cell_type": "code",
      "execution_count": null,
      "metadata": {
        "colab": {
          "base_uri": "https://localhost:8080/"
        },
        "id": "5ATP8sv7is7q",
        "outputId": "f8e74834-0217-4143-8a01-e4c8af5b2a29"
      },
      "outputs": [
        {
          "output_type": "stream",
          "name": "stdout",
          "text": [
            "Looking in indexes: https://pypi.org/simple, https://us-python.pkg.dev/colab-wheels/public/simple/\n",
            "Requirement already satisfied: tqdm in /usr/local/lib/python3.7/dist-packages (4.64.0)\n"
          ]
        }
      ],
      "source": [
        "# 学習の進捗表示用(progress barみたいなものが使えるようになる)のものです。とりあえず実行してください。\n",
        "!pip install tqdm\n",
        "from tqdm import tqdm"
      ]
    },
    {
      "cell_type": "code",
      "execution_count": null,
      "metadata": {
        "id": "Oxs-TuryrDpI"
      },
      "outputs": [],
      "source": [
        "#評価用のメソッドの定義\n",
        "def getaccuracy_eval(net: torch.nn.Module,needProgressbar=False):\n",
        "    correct=0\n",
        "    eval_datanum=len(evalset)#evalのデータセットの個数\n",
        "    #progress barの表示について\n",
        "    if needProgressbar:\n",
        "      array=tqdm(range(eval_datanum))\n",
        "    else:\n",
        "      array=range(eval_datanum)\n",
        "    #勾配は記録しない\n",
        "    with torch.no_grad():\n",
        "      for i in array:\n",
        "          img, label=evalset[i]#imgが画像、labelが0-9のどれかを表す\n",
        "          #全結合層に入れたいので、実装の都合上形が1次元のベクトルにする\n",
        "          img=torch.reshape(img, (28*28,))\n",
        "          output = net(img)\n",
        "          #outputの中で最も値が大きいところのindexを取る\n",
        "          pred = output.argmax(dim=-1, keepdim=True)\n",
        "          #label == predならば、正答とする\n",
        "          if label == pred:\n",
        "              correct += 1\n",
        "          #正答率を返す\n",
        "    return correct/eval_datanum\n"
      ]
    },
    {
      "cell_type": "code",
      "execution_count": null,
      "metadata": {
        "colab": {
          "base_uri": "https://localhost:8080/"
        },
        "id": "5lLFA-ZMHSdl",
        "outputId": "8b9e099b-442d-472d-b72a-bb49cd794c28"
      },
      "outputs": [
        {
          "output_type": "stream",
          "name": "stdout",
          "text": [
            "epoch : 0\n"
          ]
        },
        {
          "output_type": "stream",
          "name": "stderr",
          "text": [
            "100%|██████████| 60000/60000 [15:33<00:00, 64.24it/s]\n"
          ]
        },
        {
          "output_type": "stream",
          "name": "stdout",
          "text": [
            "training end\n"
          ]
        }
      ],
      "source": [
        "#モデルの訓練をするセルです\n",
        "# 学習回数(データセット全体を何回見るかという意味)\n",
        "epoch = 1\n",
        "\n",
        "# ネットワークを構築\n",
        "net: torch.nn.Module = MyNet()#:の後の torch.nn.Moduleは型宣言のためのもの\n",
        "optimizer = torch.optim.Adam(params=net.parameters(), lr=0.001)\n",
        "\n",
        "#もし訓練が非常に重いという方がいたら、このtraindatanum変数を適度に小さくすると、訓練を途中で切り上げます\n",
        "traindatanum=len(trainset)#trainのデータセットの個数\n",
        "#正答率の履歴を格納\n",
        "acc_history=[]\n",
        "Evaluation_Interval=1000\n",
        "step_count = 0\n",
        "\n",
        "for e in range(epoch):\n",
        "\n",
        "    loss = None\n",
        "    # 学習開始 (再開)\n",
        "    net.train(True)  # 引数は省略可能\n",
        "    print(\"epoch : {}\".format(e))\n",
        "    for i in tqdm(range(traindatanum)):\n",
        "        #データのロード\n",
        "        img, label=trainset[i]#imgが画像、labelが0-9のどれかを表す\n",
        "        #全結合層に入れたいので、実装の都合上形が1次元のベクトルにする\n",
        "        img=torch.reshape(img, (28*28,))\n",
        "        #勾配の初期化(RNNモデルなどではこの操作が重要となる)\n",
        "        optimizer.zero_grad()\n",
        "        #順伝播の実行\n",
        "        output = net(img)\n",
        "        #損失関数\n",
        "        lossfunc = torch.nn.CrossEntropyLoss()\n",
        "\n",
        "        #ちなみに、このように書いても上手くいきません。 torch.nn.CrossEntropyLoss()は損失を計算するためのものではなく、損失関数オブジェクトを返すからです。\n",
        "        #loss = torch.nn.CrossEntropyLoss(output, label)\n",
        "        \n",
        "        #損失関数のオブジェクトに損失を計算させる。\n",
        "        loss = lossfunc(output, torch.tensor(label,dtype=torch.long))\n",
        "        #これで誤差逆伝播を実行、勾配を計算する(あくまで計算しただけ)\n",
        "        loss.backward()\n",
        "        #パラメータを更新する\n",
        "        optimizer.step()\n",
        "        #学習の記録を残す\n",
        "        if step_count % Evaluation_Interval == 0:\n",
        "            acc = getaccuracy_eval(net)\n",
        "            acc_history.append(acc)\n",
        "        step_count += 1\n",
        "\n",
        "acc = getaccuracy_eval(net)\n",
        "acc_history.append(acc)\n",
        "print(\"training end\")"
      ]
    },
    {
      "cell_type": "code",
      "execution_count": null,
      "metadata": {
        "colab": {
          "base_uri": "https://localhost:8080/",
          "height": 371
        },
        "id": "_QFjYMGQvg_T",
        "outputId": "41174203-f680-497d-966e-31c892e20638"
      },
      "outputs": [
        {
          "output_type": "stream",
          "name": "stdout",
          "text": [
            "accuracy history\n"
          ]
        },
        {
          "output_type": "display_data",
          "data": {
            "text/plain": [
              "<Figure size 432x288 with 1 Axes>"
            ],
            "image/png": "[encoded data removed]"
          },
          "metadata": {
            "needs_background": "light"
          }
        },
        {
          "output_type": "stream",
          "name": "stdout",
          "text": [
            "start evaluation\n"
          ]
        },
        {
          "output_type": "stream",
          "name": "stderr",
          "text": [
            "100%|██████████| 10000/10000 [00:05<00:00, 1820.74it/s]"
          ]
        },
        {
          "output_type": "stream",
          "name": "stdout",
          "text": [
            "/n\n",
            "final accuracy is 0.9483\n"
          ]
        },
        {
          "output_type": "stream",
          "name": "stderr",
          "text": [
            "\n"
          ]
        }
      ],
      "source": [
        "# 訓練が終わったので、具体的に評価してみる\n",
        "# テストデータ全てを評価してみて、その結果を見る\n",
        "\n",
        "eval_datanum=len(evalset)\n",
        "print(\"accuracy history\")\n",
        "import matplotlib.pyplot as plt\n",
        "import numpy as np\n",
        "#x軸の表示用の配列\n",
        "x_axis_array=[i*Evaluation_Interval for i in range(len(acc_history))]\n",
        "\n",
        "fig = plt.figure()\n",
        "ax = fig.add_subplot(1, 1, 1)\n",
        "\n",
        "ax.plot(x_axis_array, acc_history, label='accuracy')\n",
        "\n",
        "ax.legend()\n",
        "ax.set_xlabel(\"step\")\n",
        "ax.set_ylabel(\"accuracy\")\n",
        "\n",
        "plt.show()\n",
        "correct = 0\n",
        "print(\"start evaluation\")\n",
        "acc = getaccuracy_eval(net,needProgressbar=True)\n",
        "print(\"/n\")\n",
        "print(\"final accuracy is {}\".format(acc)) "
      ]
    },
    {
      "cell_type": "markdown",
      "metadata": {
        "id": "jfvPXvOiHIO9"
      },
      "source": [
        "私の環境では、accuracyは約0.94となりました。\n",
        "## コードや用語等の解説\n",
        "\n",
        "* optimizer\n",
        "\n",
        "機械学習を実装する際、Optimizerと呼ばれるものを構築することが多いです。これは簡単に言うと、「どのようにパラメータを構築していきますか？」を定義するものです。今回はAdamと呼ばれるアルゴリズムを用います。\n",
        "\n",
        "* epoch\n",
        "\n",
        "データセットを全体で何回見るか？を意味します。例えば、100個の訓練データがあるうえで、200回勾配を更新するときに、各々のデータは2回見られるので、epochは2となります。今回は時間の都合上、1epochだけの実行にしておきましょう。\n",
        "\n",
        "* accuracy\n",
        "\n",
        "(評価データの中で実際に正解したものの個数)/(評価のデータ個数)です。つまり、モデルの正答率です。\n",
        "\n",
        "## 実行時間計測\n",
        "以上で学習が一通りできたわけですが、せっかくなので実行時間の計測もやってみましょう。例えばを加算演算を10000000回回す処理を計測してみるときは、"
      ]
    },
    {
      "cell_type": "code",
      "source": [
        "import time\n",
        "\n",
        "# 時間計測開始\n",
        "time_start = time.time()\n",
        "sum = 0\n",
        "# 処理を書く（ここでは1秒停止する）\n",
        "for i in range(10000000):\n",
        "  sum += 1\n",
        "# 時間計測終了\n",
        "time_end = time.time()\n",
        "# 経過時間（秒）\n",
        "tim = time_end- time_start\n",
        "\n",
        "print(\"time : {}s\".format(tim))"
      ],
      "metadata": {
        "colab": {
          "base_uri": "https://localhost:8080/"
        },
        "id": "wl-zrrPYCLAF",
        "outputId": "8de2f849-be0b-400b-efb6-ac230f732c5a"
      },
      "execution_count": null,
      "outputs": [
        {
          "output_type": "stream",
          "name": "stdout",
          "text": [
            "0.9254546165466309\n"
          ]
        }
      ]
    },
    {
      "cell_type": "markdown",
      "source": [
        "でできます.私の環境下では約0.9秒でした。皆さんはどうでしょうか？\n",
        "これを以下のように組み込むと、こうなります。"
      ],
      "metadata": {
        "id": "OitlyDCnCZcF"
      }
    },
    {
      "cell_type": "code",
      "source": [
        "import time\n",
        "# 学習回数\n",
        "epoch = 1\n",
        "\n",
        "net: torch.nn.Module = MyNet()\n",
        "optimizer = torch.optim.Adam(params=net.parameters(), lr=0.001)\n",
        "\n",
        "traindatanum=len(trainset)\n",
        "acc_history=[]\n",
        "Evaluation_Interval=1000\n",
        "step_count = 0\n",
        "\n",
        "# 時間計測開始\n",
        "time_start = time.time()\n",
        "for e in range(epoch):\n",
        "\n",
        "    loss = None\n",
        "    net.train(True)\n",
        "    print(\"epoch : {}\".format(e))\n",
        "    for i in tqdm(range(traindatanum)):\n",
        "        img, label=trainset[i]\n",
        "        img=torch.reshape(img, (28*28,))\n",
        "        optimizer.zero_grad()\n",
        "        output = net(img)\n",
        "        lossfunc = torch.nn.CrossEntropyLoss()\n",
        "        loss = lossfunc(output, torch.tensor(label,dtype=torch.long))\n",
        "        loss.backward()\n",
        "        optimizer.step()\n",
        "        if step_count % Evaluation_Interval == 0:\n",
        "            acc = getaccuracy_eval(net)\n",
        "            acc_history.append(acc)\n",
        "        step_count += 1\n",
        "# 時間計測終了\n",
        "time_end = time.time()\n",
        "# 経過時間（秒）\n",
        "tim = time_end- time_start\n",
        "print(\"time : {}s\".format(tim))\n",
        "acc = getaccuracy_eval(net)\n",
        "acc_history.append(acc)\n",
        "print(\"training end\")"
      ],
      "metadata": {
        "colab": {
          "base_uri": "https://localhost:8080/"
        },
        "id": "YIi7MGGqDOQG",
        "outputId": "1f2c4404-ec69-48f7-8350-10d8d33e6d0a"
      },
      "execution_count": null,
      "outputs": [
        {
          "output_type": "stream",
          "name": "stdout",
          "text": [
            "epoch : 0\n"
          ]
        },
        {
          "output_type": "stream",
          "name": "stderr",
          "text": [
            "100%|██████████| 60000/60000 [16:58<00:00, 58.93it/s]\n"
          ]
        },
        {
          "output_type": "stream",
          "name": "stdout",
          "text": [
            "time : 1018.1011118888855s\n",
            "training end\n"
          ]
        }
      ]
    },
    {
      "cell_type": "markdown",
      "source": [
        ""
      ],
      "metadata": {
        "id": "ZmVk0bZTKMGe"
      }
    },
    {
      "cell_type": "markdown",
      "source": [
        "私の環境では1000秒ほどかかりました。\n",
        "\n",
        "# 演習\n",
        "* 畳み込み演算\n",
        "\n",
        "画像処理では畳み込み演算と呼ばれる層がよく用いられます。\n",
        "https://pytorch.org/docs/stable/generated/torch.nn.Conv2d.html に細かいAPIが書いてあるので、頑張って解読して実装してみましょう。できれば実行時間の比較等もしてみると面白いと思います。(私の場合、英語がわからなかったらDeepLを使います。)"
      ],
      "metadata": {
        "id": "qBR25j-sJJse"
      }
    },
    {
      "cell_type": "code",
      "source": [
        "class MyNet(torch.nn.Module):#モデルの定義\n",
        "    def __init__(self):\n",
        "        super(MyNet, self).__init__()\n",
        "        #ここでパラメータのインスタンスを定義する必要がある\n",
        "        #畳み込み演算用のインスタンスを新しく定義する\n",
        "        self.fc1 = torch.nn.Linear(28*28, 1000)\n",
        "        self.fc2 = torch.nn.Linear(1000, 10)\n",
        " \n",
        "    def forward(self, x):#データを入力されたときの処理。\n",
        "        #forward処理のどこかに畳み込み演算を入れてみる\n",
        "        x = self.fc1(x)\n",
        "        x = torch.sigmoid(x)\n",
        "        x = self.fc2(x)\n",
        "        x = torch.nn.functional.softmax(x, dim=-1)\n",
        "        return x"
      ],
      "metadata": {
        "id": "rA1niU8GLC3G"
      },
      "execution_count": null,
      "outputs": []
    },
    {
      "cell_type": "markdown",
      "source": [
        "\n",
        "* 自分の作った画像を認識させる\n",
        "\n",
        "左の空間で右クリックすることで画像のアップロードができます。28×28のモノクロ画像を用意して、先ほど学習させたモデルにpredictさせてみましょう。"
      ],
      "metadata": {
        "id": "ekN-nPpcKwKe"
      }
    },
    {
      "cell_type": "code",
      "source": [
        "file_path = \"./{}\".format()#ここに画像ファイル名を入力\n",
        "\n",
        "#画像を頑張ってモノクロにするなどして、netがpredictできるようにする処理を書く\n",
        "\n",
        "output = net(img)\n",
        "print(\"output : {}\".format())"
      ],
      "metadata": {
        "id": "HLCc-XaYLUyt"
      },
      "execution_count": null,
      "outputs": []
    }
  ],
  "metadata": {
    "accelerator": "GPU",
    "colab": {
      "collapsed_sections": [],
      "name": "機械学習講習会第二回.ipynb",
      "provenance": [],
      "include_colab_link": true
    },
    "kernelspec": {
      "display_name": "Python 3",
      "name": "python3"
    },
    "language_info": {
      "name": "python"
    },
    "widgets": {
      "application/vnd.jupyter.widget-state+json": {
        "dc77b8a804184a63bdd05aa13710903d": {
          "model_module": "@jupyter-widgets/controls",
          "model_name": "HBoxModel",
          "model_module_version": "1.5.0",
          "state": {
            "_dom_classes": [],
            "_model_module": "@jupyter-widgets/controls",
            "_model_module_version": "1.5.0",
            "_model_name": "HBoxModel",
            "_view_count": null,
            "_view_module": "@jupyter-widgets/controls",
            "_view_module_version": "1.5.0",
            "_view_name": "HBoxView",
            "box_style": "",
            "children": [
              "IPY_MODEL_62e87ca9f99b48adafecf3bc630edd7c",
              "IPY_MODEL_67b4c6e9f1dd420c99f755c74eb169d0",
              "IPY_MODEL_1d1857abc54d4e618e7d5321855e33d5"
            ],
            "layout": "IPY_MODEL_4cf80f8776724b5487737d73a76a6ec4"
          }
        },
        "62e87ca9f99b48adafecf3bc630edd7c": {
          "model_module": "@jupyter-widgets/controls",
          "model_name": "HTMLModel",
          "model_module_version": "1.5.0",
          "state": {
            "_dom_classes": [],
            "_model_module": "@jupyter-widgets/controls",
            "_model_module_version": "1.5.0",
            "_model_name": "HTMLModel",
            "_view_count": null,
            "_view_module": "@jupyter-widgets/controls",
            "_view_module_version": "1.5.0",
            "_view_name": "HTMLView",
            "description": "",
            "description_tooltip": null,
            "layout": "IPY_MODEL_369dcd835ac7454a9158f17c8e6ebf7e",
            "placeholder": "​",
            "style": "IPY_MODEL_ff9d9ce8cde6407aa76217a15d4a55f2",
            "value": ""
          }
        },
        "67b4c6e9f1dd420c99f755c74eb169d0": {
          "model_module": "@jupyter-widgets/controls",
          "model_name": "FloatProgressModel",
          "model_module_version": "1.5.0",
          "state": {
            "_dom_classes": [],
            "_model_module": "@jupyter-widgets/controls",
            "_model_module_version": "1.5.0",
            "_model_name": "FloatProgressModel",
            "_view_count": null,
            "_view_module": "@jupyter-widgets/controls",
            "_view_module_version": "1.5.0",
            "_view_name": "ProgressView",
            "bar_style": "success",
            "description": "",
            "description_tooltip": null,
            "layout": "IPY_MODEL_568681a255ae45b8a2091fa48ffbfbf9",
            "max": 9912422,
            "min": 0,
            "orientation": "horizontal",
            "style": "IPY_MODEL_f00b78e93b044d6689b4cc56dcce94ed",
            "value": 9912422
          }
        },
        "1d1857abc54d4e618e7d5321855e33d5": {
          "model_module": "@jupyter-widgets/controls",
          "model_name": "HTMLModel",
          "model_module_version": "1.5.0",
          "state": {
            "_dom_classes": [],
            "_model_module": "@jupyter-widgets/controls",
            "_model_module_version": "1.5.0",
            "_model_name": "HTMLModel",
            "_view_count": null,
            "_view_module": "@jupyter-widgets/controls",
            "_view_module_version": "1.5.0",
            "_view_name": "HTMLView",
            "description": "",
            "description_tooltip": null,
            "layout": "IPY_MODEL_e81065bead354f32b4554eb99839ec08",
            "placeholder": "​",
            "style": "IPY_MODEL_008d7bdc60b343328b4c93afdbddb60e",
            "value": " 9913344/? [00:00&lt;00:00, 22100831.56it/s]"
          }
        },
        "4cf80f8776724b5487737d73a76a6ec4": {
          "model_module": "@jupyter-widgets/base",
          "model_name": "LayoutModel",
          "model_module_version": "1.2.0",
          "state": {
            "_model_module": "@jupyter-widgets/base",
            "_model_module_version": "1.2.0",
            "_model_name": "LayoutModel",
            "_view_count": null,
            "_view_module": "@jupyter-widgets/base",
            "_view_module_version": "1.2.0",
            "_view_name": "LayoutView",
            "align_content": null,
            "align_items": null,
            "align_self": null,
            "border": null,
            "bottom": null,
            "display": null,
            "flex": null,
            "flex_flow": null,
            "grid_area": null,
            "grid_auto_columns": null,
            "grid_auto_flow": null,
            "grid_auto_rows": null,
            "grid_column": null,
            "grid_gap": null,
            "grid_row": null,
            "grid_template_areas": null,
            "grid_template_columns": null,
            "grid_template_rows": null,
            "height": null,
            "justify_content": null,
            "justify_items": null,
            "left": null,
            "margin": null,
            "max_height": null,
            "max_width": null,
            "min_height": null,
            "min_width": null,
            "object_fit": null,
            "object_position": null,
            "order": null,
            "overflow": null,
            "overflow_x": null,
            "overflow_y": null,
            "padding": null,
            "right": null,
            "top": null,
            "visibility": null,
            "width": null
          }
        },
        "369dcd835ac7454a9158f17c8e6ebf7e": {
          "model_module": "@jupyter-widgets/base",
          "model_name": "LayoutModel",
          "model_module_version": "1.2.0",
          "state": {
            "_model_module": "@jupyter-widgets/base",
            "_model_module_version": "1.2.0",
            "_model_name": "LayoutModel",
            "_view_count": null,
            "_view_module": "@jupyter-widgets/base",
            "_view_module_version": "1.2.0",
            "_view_name": "LayoutView",
            "align_content": null,
            "align_items": null,
            "align_self": null,
            "border": null,
            "bottom": null,
            "display": null,
            "flex": null,
            "flex_flow": null,
            "grid_area": null,
            "grid_auto_columns": null,
            "grid_auto_flow": null,
            "grid_auto_rows": null,
            "grid_column": null,
            "grid_gap": null,
            "grid_row": null,
            "grid_template_areas": null,
            "grid_template_columns": null,
            "grid_template_rows": null,
            "height": null,
            "justify_content": null,
            "justify_items": null,
            "left": null,
            "margin": null,
            "max_height": null,
            "max_width": null,
            "min_height": null,
            "min_width": null,
            "object_fit": null,
            "object_position": null,
            "order": null,
            "overflow": null,
            "overflow_x": null,
            "overflow_y": null,
            "padding": null,
            "right": null,
            "top": null,
            "visibility": null,
            "width": null
          }
        },
        "ff9d9ce8cde6407aa76217a15d4a55f2": {
          "model_module": "@jupyter-widgets/controls",
          "model_name": "DescriptionStyleModel",
          "model_module_version": "1.5.0",
          "state": {
            "_model_module": "@jupyter-widgets/controls",
            "_model_module_version": "1.5.0",
            "_model_name": "DescriptionStyleModel",
            "_view_count": null,
            "_view_module": "@jupyter-widgets/base",
            "_view_module_version": "1.2.0",
            "_view_name": "StyleView",
            "description_width": ""
          }
        },
        "568681a255ae45b8a2091fa48ffbfbf9": {
          "model_module": "@jupyter-widgets/base",
          "model_name": "LayoutModel",
          "model_module_version": "1.2.0",
          "state": {
            "_model_module": "@jupyter-widgets/base",
            "_model_module_version": "1.2.0",
            "_model_name": "LayoutModel",
            "_view_count": null,
            "_view_module": "@jupyter-widgets/base",
            "_view_module_version": "1.2.0",
            "_view_name": "LayoutView",
            "align_content": null,
            "align_items": null,
            "align_self": null,
            "border": null,
            "bottom": null,
            "display": null,
            "flex": null,
            "flex_flow": null,
            "grid_area": null,
            "grid_auto_columns": null,
            "grid_auto_flow": null,
            "grid_auto_rows": null,
            "grid_column": null,
            "grid_gap": null,
            "grid_row": null,
            "grid_template_areas": null,
            "grid_template_columns": null,
            "grid_template_rows": null,
            "height": null,
            "justify_content": null,
            "justify_items": null,
            "left": null,
            "margin": null,
            "max_height": null,
            "max_width": null,
            "min_height": null,
            "min_width": null,
            "object_fit": null,
            "object_position": null,
            "order": null,
            "overflow": null,
            "overflow_x": null,
            "overflow_y": null,
            "padding": null,
            "right": null,
            "top": null,
            "visibility": null,
            "width": null
          }
        },
        "f00b78e93b044d6689b4cc56dcce94ed": {
          "model_module": "@jupyter-widgets/controls",
          "model_name": "ProgressStyleModel",
          "model_module_version": "1.5.0",
          "state": {
            "_model_module": "@jupyter-widgets/controls",
            "_model_module_version": "1.5.0",
            "_model_name": "ProgressStyleModel",
            "_view_count": null,
            "_view_module": "@jupyter-widgets/base",
            "_view_module_version": "1.2.0",
            "_view_name": "StyleView",
            "bar_color": null,
            "description_width": ""
          }
        },
        "e81065bead354f32b4554eb99839ec08": {
          "model_module": "@jupyter-widgets/base",
          "model_name": "LayoutModel",
          "model_module_version": "1.2.0",
          "state": {
            "_model_module": "@jupyter-widgets/base",
            "_model_module_version": "1.2.0",
            "_model_name": "LayoutModel",
            "_view_count": null,
            "_view_module": "@jupyter-widgets/base",
            "_view_module_version": "1.2.0",
            "_view_name": "LayoutView",
            "align_content": null,
            "align_items": null,
            "align_self": null,
            "border": null,
            "bottom": null,
            "display": null,
            "flex": null,
            "flex_flow": null,
            "grid_area": null,
            "grid_auto_columns": null,
            "grid_auto_flow": null,
            "grid_auto_rows": null,
            "grid_column": null,
            "grid_gap": null,
            "grid_row": null,
            "grid_template_areas": null,
            "grid_template_columns": null,
            "grid_template_rows": null,
            "height": null,
            "justify_content": null,
            "justify_items": null,
            "left": null,
            "margin": null,
            "max_height": null,
            "max_width": null,
            "min_height": null,
            "min_width": null,
            "object_fit": null,
            "object_position": null,
            "order": null,
            "overflow": null,
            "overflow_x": null,
            "overflow_y": null,
            "padding": null,
            "right": null,
            "top": null,
            "visibility": null,
            "width": null
          }
        },
        "008d7bdc60b343328b4c93afdbddb60e": {
          "model_module": "@jupyter-widgets/controls",
          "model_name": "DescriptionStyleModel",
          "model_module_version": "1.5.0",
          "state": {
            "_model_module": "@jupyter-widgets/controls",
            "_model_module_version": "1.5.0",
            "_model_name": "DescriptionStyleModel",
            "_view_count": null,
            "_view_module": "@jupyter-widgets/base",
            "_view_module_version": "1.2.0",
            "_view_name": "StyleView",
            "description_width": ""
          }
        },
        "b9b01faded4642d29fecb892249c2e91": {
          "model_module": "@jupyter-widgets/controls",
          "model_name": "HBoxModel",
          "model_module_version": "1.5.0",
          "state": {
            "_dom_classes": [],
            "_model_module": "@jupyter-widgets/controls",
            "_model_module_version": "1.5.0",
            "_model_name": "HBoxModel",
            "_view_count": null,
            "_view_module": "@jupyter-widgets/controls",
            "_view_module_version": "1.5.0",
            "_view_name": "HBoxView",
            "box_style": "",
            "children": [
              "IPY_MODEL_da281e6a529840619d78627c522c790e",
              "IPY_MODEL_b2aa72076d9146a3b519b4d0e07b49fa",
              "IPY_MODEL_c7fc3f2a04f8482e96808ba583ffbbe9"
            ],
            "layout": "IPY_MODEL_0980f0f9132648c0bd3ee1420967d0be"
          }
        },
        "da281e6a529840619d78627c522c790e": {
          "model_module": "@jupyter-widgets/controls",
          "model_name": "HTMLModel",
          "model_module_version": "1.5.0",
          "state": {
            "_dom_classes": [],
            "_model_module": "@jupyter-widgets/controls",
            "_model_module_version": "1.5.0",
            "_model_name": "HTMLModel",
            "_view_count": null,
            "_view_module": "@jupyter-widgets/controls",
            "_view_module_version": "1.5.0",
            "_view_name": "HTMLView",
            "description": "",
            "description_tooltip": null,
            "layout": "IPY_MODEL_7f8e2a46d0f5491e8699a5887db16525",
            "placeholder": "​",
            "style": "IPY_MODEL_881081459c744454968e091501b38f21",
            "value": ""
          }
        },
        "b2aa72076d9146a3b519b4d0e07b49fa": {
          "model_module": "@jupyter-widgets/controls",
          "model_name": "FloatProgressModel",
          "model_module_version": "1.5.0",
          "state": {
            "_dom_classes": [],
            "_model_module": "@jupyter-widgets/controls",
            "_model_module_version": "1.5.0",
            "_model_name": "FloatProgressModel",
            "_view_count": null,
            "_view_module": "@jupyter-widgets/controls",
            "_view_module_version": "1.5.0",
            "_view_name": "ProgressView",
            "bar_style": "success",
            "description": "",
            "description_tooltip": null,
            "layout": "IPY_MODEL_5b778ca607814d9a87b8efcceb409c73",
            "max": 28881,
            "min": 0,
            "orientation": "horizontal",
            "style": "IPY_MODEL_6cef5e48d33046f4a5f0cfef6ad2febf",
            "value": 28881
          }
        },
        "c7fc3f2a04f8482e96808ba583ffbbe9": {
          "model_module": "@jupyter-widgets/controls",
          "model_name": "HTMLModel",
          "model_module_version": "1.5.0",
          "state": {
            "_dom_classes": [],
            "_model_module": "@jupyter-widgets/controls",
            "_model_module_version": "1.5.0",
            "_model_name": "HTMLModel",
            "_view_count": null,
            "_view_module": "@jupyter-widgets/controls",
            "_view_module_version": "1.5.0",
            "_view_name": "HTMLView",
            "description": "",
            "description_tooltip": null,
            "layout": "IPY_MODEL_f9fa8622bb9941bb926683ae253439d6",
            "placeholder": "​",
            "style": "IPY_MODEL_f929c34b764e4962bbcdaadbf9e2881d",
            "value": " 29696/? [00:00&lt;00:00, 863842.89it/s]"
          }
        },
        "0980f0f9132648c0bd3ee1420967d0be": {
          "model_module": "@jupyter-widgets/base",
          "model_name": "LayoutModel",
          "model_module_version": "1.2.0",
          "state": {
            "_model_module": "@jupyter-widgets/base",
            "_model_module_version": "1.2.0",
            "_model_name": "LayoutModel",
            "_view_count": null,
            "_view_module": "@jupyter-widgets/base",
            "_view_module_version": "1.2.0",
            "_view_name": "LayoutView",
            "align_content": null,
            "align_items": null,
            "align_self": null,
            "border": null,
            "bottom": null,
            "display": null,
            "flex": null,
            "flex_flow": null,
            "grid_area": null,
            "grid_auto_columns": null,
            "grid_auto_flow": null,
            "grid_auto_rows": null,
            "grid_column": null,
            "grid_gap": null,
            "grid_row": null,
            "grid_template_areas": null,
            "grid_template_columns": null,
            "grid_template_rows": null,
            "height": null,
            "justify_content": null,
            "justify_items": null,
            "left": null,
            "margin": null,
            "max_height": null,
            "max_width": null,
            "min_height": null,
            "min_width": null,
            "object_fit": null,
            "object_position": null,
            "order": null,
            "overflow": null,
            "overflow_x": null,
            "overflow_y": null,
            "padding": null,
            "right": null,
            "top": null,
            "visibility": null,
            "width": null
          }
        },
        "7f8e2a46d0f5491e8699a5887db16525": {
          "model_module": "@jupyter-widgets/base",
          "model_name": "LayoutModel",
          "model_module_version": "1.2.0",
          "state": {
            "_model_module": "@jupyter-widgets/base",
            "_model_module_version": "1.2.0",
            "_model_name": "LayoutModel",
            "_view_count": null,
            "_view_module": "@jupyter-widgets/base",
            "_view_module_version": "1.2.0",
            "_view_name": "LayoutView",
            "align_content": null,
            "align_items": null,
            "align_self": null,
            "border": null,
            "bottom": null,
            "display": null,
            "flex": null,
            "flex_flow": null,
            "grid_area": null,
            "grid_auto_columns": null,
            "grid_auto_flow": null,
            "grid_auto_rows": null,
            "grid_column": null,
            "grid_gap": null,
            "grid_row": null,
            "grid_template_areas": null,
            "grid_template_columns": null,
            "grid_template_rows": null,
            "height": null,
            "justify_content": null,
            "justify_items": null,
            "left": null,
            "margin": null,
            "max_height": null,
            "max_width": null,
            "min_height": null,
            "min_width": null,
            "object_fit": null,
            "object_position": null,
            "order": null,
            "overflow": null,
            "overflow_x": null,
            "overflow_y": null,
            "padding": null,
            "right": null,
            "top": null,
            "visibility": null,
            "width": null
          }
        },
        "881081459c744454968e091501b38f21": {
          "model_module": "@jupyter-widgets/controls",
          "model_name": "DescriptionStyleModel",
          "model_module_version": "1.5.0",
          "state": {
            "_model_module": "@jupyter-widgets/controls",
            "_model_module_version": "1.5.0",
            "_model_name": "DescriptionStyleModel",
            "_view_count": null,
            "_view_module": "@jupyter-widgets/base",
            "_view_module_version": "1.2.0",
            "_view_name": "StyleView",
            "description_width": ""
          }
        },
        "5b778ca607814d9a87b8efcceb409c73": {
          "model_module": "@jupyter-widgets/base",
          "model_name": "LayoutModel",
          "model_module_version": "1.2.0",
          "state": {
            "_model_module": "@jupyter-widgets/base",
            "_model_module_version": "1.2.0",
            "_model_name": "LayoutModel",
            "_view_count": null,
            "_view_module": "@jupyter-widgets/base",
            "_view_module_version": "1.2.0",
            "_view_name": "LayoutView",
            "align_content": null,
            "align_items": null,
            "align_self": null,
            "border": null,
            "bottom": null,
            "display": null,
            "flex": null,
            "flex_flow": null,
            "grid_area": null,
            "grid_auto_columns": null,
            "grid_auto_flow": null,
            "grid_auto_rows": null,
            "grid_column": null,
            "grid_gap": null,
            "grid_row": null,
            "grid_template_areas": null,
            "grid_template_columns": null,
            "grid_template_rows": null,
            "height": null,
            "justify_content": null,
            "justify_items": null,
            "left": null,
            "margin": null,
            "max_height": null,
            "max_width": null,
            "min_height": null,
            "min_width": null,
            "object_fit": null,
            "object_position": null,
            "order": null,
            "overflow": null,
            "overflow_x": null,
            "overflow_y": null,
            "padding": null,
            "right": null,
            "top": null,
            "visibility": null,
            "width": null
          }
        },
        "6cef5e48d33046f4a5f0cfef6ad2febf": {
          "model_module": "@jupyter-widgets/controls",
          "model_name": "ProgressStyleModel",
          "model_module_version": "1.5.0",
          "state": {
            "_model_module": "@jupyter-widgets/controls",
            "_model_module_version": "1.5.0",
            "_model_name": "ProgressStyleModel",
            "_view_count": null,
            "_view_module": "@jupyter-widgets/base",
            "_view_module_version": "1.2.0",
            "_view_name": "StyleView",
            "bar_color": null,
            "description_width": ""
          }
        },
        "f9fa8622bb9941bb926683ae253439d6": {
          "model_module": "@jupyter-widgets/base",
          "model_name": "LayoutModel",
          "model_module_version": "1.2.0",
          "state": {
            "_model_module": "@jupyter-widgets/base",
            "_model_module_version": "1.2.0",
            "_model_name": "LayoutModel",
            "_view_count": null,
            "_view_module": "@jupyter-widgets/base",
            "_view_module_version": "1.2.0",
            "_view_name": "LayoutView",
            "align_content": null,
            "align_items": null,
            "align_self": null,
            "border": null,
            "bottom": null,
            "display": null,
            "flex": null,
            "flex_flow": null,
            "grid_area": null,
            "grid_auto_columns": null,
            "grid_auto_flow": null,
            "grid_auto_rows": null,
            "grid_column": null,
            "grid_gap": null,
            "grid_row": null,
            "grid_template_areas": null,
            "grid_template_columns": null,
            "grid_template_rows": null,
            "height": null,
            "justify_content": null,
            "justify_items": null,
            "left": null,
            "margin": null,
            "max_height": null,
            "max_width": null,
            "min_height": null,
            "min_width": null,
            "object_fit": null,
            "object_position": null,
            "order": null,
            "overflow": null,
            "overflow_x": null,
            "overflow_y": null,
            "padding": null,
            "right": null,
            "top": null,
            "visibility": null,
            "width": null
          }
        },
        "f929c34b764e4962bbcdaadbf9e2881d": {
          "model_module": "@jupyter-widgets/controls",
          "model_name": "DescriptionStyleModel",
          "model_module_version": "1.5.0",
          "state": {
            "_model_module": "@jupyter-widgets/controls",
            "_model_module_version": "1.5.0",
            "_model_name": "DescriptionStyleModel",
            "_view_count": null,
            "_view_module": "@jupyter-widgets/base",
            "_view_module_version": "1.2.0",
            "_view_name": "StyleView",
            "description_width": ""
          }
        },
        "dd721be6e4d04715a152b1342d17420f": {
          "model_module": "@jupyter-widgets/controls",
          "model_name": "HBoxModel",
          "model_module_version": "1.5.0",
          "state": {
            "_dom_classes": [],
            "_model_module": "@jupyter-widgets/controls",
            "_model_module_version": "1.5.0",
            "_model_name": "HBoxModel",
            "_view_count": null,
            "_view_module": "@jupyter-widgets/controls",
            "_view_module_version": "1.5.0",
            "_view_name": "HBoxView",
            "box_style": "",
            "children": [
              "IPY_MODEL_79fd693473e8424f9e5ea0f37ea7b2f0",
              "IPY_MODEL_878fe28b7d0a4cd0b30e9fe4968c7f74",
              "IPY_MODEL_d5b43dc02eb647f0be11bedd8437d8c7"
            ],
            "layout": "IPY_MODEL_2df52e77a83e44e4ac7ed1fda3aa5a37"
          }
        },
        "79fd693473e8424f9e5ea0f37ea7b2f0": {
          "model_module": "@jupyter-widgets/controls",
          "model_name": "HTMLModel",
          "model_module_version": "1.5.0",
          "state": {
            "_dom_classes": [],
            "_model_module": "@jupyter-widgets/controls",
            "_model_module_version": "1.5.0",
            "_model_name": "HTMLModel",
            "_view_count": null,
            "_view_module": "@jupyter-widgets/controls",
            "_view_module_version": "1.5.0",
            "_view_name": "HTMLView",
            "description": "",
            "description_tooltip": null,
            "layout": "IPY_MODEL_8d5ad47475fc4daaa731d7abd1c0df20",
            "placeholder": "​",
            "style": "IPY_MODEL_ccb5f36041b54ce9b366dd561b095575",
            "value": ""
          }
        },
        "878fe28b7d0a4cd0b30e9fe4968c7f74": {
          "model_module": "@jupyter-widgets/controls",
          "model_name": "FloatProgressModel",
          "model_module_version": "1.5.0",
          "state": {
            "_dom_classes": [],
            "_model_module": "@jupyter-widgets/controls",
            "_model_module_version": "1.5.0",
            "_model_name": "FloatProgressModel",
            "_view_count": null,
            "_view_module": "@jupyter-widgets/controls",
            "_view_module_version": "1.5.0",
            "_view_name": "ProgressView",
            "bar_style": "success",
            "description": "",
            "description_tooltip": null,
            "layout": "IPY_MODEL_5c19689190aa44d6b0fb9797242391d5",
            "max": 1648877,
            "min": 0,
            "orientation": "horizontal",
            "style": "IPY_MODEL_c64e5990787e42669449d6f978418f7f",
            "value": 1648877
          }
        },
        "d5b43dc02eb647f0be11bedd8437d8c7": {
          "model_module": "@jupyter-widgets/controls",
          "model_name": "HTMLModel",
          "model_module_version": "1.5.0",
          "state": {
            "_dom_classes": [],
            "_model_module": "@jupyter-widgets/controls",
            "_model_module_version": "1.5.0",
            "_model_name": "HTMLModel",
            "_view_count": null,
            "_view_module": "@jupyter-widgets/controls",
            "_view_module_version": "1.5.0",
            "_view_name": "HTMLView",
            "description": "",
            "description_tooltip": null,
            "layout": "IPY_MODEL_2fae554f187440c79d5e2661cf9beeb5",
            "placeholder": "​",
            "style": "IPY_MODEL_bafb29ae1f054f76a91a8d7689916503",
            "value": " 1649664/? [00:00&lt;00:00, 7833177.93it/s]"
          }
        },
        "2df52e77a83e44e4ac7ed1fda3aa5a37": {
          "model_module": "@jupyter-widgets/base",
          "model_name": "LayoutModel",
          "model_module_version": "1.2.0",
          "state": {
            "_model_module": "@jupyter-widgets/base",
            "_model_module_version": "1.2.0",
            "_model_name": "LayoutModel",
            "_view_count": null,
            "_view_module": "@jupyter-widgets/base",
            "_view_module_version": "1.2.0",
            "_view_name": "LayoutView",
            "align_content": null,
            "align_items": null,
            "align_self": null,
            "border": null,
            "bottom": null,
            "display": null,
            "flex": null,
            "flex_flow": null,
            "grid_area": null,
            "grid_auto_columns": null,
            "grid_auto_flow": null,
            "grid_auto_rows": null,
            "grid_column": null,
            "grid_gap": null,
            "grid_row": null,
            "grid_template_areas": null,
            "grid_template_columns": null,
            "grid_template_rows": null,
            "height": null,
            "justify_content": null,
            "justify_items": null,
            "left": null,
            "margin": null,
            "max_height": null,
            "max_width": null,
            "min_height": null,
            "min_width": null,
            "object_fit": null,
            "object_position": null,
            "order": null,
            "overflow": null,
            "overflow_x": null,
            "overflow_y": null,
            "padding": null,
            "right": null,
            "top": null,
            "visibility": null,
            "width": null
          }
        },
        "8d5ad47475fc4daaa731d7abd1c0df20": {
          "model_module": "@jupyter-widgets/base",
          "model_name": "LayoutModel",
          "model_module_version": "1.2.0",
          "state": {
            "_model_module": "@jupyter-widgets/base",
            "_model_module_version": "1.2.0",
            "_model_name": "LayoutModel",
            "_view_count": null,
            "_view_module": "@jupyter-widgets/base",
            "_view_module_version": "1.2.0",
            "_view_name": "LayoutView",
            "align_content": null,
            "align_items": null,
            "align_self": null,
            "border": null,
            "bottom": null,
            "display": null,
            "flex": null,
            "flex_flow": null,
            "grid_area": null,
            "grid_auto_columns": null,
            "grid_auto_flow": null,
            "grid_auto_rows": null,
            "grid_column": null,
            "grid_gap": null,
            "grid_row": null,
            "grid_template_areas": null,
            "grid_template_columns": null,
            "grid_template_rows": null,
            "height": null,
            "justify_content": null,
            "justify_items": null,
            "left": null,
            "margin": null,
            "max_height": null,
            "max_width": null,
            "min_height": null,
            "min_width": null,
            "object_fit": null,
            "object_position": null,
            "order": null,
            "overflow": null,
            "overflow_x": null,
            "overflow_y": null,
            "padding": null,
            "right": null,
            "top": null,
            "visibility": null,
            "width": null
          }
        },
        "ccb5f36041b54ce9b366dd561b095575": {
          "model_module": "@jupyter-widgets/controls",
          "model_name": "DescriptionStyleModel",
          "model_module_version": "1.5.0",
          "state": {
            "_model_module": "@jupyter-widgets/controls",
            "_model_module_version": "1.5.0",
            "_model_name": "DescriptionStyleModel",
            "_view_count": null,
            "_view_module": "@jupyter-widgets/base",
            "_view_module_version": "1.2.0",
            "_view_name": "StyleView",
            "description_width": ""
          }
        },
        "5c19689190aa44d6b0fb9797242391d5": {
          "model_module": "@jupyter-widgets/base",
          "model_name": "LayoutModel",
          "model_module_version": "1.2.0",
          "state": {
            "_model_module": "@jupyter-widgets/base",
            "_model_module_version": "1.2.0",
            "_model_name": "LayoutModel",
            "_view_count": null,
            "_view_module": "@jupyter-widgets/base",
            "_view_module_version": "1.2.0",
            "_view_name": "LayoutView",
            "align_content": null,
            "align_items": null,
            "align_self": null,
            "border": null,
            "bottom": null,
            "display": null,
            "flex": null,
            "flex_flow": null,
            "grid_area": null,
            "grid_auto_columns": null,
            "grid_auto_flow": null,
            "grid_auto_rows": null,
            "grid_column": null,
            "grid_gap": null,
            "grid_row": null,
            "grid_template_areas": null,
            "grid_template_columns": null,
            "grid_template_rows": null,
            "height": null,
            "justify_content": null,
            "justify_items": null,
            "left": null,
            "margin": null,
            "max_height": null,
            "max_width": null,
            "min_height": null,
            "min_width": null,
            "object_fit": null,
            "object_position": null,
            "order": null,
            "overflow": null,
            "overflow_x": null,
            "overflow_y": null,
            "padding": null,
            "right": null,
            "top": null,
            "visibility": null,
            "width": null
          }
        },
        "c64e5990787e42669449d6f978418f7f": {
          "model_module": "@jupyter-widgets/controls",
          "model_name": "ProgressStyleModel",
          "model_module_version": "1.5.0",
          "state": {
            "_model_module": "@jupyter-widgets/controls",
            "_model_module_version": "1.5.0",
            "_model_name": "ProgressStyleModel",
            "_view_count": null,
            "_view_module": "@jupyter-widgets/base",
            "_view_module_version": "1.2.0",
            "_view_name": "StyleView",
            "bar_color": null,
            "description_width": ""
          }
        },
        "2fae554f187440c79d5e2661cf9beeb5": {
          "model_module": "@jupyter-widgets/base",
          "model_name": "LayoutModel",
          "model_module_version": "1.2.0",
          "state": {
            "_model_module": "@jupyter-widgets/base",
            "_model_module_version": "1.2.0",
            "_model_name": "LayoutModel",
            "_view_count": null,
            "_view_module": "@jupyter-widgets/base",
            "_view_module_version": "1.2.0",
            "_view_name": "LayoutView",
            "align_content": null,
            "align_items": null,
            "align_self": null,
            "border": null,
            "bottom": null,
            "display": null,
            "flex": null,
            "flex_flow": null,
            "grid_area": null,
            "grid_auto_columns": null,
            "grid_auto_flow": null,
            "grid_auto_rows": null,
            "grid_column": null,
            "grid_gap": null,
            "grid_row": null,
            "grid_template_areas": null,
            "grid_template_columns": null,
            "grid_template_rows": null,
            "height": null,
            "justify_content": null,
            "justify_items": null,
            "left": null,
            "margin": null,
            "max_height": null,
            "max_width": null,
            "min_height": null,
            "min_width": null,
            "object_fit": null,
            "object_position": null,
            "order": null,
            "overflow": null,
            "overflow_x": null,
            "overflow_y": null,
            "padding": null,
            "right": null,
            "top": null,
            "visibility": null,
            "width": null
          }
        },
        "bafb29ae1f054f76a91a8d7689916503": {
          "model_module": "@jupyter-widgets/controls",
          "model_name": "DescriptionStyleModel",
          "model_module_version": "1.5.0",
          "state": {
            "_model_module": "@jupyter-widgets/controls",
            "_model_module_version": "1.5.0",
            "_model_name": "DescriptionStyleModel",
            "_view_count": null,
            "_view_module": "@jupyter-widgets/base",
            "_view_module_version": "1.2.0",
            "_view_name": "StyleView",
            "description_width": ""
          }
        },
        "76b90400e01748c683975830112ad718": {
          "model_module": "@jupyter-widgets/controls",
          "model_name": "HBoxModel",
          "model_module_version": "1.5.0",
          "state": {
            "_dom_classes": [],
            "_model_module": "@jupyter-widgets/controls",
            "_model_module_version": "1.5.0",
            "_model_name": "HBoxModel",
            "_view_count": null,
            "_view_module": "@jupyter-widgets/controls",
            "_view_module_version": "1.5.0",
            "_view_name": "HBoxView",
            "box_style": "",
            "children": [
              "IPY_MODEL_0fc4458b4d344218ab17b66b8de0d9b3",
              "IPY_MODEL_445ec3a3159043ff90b0b4a9f0ba72b0",
              "IPY_MODEL_1bbaf0f3a5704a44ab9edf25f4c17f47"
            ],
            "layout": "IPY_MODEL_01f4d147ca0f48938a0bab3bac5c7e8e"
          }
        },
        "0fc4458b4d344218ab17b66b8de0d9b3": {
          "model_module": "@jupyter-widgets/controls",
          "model_name": "HTMLModel",
          "model_module_version": "1.5.0",
          "state": {
            "_dom_classes": [],
            "_model_module": "@jupyter-widgets/controls",
            "_model_module_version": "1.5.0",
            "_model_name": "HTMLModel",
            "_view_count": null,
            "_view_module": "@jupyter-widgets/controls",
            "_view_module_version": "1.5.0",
            "_view_name": "HTMLView",
            "description": "",
            "description_tooltip": null,
            "layout": "IPY_MODEL_8c8418960c1b422aad78e792cd9a958c",
            "placeholder": "​",
            "style": "IPY_MODEL_383a36b1355047eb99dc9a3395e637c9",
            "value": ""
          }
        },
        "445ec3a3159043ff90b0b4a9f0ba72b0": {
          "model_module": "@jupyter-widgets/controls",
          "model_name": "FloatProgressModel",
          "model_module_version": "1.5.0",
          "state": {
            "_dom_classes": [],
            "_model_module": "@jupyter-widgets/controls",
            "_model_module_version": "1.5.0",
            "_model_name": "FloatProgressModel",
            "_view_count": null,
            "_view_module": "@jupyter-widgets/controls",
            "_view_module_version": "1.5.0",
            "_view_name": "ProgressView",
            "bar_style": "success",
            "description": "",
            "description_tooltip": null,
            "layout": "IPY_MODEL_229e0ff8e66441c9b914045d31f5aca0",
            "max": 4542,
            "min": 0,
            "orientation": "horizontal",
            "style": "IPY_MODEL_81d11a73b4d540338a271b31b55a9da0",
            "value": 4542
          }
        },
        "1bbaf0f3a5704a44ab9edf25f4c17f47": {
          "model_module": "@jupyter-widgets/controls",
          "model_name": "HTMLModel",
          "model_module_version": "1.5.0",
          "state": {
            "_dom_classes": [],
            "_model_module": "@jupyter-widgets/controls",
            "_model_module_version": "1.5.0",
            "_model_name": "HTMLModel",
            "_view_count": null,
            "_view_module": "@jupyter-widgets/controls",
            "_view_module_version": "1.5.0",
            "_view_name": "HTMLView",
            "description": "",
            "description_tooltip": null,
            "layout": "IPY_MODEL_da816015536d48eba7db0eb2327bc0ab",
            "placeholder": "​",
            "style": "IPY_MODEL_c473ef221234417a972a1b7b2efffc5f",
            "value": " 5120/? [00:00&lt;00:00, 105267.77it/s]"
          }
        },
        "01f4d147ca0f48938a0bab3bac5c7e8e": {
          "model_module": "@jupyter-widgets/base",
          "model_name": "LayoutModel",
          "model_module_version": "1.2.0",
          "state": {
            "_model_module": "@jupyter-widgets/base",
            "_model_module_version": "1.2.0",
            "_model_name": "LayoutModel",
            "_view_count": null,
            "_view_module": "@jupyter-widgets/base",
            "_view_module_version": "1.2.0",
            "_view_name": "LayoutView",
            "align_content": null,
            "align_items": null,
            "align_self": null,
            "border": null,
            "bottom": null,
            "display": null,
            "flex": null,
            "flex_flow": null,
            "grid_area": null,
            "grid_auto_columns": null,
            "grid_auto_flow": null,
            "grid_auto_rows": null,
            "grid_column": null,
            "grid_gap": null,
            "grid_row": null,
            "grid_template_areas": null,
            "grid_template_columns": null,
            "grid_template_rows": null,
            "height": null,
            "justify_content": null,
            "justify_items": null,
            "left": null,
            "margin": null,
            "max_height": null,
            "max_width": null,
            "min_height": null,
            "min_width": null,
            "object_fit": null,
            "object_position": null,
            "order": null,
            "overflow": null,
            "overflow_x": null,
            "overflow_y": null,
            "padding": null,
            "right": null,
            "top": null,
            "visibility": null,
            "width": null
          }
        },
        "8c8418960c1b422aad78e792cd9a958c": {
          "model_module": "@jupyter-widgets/base",
          "model_name": "LayoutModel",
          "model_module_version": "1.2.0",
          "state": {
            "_model_module": "@jupyter-widgets/base",
            "_model_module_version": "1.2.0",
            "_model_name": "LayoutModel",
            "_view_count": null,
            "_view_module": "@jupyter-widgets/base",
            "_view_module_version": "1.2.0",
            "_view_name": "LayoutView",
            "align_content": null,
            "align_items": null,
            "align_self": null,
            "border": null,
            "bottom": null,
            "display": null,
            "flex": null,
            "flex_flow": null,
            "grid_area": null,
            "grid_auto_columns": null,
            "grid_auto_flow": null,
            "grid_auto_rows": null,
            "grid_column": null,
            "grid_gap": null,
            "grid_row": null,
            "grid_template_areas": null,
            "grid_template_columns": null,
            "grid_template_rows": null,
            "height": null,
            "justify_content": null,
            "justify_items": null,
            "left": null,
            "margin": null,
            "max_height": null,
            "max_width": null,
            "min_height": null,
            "min_width": null,
            "object_fit": null,
            "object_position": null,
            "order": null,
            "overflow": null,
            "overflow_x": null,
            "overflow_y": null,
            "padding": null,
            "right": null,
            "top": null,
            "visibility": null,
            "width": null
          }
        },
        "383a36b1355047eb99dc9a3395e637c9": {
          "model_module": "@jupyter-widgets/controls",
          "model_name": "DescriptionStyleModel",
          "model_module_version": "1.5.0",
          "state": {
            "_model_module": "@jupyter-widgets/controls",
            "_model_module_version": "1.5.0",
            "_model_name": "DescriptionStyleModel",
            "_view_count": null,
            "_view_module": "@jupyter-widgets/base",
            "_view_module_version": "1.2.0",
            "_view_name": "StyleView",
            "description_width": ""
          }
        },
        "229e0ff8e66441c9b914045d31f5aca0": {
          "model_module": "@jupyter-widgets/base",
          "model_name": "LayoutModel",
          "model_module_version": "1.2.0",
          "state": {
            "_model_module": "@jupyter-widgets/base",
            "_model_module_version": "1.2.0",
            "_model_name": "LayoutModel",
            "_view_count": null,
            "_view_module": "@jupyter-widgets/base",
            "_view_module_version": "1.2.0",
            "_view_name": "LayoutView",
            "align_content": null,
            "align_items": null,
            "align_self": null,
            "border": null,
            "bottom": null,
            "display": null,
            "flex": null,
            "flex_flow": null,
            "grid_area": null,
            "grid_auto_columns": null,
            "grid_auto_flow": null,
            "grid_auto_rows": null,
            "grid_column": null,
            "grid_gap": null,
            "grid_row": null,
            "grid_template_areas": null,
            "grid_template_columns": null,
            "grid_template_rows": null,
            "height": null,
            "justify_content": null,
            "justify_items": null,
            "left": null,
            "margin": null,
            "max_height": null,
            "max_width": null,
            "min_height": null,
            "min_width": null,
            "object_fit": null,
            "object_position": null,
            "order": null,
            "overflow": null,
            "overflow_x": null,
            "overflow_y": null,
            "padding": null,
            "right": null,
            "top": null,
            "visibility": null,
            "width": null
          }
        },
        "81d11a73b4d540338a271b31b55a9da0": {
          "model_module": "@jupyter-widgets/controls",
          "model_name": "ProgressStyleModel",
          "model_module_version": "1.5.0",
          "state": {
            "_model_module": "@jupyter-widgets/controls",
            "_model_module_version": "1.5.0",
            "_model_name": "ProgressStyleModel",
            "_view_count": null,
            "_view_module": "@jupyter-widgets/base",
            "_view_module_version": "1.2.0",
            "_view_name": "StyleView",
            "bar_color": null,
            "description_width": ""
          }
        },
        "da816015536d48eba7db0eb2327bc0ab": {
          "model_module": "@jupyter-widgets/base",
          "model_name": "LayoutModel",
          "model_module_version": "1.2.0",
          "state": {
            "_model_module": "@jupyter-widgets/base",
            "_model_module_version": "1.2.0",
            "_model_name": "LayoutModel",
            "_view_count": null,
            "_view_module": "@jupyter-widgets/base",
            "_view_module_version": "1.2.0",
            "_view_name": "LayoutView",
            "align_content": null,
            "align_items": null,
            "align_self": null,
            "border": null,
            "bottom": null,
            "display": null,
            "flex": null,
            "flex_flow": null,
            "grid_area": null,
            "grid_auto_columns": null,
            "grid_auto_flow": null,
            "grid_auto_rows": null,
            "grid_column": null,
            "grid_gap": null,
            "grid_row": null,
            "grid_template_areas": null,
            "grid_template_columns": null,
            "grid_template_rows": null,
            "height": null,
            "justify_content": null,
            "justify_items": null,
            "left": null,
            "margin": null,
            "max_height": null,
            "max_width": null,
            "min_height": null,
            "min_width": null,
            "object_fit": null,
            "object_position": null,
            "order": null,
            "overflow": null,
            "overflow_x": null,
            "overflow_y": null,
            "padding": null,
            "right": null,
            "top": null,
            "visibility": null,
            "width": null
          }
        },
        "c473ef221234417a972a1b7b2efffc5f": {
          "model_module": "@jupyter-widgets/controls",
          "model_name": "DescriptionStyleModel",
          "model_module_version": "1.5.0",
          "state": {
            "_model_module": "@jupyter-widgets/controls",
            "_model_module_version": "1.5.0",
            "_model_name": "DescriptionStyleModel",
            "_view_count": null,
            "_view_module": "@jupyter-widgets/base",
            "_view_module_version": "1.2.0",
            "_view_name": "StyleView",
            "description_width": ""
          }
        }
      }
    }
  },
  "nbformat": 4,
  "nbformat_minor": 0
}