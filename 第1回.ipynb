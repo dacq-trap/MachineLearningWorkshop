{
  "nbformat": 4,
  "nbformat_minor": 0,
  "metadata": {
    "colab": {
      "name": "第１回機械学習講習会.ipynb",
      "provenance": [],
      "collapsed_sections": [],
      "authorship_tag": "ABX9TyOJ0gMWvyKmGf5kZluKq893",
      "include_colab_link": true
    },
    "kernelspec": {
      "name": "python3",
      "display_name": "Python 3"
    },
    "language_info": {
      "name": "python"
    },
    "accelerator": "GPU"
  },
  "cells": [
    {
      "cell_type": "markdown",
      "metadata": {
        "id": "view-in-github",
        "colab_type": "text"
      },
      "source": [
        "<a href=\"https://colab.research.google.com/github/dacq-trap/MachineLearningWorkshop/blob/main/%E7%AC%AC%EF%BC%91%E5%9B%9E%E6%A9%9F%E6%A2%B0%E5%AD%A6%E7%BF%92%E8%AC%9B%E7%BF%92%E4%BC%9A.ipynb\" target=\"_parent\"><img src=\"https://colab.research.google.com/assets/colab-badge.svg\" alt=\"Open In Colab\"/></a>"
      ]
    },
    {
      "cell_type": "markdown",
      "source": [
        "# 機械学習講習会第一回\n",
        "資料作成：@YumizSui"
      ],
      "metadata": {
        "id": "9EtV3niwbz7m"
      }
    },
    {
      "cell_type": "markdown",
      "source": [
        "#### 今回やること\n",
        "- Colabの使い方\n",
        "- ローカル環境でJupyterを動かそう\n",
        "\n",
        "Pythonでのプログラミング経験があると望ましいです。\n",
        "\n",
        "参考：[Pythonつまみぐい](https://wiki.trap.jp/Event/welcome/22/lecture)  \n",
        "[資料](https://drive.trap.jp/apps/files/?dir=/%E9%83%A8%E5%86%85%E5%85%B1%E6%9C%89/workshop/Python_Snack)の6章までの内容が分かっていれば大丈夫です。"
      ],
      "metadata": {
        "id": "HDqqjqsRb03f"
      }
    },
    {
      "cell_type": "markdown",
      "source": [
        "参考資料\n",
        "- [プログラミング言語 Python 総合情報サイト - python.jp](https://www.python.jp/index.html) : 初心者にはおすすめかも\n",
        "- [機械学習帳](https://chokkan.github.io/mlnote/index.html) : しるびあ研\n",
        "- [Kaggleで勝つデータ分析の技術 | Amazon](https://www.amazon.co.jp/dp/B07YTDBC3Z) : 定番\n",
        "- [Kaggle Grandmasterに学ぶ 機械学習 実践アプローチ | Amazon](https://www.amazon.co.jp/dp/B098JB5NMF) : 英語版はこちら[abhishekkrthakur/approachingalmost](https://github.com/abhishekkrthakur/approachingalmost)\n",
        "- [The Kaggle Book: Data analysis and machine learning for competitive data science | Amazon](https://www.amazon.co.jp/dp/1801817472) : 最近セールで盛り上がってた\n"
      ],
      "metadata": {
        "id": "wvGwxtkQb27E"
      }
    },
    {
      "cell_type": "markdown",
      "source": [
        "### Colab #とは\n",
        "[Google Colaboratory](https://colab.research.google.com/)\n",
        "> Colaboratory（略称: Colab）は、Google Research が提供するサービスです。Colab では、誰でもブラウザ上で Python を記述、実行できるため、機械学習、データ分析、教育に特に適しています。具体的には、GPU などのコンピューティング リソースに料金なしでアクセスしながら、特別な設定なしでご利用いただけるホスト型の Jupyter Notebook サービスです。\n",
        "\n",
        "Jupyter Notebook（じゅぴたー？じゅぱいたー？ 普通はjupyterと読みます🔥）は今見ているように、ブラウザ上でインタラクティブにPythonプログラムを動かすことができる開発環境です。\n",
        "\n",
        "Jupyterはローカル環境で動かすなどしますが、Colabはオンライン上のサービスです。\n",
        "\n",
        "Colabは機械学習をやるのが初めての人におすすめです。\n",
        "- 環境構築が不要\n",
        "- タダでGPUやTPUが使える\n",
        "\n",
        "（TPUについては本講習では扱いません）  \n",
        "なお、利用にはGoogleアカウントが必要です。\n",
        "\n",
        "\n",
        "無料で利用できますが\n",
        "- GPUを使う場合、高速なGPUがなかなか割り当てられない\n",
        "- 最長12時間で、自動的にリセットされる\n",
        "- 90分以上操作がなくてもリセットされる\n",
        "- メモリが不足しやすい\n",
        "\n",
        "などの欠点があります。  \n",
        "月額サブスクでColab ProやColab Pro+を使うとより良い物を使うことができます。  \n",
        "本講習会を受講する分には無料版で十分です。    \n",
        "\n",
        "もし本格的に機械学習をやりたい場合は、Google Cloud Platform(GCP)やお手持ちの†つよつよマシン†を使うことをおすすめします。"
      ],
      "metadata": {
        "id": "RbtWEkjKb6Wx"
      }
    },
    {
      "cell_type": "markdown",
      "source": [
        "## Colab つかう\n",
        "### 基本操作\n",
        "この文章を読んでいるということは、Colabを開いて実行できるようになっているはずです。  \n",
        "他人のNotebookを開いて編集した場合、自分のGoogleDriveに編集のコピーが保存できるので、このNotebookは自由に編集しても大丈夫です。  \n",
        "\n",
        "Notebookにはエディットモードとコマンドモードの２つのモードがあります。  \n",
        "\n",
        "- エディットモードでは、各セルに対するコード入力を行います。  \n",
        "- コマンドモードは、セルへの操作などのコマンドを受け付けます。  \n",
        "\n",
        "今どちらのモードなのか分からなくなったら、escキーを押すとコマンドモードになります。\n",
        "\n",
        "Colabの場合に、コマンドモードで使う主要なコマンドです。  \n",
        "Colabの場合は`ctrl+M H`でショートカットの一覧が表示されます\n",
        "\n",
        "- `Enter`: 選択中のセルについてエディットモードにする\n",
        "- `B`: 選択中のセルの下にセルを挿入する\n",
        "- `A`: 選択中のセルの上にセルを挿入する\n",
        "- `ctrl+M D`: 選択中のセルを削除する\n",
        "- `ctrl+M Z`: 変更をもとに戻す\n",
        "- `ctrl+M M`: 選択中のセルをMarkdownにする\n",
        "\n",
        "Jupyterの場合は、ctrl+Mは不要です\n",
        "<!-- 使えなかった…\n",
        "- `X`: 選択中のセルを切り取る\n",
        "- `C`: 選択中のセルをコピーする\n",
        "- `V`: コピーしたセルを選択中のセルの下に貼り付ける\n",
        "- `D`**を2回連続で押す**: 選択中のセルを削除する\n",
        "- `Z`: 変更をもとに戻す\n",
        "- `Y`: 選択中のセルをCodeにする\n",
        "- `M`: 選択中のセルをMarkdownにする -->\n",
        "\n",
        "試しに、コマンドモードでこのセルを選択しながら`b`キーを押してみてください  "
      ],
      "metadata": {
        "id": "2mXkpWSqb8YQ"
      }
    },
    {
      "cell_type": "code",
      "source": [
        ""
      ],
      "metadata": {
        "id": "Mn2cQVo-51Og"
      },
      "execution_count": null,
      "outputs": []
    },
    {
      "cell_type": "markdown",
      "source": [
        "コードセルは作れましたか？  \n",
        "試しに、`print('Hello, World!')`と入力して実行してみましょう。  \n",
        "セルの左側の実行ボタンを押すか、`Ctrl+Enter`で実行することができます。"
      ],
      "metadata": {
        "id": "daB0RTB0b-3I"
      }
    },
    {
      "cell_type": "markdown",
      "source": [
        "### シェルコマンドを動かす\n",
        "jupyterでコマンドを実行するには、コードセルの先頭に`!`をつけます  \n",
        "必要なパッケージを入れるときなどに使います"
      ],
      "metadata": {
        "id": "PLVW7vuYcFxH"
      }
    },
    {
      "cell_type": "code",
      "source": [
        "!ls"
      ],
      "metadata": {
        "colab": {
          "base_uri": "https://localhost:8080/"
        },
        "id": "F2VmeWxjcH7M",
        "outputId": "527956cb-a66c-47dd-f4bd-b511a077212f"
      },
      "execution_count": null,
      "outputs": [
        {
          "output_type": "stream",
          "name": "stdout",
          "text": [
            "sample_data\n"
          ]
        }
      ]
    },
    {
      "cell_type": "code",
      "source": [
        "!pip install japanize-matplotlib # matplotlibの描画に日本語を使えるようにするライブラリ(今回使うわけではない)"
      ],
      "metadata": {
        "colab": {
          "base_uri": "https://localhost:8080/"
        },
        "id": "RAclqEITcJIc",
        "outputId": "3a7088ed-a097-4e5e-d14e-c3b0acea805d"
      },
      "execution_count": null,
      "outputs": [
        {
          "output_type": "stream",
          "name": "stdout",
          "text": [
            "Looking in indexes: https://pypi.org/simple, https://us-python.pkg.dev/colab-wheels/public/simple/\n",
            "Collecting japanize-matplotlib\n",
            "  Downloading japanize-matplotlib-1.1.3.tar.gz (4.1 MB)\n",
            "\u001b[K     |████████████████████████████████| 4.1 MB 26.8 MB/s \n",
            "\u001b[?25hRequirement already satisfied: matplotlib in /usr/local/lib/python3.7/dist-packages (from japanize-matplotlib) (3.2.2)\n",
            "Requirement already satisfied: cycler>=0.10 in /usr/local/lib/python3.7/dist-packages (from matplotlib->japanize-matplotlib) (0.11.0)\n",
            "Requirement already satisfied: pyparsing!=2.0.4,!=2.1.2,!=2.1.6,>=2.0.1 in /usr/local/lib/python3.7/dist-packages (from matplotlib->japanize-matplotlib) (3.0.9)\n",
            "Requirement already satisfied: python-dateutil>=2.1 in /usr/local/lib/python3.7/dist-packages (from matplotlib->japanize-matplotlib) (2.8.2)\n",
            "Requirement already satisfied: kiwisolver>=1.0.1 in /usr/local/lib/python3.7/dist-packages (from matplotlib->japanize-matplotlib) (1.4.2)\n",
            "Requirement already satisfied: numpy>=1.11 in /usr/local/lib/python3.7/dist-packages (from matplotlib->japanize-matplotlib) (1.21.6)\n",
            "Requirement already satisfied: typing-extensions in /usr/local/lib/python3.7/dist-packages (from kiwisolver>=1.0.1->matplotlib->japanize-matplotlib) (4.2.0)\n",
            "Requirement already satisfied: six>=1.5 in /usr/local/lib/python3.7/dist-packages (from python-dateutil>=2.1->matplotlib->japanize-matplotlib) (1.15.0)\n",
            "Building wheels for collected packages: japanize-matplotlib\n",
            "  Building wheel for japanize-matplotlib (setup.py) ... \u001b[?25l\u001b[?25hdone\n",
            "  Created wheel for japanize-matplotlib: filename=japanize_matplotlib-1.1.3-py3-none-any.whl size=4120275 sha256=e2d1ee8e855f2555f1e591d2ab2315f8fe4bcbe52d9099ac46eececeed5bd01b\n",
            "  Stored in directory: /root/.cache/pip/wheels/83/97/6b/e9e0cde099cc40f972b8dd23367308f7705ae06cd6d4714658\n",
            "Successfully built japanize-matplotlib\n",
            "Installing collected packages: japanize-matplotlib\n",
            "Successfully installed japanize-matplotlib-1.1.3\n"
          ]
        }
      ]
    },
    {
      "cell_type": "markdown",
      "source": [
        "### GPUを動かす\n",
        "GPUを使うにはColabの設定を変更する必要があります\n",
        "ランタイム > ランタイムのタイプを変更からノートブックの設定で、ハードウェアアクセラレータを\n",
        "GPUに変更して保存してください。  \n",
        "\n",
        "<img src=\"https://drive.google.com/uc?id=1bZuz3ObgWQCrvCCdROqI4f-_HzVA6e4N\" width=\"50%\">\n",
        "<img src=\"https://drive.google.com/uc?id=12Cx3qgSfglVkrsQIyHSSbknAUPpQjl_G\" width=\"50%\">\n"
      ],
      "metadata": {
        "id": "UXrgMAOCcNBK"
      }
    },
    {
      "cell_type": "markdown",
      "source": [
        "正常にGPUが割り当てられたことと、ちゃんと動作することを確認するには以下のコマンドを実行します"
      ],
      "metadata": {
        "id": "25YTCZ9BcPPn"
      }
    },
    {
      "cell_type": "code",
      "source": [
        "!nvidia-smi # 割り当てられたGPUを確認するコマンド"
      ],
      "metadata": {
        "colab": {
          "base_uri": "https://localhost:8080/"
        },
        "id": "mMUNsk8TcTUS",
        "outputId": "f6ad53fe-8edc-40c7-8292-7e57fa63844b"
      },
      "execution_count": null,
      "outputs": [
        {
          "output_type": "stream",
          "name": "stdout",
          "text": [
            "Mon Jun 13 11:52:29 2022       \n",
            "+-----------------------------------------------------------------------------+\n",
            "| NVIDIA-SMI 460.32.03    Driver Version: 460.32.03    CUDA Version: 11.2     |\n",
            "|-------------------------------+----------------------+----------------------+\n",
            "| GPU  Name        Persistence-M| Bus-Id        Disp.A | Volatile Uncorr. ECC |\n",
            "| Fan  Temp  Perf  Pwr:Usage/Cap|         Memory-Usage | GPU-Util  Compute M. |\n",
            "|                               |                      |               MIG M. |\n",
            "|===============================+======================+======================|\n",
            "|   0  Tesla T4            Off  | 00000000:00:04.0 Off |                    0 |\n",
            "| N/A   58C    P8    10W /  70W |      0MiB / 15109MiB |      0%      Default |\n",
            "|                               |                      |                  N/A |\n",
            "+-------------------------------+----------------------+----------------------+\n",
            "                                                                               \n",
            "+-----------------------------------------------------------------------------+\n",
            "| Processes:                                                                  |\n",
            "|  GPU   GI   CI        PID   Type   Process name                  GPU Memory |\n",
            "|        ID   ID                                                   Usage      |\n",
            "|=============================================================================|\n",
            "|  No running processes found                                                 |\n",
            "+-----------------------------------------------------------------------------+\n"
          ]
        }
      ]
    },
    {
      "cell_type": "code",
      "source": [
        "# torch.cuda.is_available()の返り値がTrueならPyTorchでGPUが使える状況になっている\n",
        "import torch\n",
        "torch.cuda.is_available()"
      ],
      "metadata": {
        "colab": {
          "base_uri": "https://localhost:8080/"
        },
        "id": "2H-cchRdcWZa",
        "outputId": "8797f7b6-35b2-4674-bd93-1a200f8e7d7a"
      },
      "execution_count": null,
      "outputs": [
        {
          "output_type": "execute_result",
          "data": {
            "text/plain": [
              "True"
            ]
          },
          "metadata": {},
          "execution_count": 2
        }
      ]
    },
    {
      "cell_type": "markdown",
      "source": [
        "なお、今回はGPUは使いません  \n",
        "CPUで大丈夫です"
      ],
      "metadata": {
        "id": "IesVDQZeXd4N"
      }
    },
    {
      "cell_type": "markdown",
      "source": [
        "### GoogleDriveとの連携\n",
        "Colabはランタイムごとにインストールしたデータや保存したデータが消えてしまいます。\n",
        "そのため、GoogleDriveと接続して、ファイルを読み込んだり保存したりします。\n",
        "\n"
      ],
      "metadata": {
        "id": "pfqqV3yFcakG"
      }
    },
    {
      "cell_type": "code",
      "source": [
        "# Google Driveへのマウント\n",
        "from google.colab import drive\n",
        "drive.mount('/content/drive')"
      ],
      "metadata": {
        "colab": {
          "base_uri": "https://localhost:8080/"
        },
        "id": "_G3ZFm7KdBko",
        "outputId": "dc9bd25e-7621-4d1c-f116-1c69cfc6d270"
      },
      "execution_count": null,
      "outputs": [
        {
          "output_type": "stream",
          "name": "stdout",
          "text": [
            "Mounted at /content/drive\n"
          ]
        }
      ]
    },
    {
      "cell_type": "markdown",
      "source": [
        "ドライブにマウントできたら、`!ls drive/MyDrive`でドライブ直下にアクセスできるようになります\n",
        "\n",
        "<img src=\"https://drive.google.com/uc?id=13kyWApHsBOm_i3AT7KxtgsTFzN0HfHFO\" width=\"20%\">"
      ],
      "metadata": {
        "id": "WxYu3vx-dsmc"
      }
    },
    {
      "cell_type": "markdown",
      "source": [
        "## ローカル環境でJupyterを動かそう\n",
        ">丸投げしたので資料としてやることは無いかも、その場の対応だけ？"
      ],
      "metadata": {
        "id": "C1SkOm3ZcR4n"
      }
    },
    {
      "cell_type": "markdown",
      "source": [
        "**!!!!!!本講習のすべての内容はColabで完結します。ローカルでの環境構築は必須ではありません!!!!!**\n",
        "\n",
        "pythonのパッケージ管理管理ツールいっぱいあります。\n",
        "pip, anaconda, pyenb, pipenv, poetry...\n",
        "\n",
        "詳細に踏み込むと沼  \n",
        "[pipとpipenvとpoetryの技術的・歴史的背景とその展望 - Stimulator](https://vaaaaaanquish.hatenablog.com/entry/2021/03/29/221715)\n",
        "\n",
        "一応Anacondaによるローカル環境のPythonパッケージ管理について説明しておきます"
      ],
      "metadata": {
        "id": "Jb6HhSl9d07B"
      }
    },
    {
      "cell_type": "markdown",
      "source": [
        "### Anacondaの場合\n",
        "[Anaconda](https://www.anaconda.com/)からインストールしてググりながら入れれば入る。\n",
        "\n",
        "ありがたいことにこういうのがあるので丸投げする → [Anaconda のインストール: Python環境構築ガイド - python.jp](https://www.python.jp/install/anaconda/index.html)\n",
        "\n",
        "詳しい人はminicondaとかminiforgeとかのバリエーションがあるので好きなのを入れてください。基本的な使い方は変わらないと思います。\n",
        "\n",
        "windowsの人は、windowsにそのままインストールしてもいいですが、WSL(windows subsystems for linux)から入れるとLinuxとおなじことをすれば良いので楽です"
      ],
      "metadata": {
        "id": "LPNtl6FGd22f"
      }
    },
    {
      "cell_type": "markdown",
      "source": [
        "**Anacondaの初心者つまづきポイント**  \n",
        "conda と pipは同時に使うな\n",
        "https://www.python.jp/install/anaconda/pip_and_conda.html  \n",
        "一言でいうと「pip使えちゃうけど使って失敗すると最悪入れ直し」  \n",
        "必ず`conda search`とかhttps://anaconda.org/ で入れたいパッケージが入れられないか確認してそっちを優先"
      ],
      "metadata": {
        "id": "Jp5gqlc6d6CZ"
      }
    },
    {
      "cell_type": "markdown",
      "source": [
        "#### CUIからjupyterを起動するまで\n",
        "\n",
        "[jupyterのインストール](https://jupyter.org/install)\n",
        "\n",
        "```bash\n",
        "# python(version 3.9)のpyws39という名前の環境を構築する。環境の名前は好きにどうぞ\n",
        "conda create -n pyws39 python=3.9\n",
        "\n",
        "# pyws39に環境を切り替える\n",
        "conda activate pyws39\n",
        "\n",
        "# jupyterlabをインストールする\n",
        "conda install jupyterlab -c conda-forge\n",
        "\n",
        "# jupyter labを起動する\n",
        "jupyter lab\n",
        "```\n",
        "\n",
        "ここで、デフォルトではport=8888でjupyter labが立ち上がる\n",
        "```\n",
        "$ jupyter lab                                        130 ↵\n",
        "# 色々出てくる\n",
        "        http://localhost:8888/lab?token=ここにtoken\n",
        "        http://127.0.0.1:8888/lab?token=ここにtoken\n",
        "```\n",
        "\n",
        "お手持ちのブラウザで`localhost:8888`にアクセスしてください\n",
        "\n",
        "<img src=\"https://drive.google.com/uc?id=1ciRJiGUmy20RcS1E4iXYUtgEnt3L62S8\" width=\"100%\">\n",
        "\n",
        "\n",
        "うまく行けばこんな感じの画面が立ち上がる"
      ],
      "metadata": {
        "id": "HOTXB-LLd8vA"
      }
    },
    {
      "cell_type": "markdown",
      "source": [
        "### dockerの場合\n",
        "一行でできるらしい https://www.konosumi.net/entry/2020/05/28/234942\n",
        "\n",
        "```\n",
        "docker run -i -t -p 8888:8888 continuumio/anaconda3 /bin/bash -c \"/opt/conda/bin/conda install jupyter -y --quiet && mkdir /opt/notebooks && /opt/conda/bin/jupyter notebook --notebook-dir=/opt/notebooks --ip='*' --port=8888 --no-browser --allow-root\"\n",
        "```\n",
        "`localhost:8888`で*done...*\n"
      ],
      "metadata": {
        "id": "QK1UpnvkGwRT"
      }
    },
    {
      "cell_type": "markdown",
      "source": [
        "### その他の場合\n",
        "🔎「[任意のパッケージ管理ツール] [任意のOS] インストール方法」　でよしなに"
      ],
      "metadata": {
        "id": "NePb0Exjd-9e"
      }
    },
    {
      "cell_type": "markdown",
      "source": [
        "## マジックコマンド\n",
        "なんか色々できる\n",
        "`%` : 一行のコマンド\n",
        "`%%`: セル全体に関するコマンド"
      ],
      "metadata": {
        "id": "Ps_rFmLie-g9"
      }
    },
    {
      "cell_type": "markdown",
      "source": [
        "利用できるマジックコマンドを表示する"
      ],
      "metadata": {
        "id": "V0RyUe8ofCYF"
      }
    },
    {
      "cell_type": "code",
      "source": [
        "%lsmagic"
      ],
      "metadata": {
        "colab": {
          "base_uri": "https://localhost:8080/",
          "height": 162
        },
        "id": "rf3apg2ELqOy",
        "outputId": "1cd88fbf-d955-46d2-8e2a-9513b2d7f637"
      },
      "execution_count": null,
      "outputs": [
        {
          "output_type": "execute_result",
          "data": {
            "text/plain": [
              "Available line magics:\n",
              "%alias  %alias_magic  %autocall  %automagic  %autosave  %bookmark  %cat  %cd  %clear  %colors  %config  %connect_info  %cp  %debug  %dhist  %dirs  %doctest_mode  %ed  %edit  %env  %gui  %hist  %history  %killbgscripts  %ldir  %less  %lf  %lk  %ll  %load  %load_ext  %loadpy  %logoff  %logon  %logstart  %logstate  %logstop  %ls  %lsmagic  %lx  %macro  %magic  %man  %matplotlib  %mkdir  %more  %mv  %notebook  %page  %pastebin  %pdb  %pdef  %pdoc  %pfile  %pinfo  %pinfo2  %pip  %popd  %pprint  %precision  %profile  %prun  %psearch  %psource  %pushd  %pwd  %pycat  %pylab  %qtconsole  %quickref  %recall  %rehashx  %reload_ext  %rep  %rerun  %reset  %reset_selective  %rm  %rmdir  %run  %save  %sc  %set_env  %shell  %store  %sx  %system  %tb  %tensorflow_version  %time  %timeit  %unalias  %unload_ext  %who  %who_ls  %whos  %xdel  %xmode\n",
              "\n",
              "Available cell magics:\n",
              "%%!  %%HTML  %%SVG  %%bash  %%bigquery  %%capture  %%debug  %%file  %%html  %%javascript  %%js  %%latex  %%perl  %%prun  %%pypy  %%python  %%python2  %%python3  %%ruby  %%script  %%sh  %%shell  %%svg  %%sx  %%system  %%time  %%timeit  %%writefile\n",
              "\n",
              "Automagic is ON, % prefix IS NOT needed for line magics."
            ],
            "application/json": {
              "line": {
                "automagic": "AutoMagics",
                "autocall": "AutoMagics",
                "alias_magic": "BasicMagics",
                "lsmagic": "BasicMagics",
                "magic": "BasicMagics",
                "page": "BasicMagics",
                "profile": "BasicMagics",
                "pprint": "BasicMagics",
                "colors": "BasicMagics",
                "xmode": "BasicMagics",
                "quickref": "BasicMagics",
                "doctest_mode": "BasicMagics",
                "gui": "BasicMagics",
                "precision": "BasicMagics",
                "notebook": "BasicMagics",
                "save": "CodeMagics",
                "pastebin": "CodeMagics",
                "loadpy": "CodeMagics",
                "load": "CodeMagics",
                "edit": "KernelMagics",
                "config": "ConfigMagics",
                "prun": "ExecutionMagics",
                "pdb": "ExecutionMagics",
                "debug": "ExecutionMagics",
                "tb": "ExecutionMagics",
                "run": "ExecutionMagics",
                "timeit": "ExecutionMagics",
                "time": "ExecutionMagics",
                "macro": "ExecutionMagics",
                "load_ext": "ExtensionMagics",
                "unload_ext": "ExtensionMagics",
                "reload_ext": "ExtensionMagics",
                "history": "HistoryMagics",
                "recall": "HistoryMagics",
                "rerun": "HistoryMagics",
                "logstart": "LoggingMagics",
                "logstop": "LoggingMagics",
                "logoff": "LoggingMagics",
                "logon": "LoggingMagics",
                "logstate": "LoggingMagics",
                "pinfo": "NamespaceMagics",
                "pinfo2": "NamespaceMagics",
                "pdef": "NamespaceMagics",
                "pdoc": "NamespaceMagics",
                "psource": "NamespaceMagics",
                "pfile": "NamespaceMagics",
                "psearch": "NamespaceMagics",
                "who_ls": "NamespaceMagics",
                "who": "NamespaceMagics",
                "whos": "NamespaceMagics",
                "reset": "NamespaceMagics",
                "reset_selective": "NamespaceMagics",
                "xdel": "NamespaceMagics",
                "alias": "OSMagics",
                "unalias": "OSMagics",
                "rehashx": "OSMagics",
                "pwd": "OSMagics",
                "cd": "OSMagics",
                "env": "OSMagics",
                "set_env": "OSMagics",
                "pushd": "OSMagics",
                "popd": "OSMagics",
                "dirs": "OSMagics",
                "dhist": "OSMagics",
                "sc": "OSMagics",
                "sx": "OSMagics",
                "system": "OSMagics",
                "bookmark": "OSMagics",
                "pycat": "OSMagics",
                "matplotlib": "PylabMagics",
                "pylab": "PylabMagics",
                "killbgscripts": "ScriptMagics",
                "ed": "Other",
                "hist": "Other",
                "rep": "Other",
                "clear": "KernelMagics",
                "less": "KernelMagics",
                "more": "KernelMagics",
                "man": "KernelMagics",
                "connect_info": "KernelMagics",
                "qtconsole": "KernelMagics",
                "autosave": "KernelMagics",
                "mkdir": "Other",
                "rmdir": "Other",
                "mv": "Other",
                "rm": "Other",
                "cp": "Other",
                "cat": "Other",
                "ls": "Other",
                "ll": "Other",
                "lf": "Other",
                "lk": "Other",
                "ldir": "Other",
                "lx": "Other",
                "store": "StoreMagics",
                "shell": "Other",
                "pip": "Other",
                "tensorflow_version": "Other"
              },
              "cell": {
                "js": "DisplayMagics",
                "javascript": "DisplayMagics",
                "latex": "DisplayMagics",
                "svg": "DisplayMagics",
                "html": "DisplayMagics",
                "prun": "ExecutionMagics",
                "debug": "ExecutionMagics",
                "timeit": "ExecutionMagics",
                "time": "ExecutionMagics",
                "capture": "ExecutionMagics",
                "sx": "OSMagics",
                "system": "OSMagics",
                "!": "OSMagics",
                "writefile": "OSMagics",
                "script": "ScriptMagics",
                "sh": "Other",
                "bash": "Other",
                "perl": "Other",
                "ruby": "Other",
                "python": "Other",
                "python2": "Other",
                "python3": "Other",
                "pypy": "Other",
                "SVG": "Other",
                "HTML": "Other",
                "file": "Other",
                "bigquery": "Other",
                "shell": "Other"
              }
            }
          },
          "metadata": {},
          "execution_count": 3
        }
      ]
    },
    {
      "cell_type": "markdown",
      "source": [
        "##### %%time\n"
      ],
      "metadata": {
        "id": "b20JMwXFf4ni"
      }
    },
    {
      "cell_type": "markdown",
      "source": [
        "`%time`, `%%time` : 実行時間を計測する  \n",
        "`%timeit`, `%%timeit` : n回の平均実行時間を計測する"
      ],
      "metadata": {
        "id": "VPVHzu32fVMi"
      }
    },
    {
      "cell_type": "code",
      "source": [
        "%%time\n",
        "import time\n",
        "time.sleep(1)"
      ],
      "metadata": {
        "colab": {
          "base_uri": "https://localhost:8080/"
        },
        "id": "olhS1i9jfwfv",
        "outputId": "c3595732-e414-49e1-9903-0ffa4aa43a43"
      },
      "execution_count": null,
      "outputs": [
        {
          "output_type": "stream",
          "name": "stdout",
          "text": [
            "CPU times: user 876 µs, sys: 1 ms, total: 1.88 ms\n",
            "Wall time: 1 s\n"
          ]
        }
      ]
    },
    {
      "cell_type": "code",
      "source": [
        "%timeit -n 2 time.sleep(0.1)"
      ],
      "metadata": {
        "colab": {
          "base_uri": "https://localhost:8080/"
        },
        "id": "94Vdz4rqMCws",
        "outputId": "4b94ebd4-d399-4f10-c462-10249ec5477a"
      },
      "execution_count": null,
      "outputs": [
        {
          "output_type": "stream",
          "name": "stdout",
          "text": [
            "2 loops, best of 5: 100 ms per loop\n"
          ]
        }
      ]
    },
    {
      "cell_type": "markdown",
      "source": [
        "ヘルプを表示する"
      ],
      "metadata": {
        "id": "pbutokBGgkiJ"
      }
    },
    {
      "cell_type": "code",
      "source": [
        "import numpy as np\n",
        "np.sort?"
      ],
      "metadata": {
        "id": "09O8RcErLfBZ"
      },
      "execution_count": null,
      "outputs": []
    },
    {
      "cell_type": "code",
      "source": [
        "# 変数一覧を表示\n",
        "hoge=1\n",
        "%who"
      ],
      "metadata": {
        "colab": {
          "base_uri": "https://localhost:8080/"
        },
        "id": "FzwC6DBXL2oQ",
        "outputId": "cb8d1982-eb29-43af-ff20-4e48085cf52e"
      },
      "execution_count": null,
      "outputs": [
        {
          "output_type": "stream",
          "name": "stdout",
          "text": [
            "hoge\t np\t time\t torch\t \n"
          ]
        }
      ]
    },
    {
      "cell_type": "code",
      "source": [
        "%whos"
      ],
      "metadata": {
        "colab": {
          "base_uri": "https://localhost:8080/"
        },
        "id": "sxE2MIiBL-H8",
        "outputId": "d61b8944-583d-45f8-9516-c8bc5eafa06d"
      },
      "execution_count": null,
      "outputs": [
        {
          "output_type": "stream",
          "name": "stdout",
          "text": [
            "Variable   Type      Data/Info\n",
            "------------------------------\n",
            "hoge       int       1\n",
            "np         module    <module 'numpy' from '/us<...>kages/numpy/__init__.py'>\n",
            "time       module    <module 'time' (built-in)>\n",
            "torch      module    <module 'torch' from '/us<...>kages/torch/__init__.py'>\n"
          ]
        }
      ]
    },
    {
      "cell_type": "code",
      "source": [
        "!echo \"print('Hello, World!')\" > hello.py # hello.pyを作成"
      ],
      "metadata": {
        "id": "sHv0V3aVM8VQ"
      },
      "execution_count": null,
      "outputs": []
    },
    {
      "cell_type": "code",
      "source": [
        "# ファイルの内容を表示\n",
        "%pycat hello.py"
      ],
      "metadata": {
        "id": "7RK5f3LXNDbh"
      },
      "execution_count": null,
      "outputs": []
    },
    {
      "cell_type": "code",
      "source": [
        "# hello.pyを実行\n",
        "%run hello.py"
      ],
      "metadata": {
        "colab": {
          "base_uri": "https://localhost:8080/"
        },
        "id": "AF8Ze-lOiZ1N",
        "outputId": "a38cf0b4-c84c-48fb-8484-20b25717d6e3"
      },
      "execution_count": null,
      "outputs": [
        {
          "output_type": "stream",
          "name": "stdout",
          "text": [
            "Hello, World!\n"
          ]
        }
      ]
    },
    {
      "cell_type": "markdown",
      "source": [
        "## 機械学習のきもち\n",
        "今回は、**ノーコード**で機械学習モデルを構築して予測するサンプルを作ってみたので気楽に遊んでみてください。\n",
        "\n",
        "irisデータセットを使います。  \n",
        "irisデータセットは品種ごとのアヤメの花弁とがくの大きさとその品種を記録したデータセットです  \n",
        "<img src=\"https://drive.google.com/uc?id=12mZnOwwsIcUAeDw4mQUDrQ1o89L5MoAS\" alt=\"By No machine-readable author provided. Dlanglois assumed (based on copyright claims). - No machine-readable source provided. Own work assumed (based on copyright claims)., CC BY-SA 3.0, https://commons.wikimedia.org/w/index.php?curid=248095\n",
        "\" width=\"300px\">  \n",
        "Iris versicolorの花弁\n",
        "> 実は歴史が深い[Iris flower data set - Wikipedia](https://en.wikipedia.org/wiki/Iris_flower_data_set)\n",
        "\n",
        "---\n",
        "以降たくさんコードがありますが、上から順に実行するだけでも動きます。  \n",
        "興味がある人はコードを眺めてみると、なんとなく雰囲気が分かると思います  \n",
        "numpyやpandas(第3回)、scikit-klearn(第4回)などの各ライブラリの使い方や、機械学習手法の詳細については今後の講習会で触れることになるので乞うご期待です。"
      ],
      "metadata": {
        "id": "IxvIy30Lq-O1"
      }
    },
    {
      "cell_type": "code",
      "source": [
        "#@title 前準備\n",
        "#@markdown コードを非表示にしていますが中で色々準備してます  \n",
        "\n",
        "SEED = 1\n",
        "padding = 0.5\n",
        "\n",
        "#@markdown 1. ライブラリのインポート\n",
        "import pandas as pd # \"pan\"el \"da\"ta 表形式のデータの操作・分析に便利\n",
        "import numpy as np # 高速な数値計算・行列計算\n",
        "from sklearn.datasets import load_iris # scikit learnという化学計算ライブラリからirisデータセットをロードする\n",
        "from sklearn.model_selection import train_test_split\n",
        "from sklearn.metrics import accuracy_score\n",
        "import matplotlib.pyplot as plt\n",
        "\n",
        "#################################\n",
        "\n",
        "#@markdown 2. データセットの準備\n",
        "#   X_train        :  訓練データ\n",
        "#   y_train        :  訓練ラベル\n",
        "#   X_test         :  テストデータ\n",
        "#   y_test         :  訓練ラベル\n",
        "#   feature_names  :  データの特徴量 今回はがく(sepal)と花弁(petel)の長さに関する情報\n",
        "#   target_names   :  目的変数の名前 今回は花の品種\n",
        "\n",
        "# データセットをロードする\n",
        "data = load_iris()\n",
        "X, y = data['data'], data['target']\n",
        "feature_names = data['feature_names']\n",
        "target_names = data['target_names']\n",
        "\n",
        "# pandas形式にする\n",
        "\n",
        "# X, y = X[y!=0], y[y!=0]\n",
        "# np.place(y, y == 2, 0)\n",
        "# X = pd.DataFrame(X, columns = feature_names)\n",
        "\n",
        "# 今回使う特徴量（sepal length (cm), petep length (cm)）のみ選択\n",
        "feature_name=['sepal length (cm)', 'petal length (cm)']\n",
        "X = X[:,[0,2]]\n",
        "\n",
        "# train, test分割\n",
        "X_train, X_test, y_train, y_test = train_test_split(X, y , test_size=0.2,random_state=SEED, stratify=y)\n",
        "\n",
        "#################################\n",
        "\n",
        "#@markdown 3. 分類器の設定\n",
        "\n",
        "from sklearn.linear_model import LogisticRegression\n",
        "from sklearn.tree import DecisionTreeClassifier\n",
        "from sklearn.ensemble import RandomForestClassifier\n",
        "from sklearn.svm import SVC\n",
        "\n",
        "# 実は使ってない\n",
        "Estimators = {model.__name__: model for model in [LogisticRegression, DecisionTreeClassifier, RandomForestClassifier, SVC]}\n",
        "Estimator_names = list(Estimators.keys())\n",
        "\n",
        "# 学習して分類器を返す\n",
        "def get_clf(Estimator, X, y, params = None):\n",
        "    if params is None:\n",
        "        params = {}\n",
        "    clf = Estimator(**params)\n",
        "    clf.fit(X, y)\n",
        "    return clf\n",
        "    \n",
        "#################################\n",
        "\n",
        "# @markdown 4. 描画の設定\n",
        "# 散布図を描画 x軸は長さ、y軸は幅\n",
        "\n",
        "# 描画の設定\n",
        "colors = ['tab:blue', 'tab:orange', 'tab:green']\n",
        "markers = {'train': 'x', 'test':'^'}\n",
        "\n",
        "x_min, x_max = X[:,0].min(), X[:,0].max()\n",
        "y_min, y_max = X[:,1].min(), X[:,1].max()\n",
        "step = 0.01\n",
        "padding = 0.5\n",
        "\n",
        "def plot_figure(X, y, ax=None, data_type=None):\n",
        "    marker = 'x' if data_type is None else markers[data_type]\n",
        "    if ax is None:\n",
        "        fig, ax = plt.subplots(figsize=(6, 5))\n",
        "    for i in range(3):\n",
        "        target_name = target_names[i]\n",
        "        X_sel, y_sel = X[y==i], y[y==i]\n",
        "        label = target_name if data_type is None else target_name+'_'+data_type\n",
        "        plt.scatter(X_sel[:,0], X_sel[:,1], label=label, marker=marker, c=f'C{i}')\n",
        "    ax.set_xlabel(feature_names[0])\n",
        "    ax.set_ylabel(feature_names[1])\n",
        "    plt.legend(loc='lower right')\n",
        "    plt.xlim(x_min - padding, x_max + padding)\n",
        "    plt.ylim(y_min - padding, y_max + padding)\n",
        "  \n",
        "def display_decision_boundaries(clf, ax=None):\n",
        "    if ax is None:\n",
        "        fig, ax = plt.subplots(figsize=(6, 5))\n",
        "    xx, yy = np.meshgrid(np.arange(x_min-padding, x_max+padding, step), np.arange(y_min-padding, y_max+padding, step))\n",
        "    z = clf.predict(np.array([xx.ravel(), yy.ravel()]).T)\n",
        "    ax.contourf(xx, yy, z.reshape(xx.shape), levels=2, alpha=0.2, colors = colors)\n",
        "def show_score(clf, X, y, data_type):\n",
        "  y_pred = clf.predict(X)\n",
        "  score = accuracy_score(y, y_pred)\n",
        "  print(f'{data_type:5s} : accuracy_score= {score:1.3f}')\n",
        "fig, ax = plt.subplots(figsize=(6, 5))\n",
        "plot_figure(X_train, y_train, ax=ax, data_type=None)"
      ],
      "metadata": {
        "colab": {
          "base_uri": "https://localhost:8080/",
          "height": 334
        },
        "id": "ZdY_u8YCrHGT",
        "outputId": "a24a7d48-9f1d-4a99-a6a5-21bb784e48ed",
        "cellView": "form"
      },
      "execution_count": null,
      "outputs": [
        {
          "output_type": "display_data",
          "data": {
            "text/plain": [
              "<Figure size 432x360 with 1 Axes>"
            ],
            "image/png": "[encoded data removed]"
          },
          "metadata": {
            "needs_background": "light"
          }
        }
      ]
    },
    {
      "cell_type": "markdown",
      "source": [
        "### SVC(Support Vector Classification)によるirisデータセットの学習\n",
        "[SVC](https://scikit-learn.org/stable/modules/generated/sklearn.svm.SVC.html)\n",
        "\n",
        "#### パラメータ\n",
        "- `C` : 大きいほど誤りに関するペナルティを重くする\n",
        "- `kernel`\n",
        "  - ガウシアンカーネル(rbf)\n",
        "  - 線形カーネル(linear)\n",
        "  - 多項式カーネル(poly)\n",
        "- `gamma`: カーネルのパラメータ(linearでは関係ない)\n",
        "パラメータを変えて遊ぶとなんとなくイメージが湧くと思います。"
      ],
      "metadata": {
        "id": "BV8_XQQ6rLfB"
      }
    },
    {
      "cell_type": "code",
      "source": [
        "#@title SVCの学習\n",
        "C = 42.3 #@param {type:\"slider\", min:0.1, max:100.0, step:0.1}\n",
        "kernel = 'poly' #@param ['rbf', 'linear', 'poly']\n",
        "gamma = 0.1 #@param {type:\"slider\", min:0.1, max:10.0, step:0.1}\n",
        "params = {\n",
        "    'C': C,\n",
        "    'kernel': kernel,\n",
        "    'gamma': gamma,\n",
        "}\n",
        "clf = get_clf(SVC, X_train, y_train, params)\n",
        "\n",
        "# display result\n",
        "fig, ax = plt.subplots(figsize=(6, 5))\n",
        "display_decision_boundaries(clf, ax=ax)\n",
        "plot_figure(X_train, y_train, ax=ax, data_type=None)\n",
        "\n",
        "plt.show()\n",
        "# show score (accuracy)\n",
        "print(params)\n",
        "show_score(clf, X_train, y_train, 'train')\n"
      ],
      "metadata": {
        "colab": {
          "base_uri": "https://localhost:8080/",
          "height": 370
        },
        "cellView": "form",
        "id": "Gpd_3Gl6rKSt",
        "outputId": "456df245-ba01-44cf-b9a2-cbbc52fee7c3"
      },
      "execution_count": null,
      "outputs": [
        {
          "output_type": "display_data",
          "data": {
            "text/plain": [
              "<Figure size 432x360 with 1 Axes>"
            ],
            "image/png": "[encoded data removed]"
          },
          "metadata": {
            "needs_background": "light"
          }
        },
        {
          "output_type": "stream",
          "name": "stdout",
          "text": [
            "{'C': 42.3, 'kernel': 'poly', 'gamma': 0.1}\n",
            "train : accuracy_score= 0.958\n"
          ]
        }
      ]
    },
    {
      "cell_type": "markdown",
      "source": [
        "accuracy_scoreは正解率を示す評価指標です。（でも実際には正解率あんまり使わない）\n",
        "\n",
        "それぞれの色の領域は分類器がある特徴量のときどのように分類しているかを示しています。  \n",
        "この領域の境目のことを決定境界と呼びます。"
      ],
      "metadata": {
        "id": "0LRDoFfarPmC"
      }
    },
    {
      "cell_type": "code",
      "source": [
        "#@title テストデータ de 検証\n",
        "# display result\n",
        "fig, ax = plt.subplots(figsize=(6, 5))\n",
        "display_decision_boundaries(clf, ax=ax)\n",
        "plot_figure(X_train, y_train, ax=ax, data_type='train')\n",
        "plot_figure(X_test, y_test, ax=ax, data_type='test')\n",
        "plt.show()\n",
        "# show score (accuracy)\n",
        "print(params)\n",
        "show_score(clf, X_train, y_train, 'train')\n",
        "show_score(clf, X_test, y_test, 'test')"
      ],
      "metadata": {
        "colab": {
          "base_uri": "https://localhost:8080/",
          "height": 388
        },
        "cellView": "form",
        "id": "FqY3oBqhrY7s",
        "outputId": "f1870842-025a-4c4f-d068-281ec1940d3c"
      },
      "execution_count": null,
      "outputs": [
        {
          "output_type": "display_data",
          "data": {
            "text/plain": [
              "<Figure size 432x360 with 1 Axes>"
            ],
            "image/png": "[encoded data removed]"
          },
          "metadata": {
            "needs_background": "light"
          }
        },
        {
          "output_type": "stream",
          "name": "stdout",
          "text": [
            "{'C': 83.8, 'kernel': 'poly', 'gamma': 1.0}\n",
            "train : accuracy_score= 0.958\n",
            "test  : accuracy_score= 0.933\n"
          ]
        }
      ]
    },
    {
      "cell_type": "markdown",
      "source": [
        "---\n",
        "### 結果色々"
      ],
      "metadata": {
        "id": "402ig9uKreJz"
      }
    },
    {
      "cell_type": "code",
      "source": [
        "#@title 1. rbfカーネル(1)\n",
        "C = 100\n",
        "kernel = 'rbf'\n",
        "gamma = 10\n",
        "params = {\n",
        "    'C': C,\n",
        "    'kernel': kernel,\n",
        "    'gamma': gamma,\n",
        "}\n",
        "clf = get_clf(SVC, X_train, y_train, params)\n",
        "\n",
        "# display result\n",
        "fig, ax = plt.subplots(figsize=(6, 5))\n",
        "display_decision_boundaries(clf, ax=ax)\n",
        "plot_figure(X_train, y_train, ax=ax, data_type=None)\n",
        "plot_figure(X_test, y_test, ax=ax, data_type='test')\n",
        "\n",
        "plt.show()\n",
        "# show score (accuracy)\n",
        "print(params)\n",
        "\n",
        "show_score(clf, X_train, y_train, 'train')\n",
        "show_score(clf, X_test, y_test, 'test')"
      ],
      "metadata": {
        "colab": {
          "base_uri": "https://localhost:8080/",
          "height": 388
        },
        "cellView": "form",
        "id": "F1Q-dwoerfcW",
        "outputId": "3fae8a5c-09c1-4231-8751-5e99064bc3d5"
      },
      "execution_count": null,
      "outputs": [
        {
          "output_type": "display_data",
          "data": {
            "text/plain": [
              "<Figure size 432x360 with 1 Axes>"
            ],
            "image/png": "[encoded data removed]"
          },
          "metadata": {
            "needs_background": "light"
          }
        },
        {
          "output_type": "stream",
          "name": "stdout",
          "text": [
            "{'C': 100, 'kernel': 'rbf', 'gamma': 10}\n",
            "train : accuracy_score= 0.992\n",
            "test  : accuracy_score= 0.900\n"
          ]
        }
      ]
    },
    {
      "cell_type": "markdown",
      "source": [
        "訓練データの正解率はほぼ1に近いですが、testデータのスコアは下がっています。  \n",
        "訓練データを完璧に識別しようとした結果、testのvirginicaのをversicolorに分類してしまっています。  \n",
        "このように、訓練データに合わせすぎて未知のデータを誤識別してしまうことを**過適合**といいます。"
      ],
      "metadata": {
        "id": "J4jMXEgVriEn"
      }
    },
    {
      "cell_type": "code",
      "source": [
        "#@title case 2. polyカーネル\n",
        "C = 1\n",
        "kernel = 'poly'\n",
        "gamma = 0.5\n",
        "params = {\n",
        "    'C': C,\n",
        "    'kernel': kernel,\n",
        "    'gamma': gamma,\n",
        "}\n",
        "clf = get_clf(SVC, X_train, y_train, params)\n",
        "\n",
        "# display result\n",
        "fig, ax = plt.subplots(figsize=(6, 5))\n",
        "display_decision_boundaries(clf, ax=ax)\n",
        "plot_figure(X_train, y_train, ax=ax, data_type=None)\n",
        "plot_figure(X_test, y_test, ax=ax, data_type='test')\n",
        "\n",
        "plt.show()\n",
        "# show score (accuracy)\n",
        "params\n",
        "show_score(clf, X_train, y_train, 'train')\n",
        "show_score(clf, X_test, y_test, 'test')"
      ],
      "metadata": {
        "colab": {
          "base_uri": "https://localhost:8080/",
          "height": 370
        },
        "cellView": "form",
        "id": "67ZxWAb5rfUC",
        "outputId": "be93e520-60c3-442d-fc46-4f3288b970ac"
      },
      "execution_count": null,
      "outputs": [
        {
          "output_type": "display_data",
          "data": {
            "text/plain": [
              "<Figure size 432x360 with 1 Axes>"
            ],
            "image/png": "[encoded data removed]"
          },
          "metadata": {
            "needs_background": "light"
          }
        },
        {
          "output_type": "stream",
          "name": "stdout",
          "text": [
            "train : accuracy_score= 0.958\n",
            "test  : accuracy_score= 0.967\n"
          ]
        }
      ]
    },
    {
      "cell_type": "code",
      "source": [
        "#@title case 1. linearカーネル\n",
        "C = 1\n",
        "kernel = 'linear'\n",
        "gamma = 10\n",
        "params = {\n",
        "    'C': C,\n",
        "    'kernel': kernel,\n",
        "}\n",
        "clf = get_clf(SVC, X_train, y_train, params)\n",
        "\n",
        "# display result\n",
        "fig, ax = plt.subplots(figsize=(6, 5))\n",
        "display_decision_boundaries(clf, ax=ax)\n",
        "plot_figure(X_train, y_train, ax=ax, data_type=None)\n",
        "plot_figure(X_test, y_test, ax=ax, data_type='test')\n",
        "\n",
        "plt.show()\n",
        "# show score (accuracy)\n",
        "params\n",
        "show_score(clf, X_train, y_train, 'train')\n",
        "show_score(clf, X_test, y_test, 'test')"
      ],
      "metadata": {
        "colab": {
          "base_uri": "https://localhost:8080/",
          "height": 370
        },
        "cellView": "form",
        "id": "7XyMEZIArfJF",
        "outputId": "49e1f0d3-efcf-475a-cc0f-1b8f731364d6"
      },
      "execution_count": null,
      "outputs": [
        {
          "output_type": "display_data",
          "data": {
            "text/plain": [
              "<Figure size 432x360 with 1 Axes>"
            ],
            "image/png": "[encoded data removed]"
          },
          "metadata": {
            "needs_background": "light"
          }
        },
        {
          "output_type": "stream",
          "name": "stdout",
          "text": [
            "train : accuracy_score= 0.958\n",
            "test  : accuracy_score= 0.967\n"
          ]
        }
      ]
    },
    {
      "cell_type": "markdown",
      "source": [
        "訓練データにない外れ値を正しく学習するのは非常に難しい"
      ],
      "metadata": {
        "id": "12fYSm67rnuD"
      }
    },
    {
      "cell_type": "markdown",
      "source": [
        "## Pythonの復習をしよう！\n",
        "Pythonの解説とかはしません！  \n",
        "この課題は新入生などPythonにまだ慣れてない人向けにPythonの使い方を思い出してもらうことを目的とした課題です。  \n",
        "もう分かってるよ！っていう人の演習は用意してないです（ごめんなさい！）\n",
        "\n",
        "\n",
        "[Python早見表](https://chokkan.github.io/python/index.html)"
      ],
      "metadata": {
        "id": "LvBA4G8S_Ej2"
      }
    },
    {
      "cell_type": "markdown",
      "source": [
        "### A. トリボナッチ数列を求めよう！\n",
        "（引用元）https://atcoder.jp/contests/abc006/tasks/abc006_2  \n",
        ">ちなみに今年の手続き型プログラミング基礎の演習課題の一つは、この問題をC言語で実装せよというものでした\n",
        "\n",
        "トリボナッチ数列というものがあります。この数列は3つ前までの数字を足したものです。\n",
        "厳密には、\n",
        "1. $a_1 = 0,a_2 = 0,a_3 = 1$\n",
        "2. $a_n = a_{n-1} + a_{n-2} + a_{n-3}$\n",
        "\n",
        "と定義されています。参考までに、トリボナッチ数列表を掲載します。\n",
        "\n",
        "\n",
        "\n",
        "| #    | $a_1$ | $a_2$ | $a_3$ | $a_4$ | $a_5$ | $a_6$ | $a_7$ | $a_8$ | ...... | $a_n$                                         |\n",
        "| :--- | :------ | :------ | :------ | :------ | :------ | :------ | :------ | :------ | :----- | :------------------------------------------------ |\n",
        "| 値   | 0       | 0       | 1       | 1       | 2       | 4       | 7       | 13      | ...... | $a_{n-1}+a_{n-2}+a_{n-3}$ |\n",
        "\n",
        "この数列の第 $n$ 項、$a_n$ を $10007$ で割った余りを求めてください。\n",
        "\n",
        "ヒント\n",
        "> pythonつまみぐいの資料にフィボナッチ数列とメモ化の話が載っているのでそれを~~パクり~~参考にましょう"
      ],
      "metadata": {
        "id": "_ziSCYpv_noZ"
      }
    },
    {
      "cell_type": "markdown",
      "source": [
        "#### 1. for文を使って解こう\n",
        "for文を用いてトリボナッチ数列を求めるプログラムを実装し，$a_{30}$のときの値を求めよう"
      ],
      "metadata": {
        "id": "A2f74Xw4kLOn"
      }
    },
    {
      "cell_type": "code",
      "source": [
        ""
      ],
      "metadata": {
        "id": "cG6BgrTtH6TN"
      },
      "execution_count": null,
      "outputs": []
    },
    {
      "cell_type": "markdown",
      "source": [
        "#### 2. 再帰関数を使って解こう\n",
        "再帰関数によって`tribonacci_recursive`関数を実装し、$a_{30}$のときの値を求めよう"
      ],
      "metadata": {
        "id": "5fe36ewKG7A0"
      }
    },
    {
      "cell_type": "code",
      "source": [
        ""
      ],
      "metadata": {
        "id": "HAXOnGTgG58Y"
      },
      "execution_count": null,
      "outputs": []
    },
    {
      "cell_type": "markdown",
      "source": [
        "#### 3. メモ化再帰を使って解こう\n",
        "メモ再帰関数によって`tribonacci_memo`関数を実装し、$a_{30}$のときの値を求めよう"
      ],
      "metadata": {
        "id": "0xZcynlnHwTP"
      }
    },
    {
      "cell_type": "code",
      "source": [
        ""
      ],
      "metadata": {
        "id": "1Ls85jpe_Dq2"
      },
      "execution_count": null,
      "outputs": []
    },
    {
      "cell_type": "markdown",
      "source": [
        "### 4. 速度比較をしよう\n",
        "`%%timeit`を使って`tribonacci_recursive`と`tribonacci_memo`の実行速度を比較しよう  \n",
        "なぜそのような結果になったのか、自分なりに考えてみてください"
      ],
      "metadata": {
        "id": "Q8-8WyjyIvgA"
      }
    },
    {
      "cell_type": "code",
      "source": [
        ""
      ],
      "metadata": {
        "id": "zICfizZTJhvY"
      },
      "execution_count": null,
      "outputs": []
    }
  ]
}
