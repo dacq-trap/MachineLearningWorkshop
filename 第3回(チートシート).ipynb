{
  "cells": [
    {
      "cell_type": "markdown",
      "metadata": {
        "id": "view-in-github",
        "colab_type": "text"
      },
      "source": [
        "<a href=\"https://colab.research.google.com/github/dacq-trap/MachineLearningWorkshop/blob/main/%E7%AC%AC3%E5%9B%9E(%E3%83%81%E3%83%BC%E3%83%88%E3%82%B7%E3%83%BC%E3%83%88).ipynb\" target=\"_parent\"><img src=\"https://colab.research.google.com/assets/colab-badge.svg\" alt=\"Open In Colab\"/></a>"
      ]
    },
    {
      "cell_type": "markdown",
      "id": "93e51677-1d38-444d-8e61-d6043bcf5b55",
      "metadata": {
        "id": "93e51677-1d38-444d-8e61-d6043bcf5b55"
      },
      "source": [
        "# NumPy Pandas チートシート"
      ]
    },
    {
      "cell_type": "markdown",
      "id": "d69f4b81-ee5e-4af3-8c57-2863d967b39e",
      "metadata": {
        "id": "d69f4b81-ee5e-4af3-8c57-2863d967b39e"
      },
      "source": [
        "## Numpy"
      ]
    },
    {
      "cell_type": "markdown",
      "source": [
        "参考資料 [16. NumPy (1): ベクトル — Python早見帳](https://chokkan.github.io/python/16numpy1.html)"
      ],
      "metadata": {
        "id": "Ncv0OplayYn8"
      },
      "id": "Ncv0OplayYn8"
    },
    {
      "cell_type": "code",
      "source": [
        ""
      ],
      "metadata": {
        "id": "cZ3TlueVyYTC"
      },
      "id": "cZ3TlueVyYTC",
      "execution_count": null,
      "outputs": []
    },
    {
      "cell_type": "markdown",
      "id": "ef0100ed-2fad-4177-a62c-8270ac0a5d41",
      "metadata": {
        "id": "ef0100ed-2fad-4177-a62c-8270ac0a5d41"
      },
      "source": [
        "ndarrayというものを扱ってベクトルとか行列を操作する"
      ]
    },
    {
      "cell_type": "code",
      "execution_count": null,
      "id": "0ce1ba73-ddf5-493a-8c57-16a3769f0565",
      "metadata": {
        "id": "0ce1ba73-ddf5-493a-8c57-16a3769f0565"
      },
      "outputs": [],
      "source": [
        "import numpy as np"
      ]
    },
    {
      "cell_type": "markdown",
      "id": "328911f0-8e1f-4c23-9fb8-674033b947a5",
      "metadata": {
        "id": "328911f0-8e1f-4c23-9fb8-674033b947a5"
      },
      "source": [
        "基本は`np.array`"
      ]
    },
    {
      "cell_type": "code",
      "execution_count": null,
      "id": "6fbc8955-a18d-49e3-a346-69d4142a0b02",
      "metadata": {
        "colab": {
          "base_uri": "https://localhost:8080/"
        },
        "id": "6fbc8955-a18d-49e3-a346-69d4142a0b02",
        "outputId": "b9320435-d11b-4920-b657-ae7a8ec77ea3"
      },
      "outputs": [
        {
          "output_type": "execute_result",
          "data": {
            "text/plain": [
              "array([1, 2, 3, 4, 5])"
            ]
          },
          "metadata": {},
          "execution_count": 82
        }
      ],
      "source": [
        "# ベクトル\n",
        "a = np.array([1,2,3,4,5])\n",
        "b = np.array([7,8,9,10,11])\n",
        "a"
      ]
    },
    {
      "cell_type": "code",
      "execution_count": null,
      "id": "89427bbb-27d0-4df8-ae43-0113fd7228d8",
      "metadata": {
        "colab": {
          "base_uri": "https://localhost:8080/"
        },
        "id": "89427bbb-27d0-4df8-ae43-0113fd7228d8",
        "outputId": "602bdc58-0d03-41e1-b781-2b4c7cd38a29"
      },
      "outputs": [
        {
          "output_type": "execute_result",
          "data": {
            "text/plain": [
              "array([[1, 2, 3],\n",
              "       [4, 5, 6],\n",
              "       [7, 8, 9]])"
            ]
          },
          "metadata": {},
          "execution_count": 83
        }
      ],
      "source": [
        "# 行列\n",
        "A = np.array([[1,2,3],[4,5,6],[7,8,9]])\n",
        "B = np.array([[1,3,2], [4,3,1], [1,3,4]])\n",
        "A"
      ]
    },
    {
      "cell_type": "code",
      "execution_count": null,
      "id": "24a4e487-7c27-4bd9-baab-aafa595b4683",
      "metadata": {
        "colab": {
          "base_uri": "https://localhost:8080/"
        },
        "id": "24a4e487-7c27-4bd9-baab-aafa595b4683",
        "outputId": "957ac9ef-07da-4b5d-fde2-daeca0ffd516"
      },
      "outputs": [
        {
          "output_type": "execute_result",
          "data": {
            "text/plain": [
              "array([0, 1, 2, 3, 4, 5, 6, 7, 8, 9])"
            ]
          },
          "metadata": {},
          "execution_count": 84
        }
      ],
      "source": [
        "# rangeからもできる\n",
        "np.array(range(10))"
      ]
    },
    {
      "cell_type": "markdown",
      "id": "8b6335c8-8140-41d8-b74d-ef7a0163f9ac",
      "metadata": {
        "id": "8b6335c8-8140-41d8-b74d-ef7a0163f9ac"
      },
      "source": [
        "### アクセスいろいろ"
      ]
    },
    {
      "cell_type": "code",
      "execution_count": null,
      "id": "9c475392-f1f9-40b7-bd14-c9d1e37f5e60",
      "metadata": {
        "colab": {
          "base_uri": "https://localhost:8080/"
        },
        "id": "9c475392-f1f9-40b7-bd14-c9d1e37f5e60",
        "outputId": "8391dabc-d727-4eef-bc32-a2606b493632"
      },
      "outputs": [
        {
          "output_type": "execute_result",
          "data": {
            "text/plain": [
              "1"
            ]
          },
          "metadata": {},
          "execution_count": 85
        }
      ],
      "source": [
        "a[0]"
      ]
    },
    {
      "cell_type": "code",
      "execution_count": null,
      "id": "c5c11914-cede-47fc-b441-4cc16798affb",
      "metadata": {
        "colab": {
          "base_uri": "https://localhost:8080/"
        },
        "id": "c5c11914-cede-47fc-b441-4cc16798affb",
        "outputId": "15f9b1c7-ef3d-4deb-a91f-d735348e94a7"
      },
      "outputs": [
        {
          "output_type": "execute_result",
          "data": {
            "text/plain": [
              "array([1, 2, 3])"
            ]
          },
          "metadata": {},
          "execution_count": 86
        }
      ],
      "source": [
        "# 0, 1, 2番目の要素にアクセス\n",
        "a[[0,1,2]]"
      ]
    },
    {
      "cell_type": "code",
      "execution_count": null,
      "id": "6e830e8d-ece4-4032-a1f6-c5f52ef85a21",
      "metadata": {
        "colab": {
          "base_uri": "https://localhost:8080/"
        },
        "id": "6e830e8d-ece4-4032-a1f6-c5f52ef85a21",
        "outputId": "bb965b81-06dc-4084-b520-febd99b7ab08"
      },
      "outputs": [
        {
          "output_type": "execute_result",
          "data": {
            "text/plain": [
              "array([False,  True,  True,  True,  True])"
            ]
          },
          "metadata": {},
          "execution_count": 87
        }
      ],
      "source": [
        "# 条件\n",
        "a>1"
      ]
    },
    {
      "cell_type": "markdown",
      "id": "8fc86145-c2d6-44d5-aaa0-21b0fefe421d",
      "metadata": {
        "id": "8fc86145-c2d6-44d5-aaa0-21b0fefe421d"
      },
      "source": [
        "`&`(and) とか`|`(or)とか`~`(not)"
      ]
    },
    {
      "cell_type": "code",
      "execution_count": null,
      "id": "476cc8c9-bfcf-46e2-a96f-39ec69ab2fb5",
      "metadata": {
        "colab": {
          "base_uri": "https://localhost:8080/"
        },
        "id": "476cc8c9-bfcf-46e2-a96f-39ec69ab2fb5",
        "outputId": "fe2919ef-2529-48ed-eec7-88ed3399f809"
      },
      "outputs": [
        {
          "output_type": "execute_result",
          "data": {
            "text/plain": [
              "array([False,  True,  True, False, False])"
            ]
          },
          "metadata": {},
          "execution_count": 88
        }
      ],
      "source": [
        "(a>1) & ~(a>3)"
      ]
    },
    {
      "cell_type": "markdown",
      "id": "43a952a7-3c9c-4257-9ada-b2ea65ed99f5",
      "metadata": {
        "id": "43a952a7-3c9c-4257-9ada-b2ea65ed99f5"
      },
      "source": [
        "条件で選択できる"
      ]
    },
    {
      "cell_type": "code",
      "execution_count": null,
      "id": "a10136b7-d8d7-4e3c-91e9-47029ad9e49b",
      "metadata": {
        "colab": {
          "base_uri": "https://localhost:8080/"
        },
        "id": "a10136b7-d8d7-4e3c-91e9-47029ad9e49b",
        "outputId": "63920dd0-3876-4873-c5bf-531a430cb8b8"
      },
      "outputs": [
        {
          "output_type": "execute_result",
          "data": {
            "text/plain": [
              "array([2, 3, 4, 5])"
            ]
          },
          "metadata": {},
          "execution_count": 89
        }
      ],
      "source": [
        "a[a>1]"
      ]
    },
    {
      "cell_type": "code",
      "execution_count": null,
      "id": "dd2d710b-581d-4828-82a5-97be2858f241",
      "metadata": {
        "colab": {
          "base_uri": "https://localhost:8080/"
        },
        "id": "dd2d710b-581d-4828-82a5-97be2858f241",
        "outputId": "532e47ad-4ddd-4e92-90d4-c9998100ac21"
      },
      "outputs": [
        {
          "output_type": "stream",
          "name": "stdout",
          "text": [
            "行0 [1 2 3]\n",
            "列0 [1 4 7]\n",
            "(0,0)の要素 1\n"
          ]
        }
      ],
      "source": [
        "print('行0', A[0])\n",
        "print('列0', A[:,0])\n",
        "print('(0,0)の要素', A[0,0])"
      ]
    },
    {
      "cell_type": "markdown",
      "id": "9e37ae92-26f0-4569-b8dc-d941c22fdc0c",
      "metadata": {
        "id": "9e37ae92-26f0-4569-b8dc-d941c22fdc0c"
      },
      "source": [
        "なんかこういうのもできる"
      ]
    },
    {
      "cell_type": "code",
      "execution_count": null,
      "id": "1dc867d2-4c2e-4ee4-915b-fbf5a5b0bf70",
      "metadata": {
        "colab": {
          "base_uri": "https://localhost:8080/"
        },
        "id": "1dc867d2-4c2e-4ee4-915b-fbf5a5b0bf70",
        "outputId": "8d107734-5740-4f90-acb5-acdca1cf8fda"
      },
      "outputs": [
        {
          "output_type": "execute_result",
          "data": {
            "text/plain": [
              "array([[1, 2, 3],\n",
              "       [4, 5, 6],\n",
              "       [7, 8, 9]])"
            ]
          },
          "metadata": {},
          "execution_count": 91
        }
      ],
      "source": [
        "A[:,[0,1,2]]"
      ]
    },
    {
      "cell_type": "markdown",
      "id": "bff4a6d1-5d9b-4708-acb6-0a3b31408cd0",
      "metadata": {
        "id": "bff4a6d1-5d9b-4708-acb6-0a3b31408cd0"
      },
      "source": [
        "listへの変換"
      ]
    },
    {
      "cell_type": "code",
      "execution_count": null,
      "id": "d223c947-5dd0-49be-a21a-56d065981677",
      "metadata": {
        "colab": {
          "base_uri": "https://localhost:8080/"
        },
        "id": "d223c947-5dd0-49be-a21a-56d065981677",
        "outputId": "303b4475-a383-4073-cfc3-b43c00142759"
      },
      "outputs": [
        {
          "output_type": "execute_result",
          "data": {
            "text/plain": [
              "[1, 2, 3, 4, 5]"
            ]
          },
          "metadata": {},
          "execution_count": 92
        }
      ],
      "source": [
        "a.tolist()"
      ]
    },
    {
      "cell_type": "markdown",
      "id": "ea5b7e82-23b8-4b00-81b5-e863913d80bf",
      "metadata": {
        "id": "ea5b7e82-23b8-4b00-81b5-e863913d80bf"
      },
      "source": [
        "要素数は`shape`"
      ]
    },
    {
      "cell_type": "code",
      "execution_count": null,
      "id": "4208d64f-d144-410a-8dd6-68fb27d1bcd4",
      "metadata": {
        "colab": {
          "base_uri": "https://localhost:8080/"
        },
        "id": "4208d64f-d144-410a-8dd6-68fb27d1bcd4",
        "outputId": "8da09459-8a4a-4a29-9cc3-b97d664fc08e"
      },
      "outputs": [
        {
          "output_type": "execute_result",
          "data": {
            "text/plain": [
              "(5,)"
            ]
          },
          "metadata": {},
          "execution_count": 93
        }
      ],
      "source": [
        "a.shape"
      ]
    },
    {
      "cell_type": "code",
      "execution_count": null,
      "id": "85b33745-bb99-4401-9deb-fd7b461c615f",
      "metadata": {
        "colab": {
          "base_uri": "https://localhost:8080/"
        },
        "id": "85b33745-bb99-4401-9deb-fd7b461c615f",
        "outputId": "68c0e7e4-69e8-4bfb-fdc7-2f1458545be5"
      },
      "outputs": [
        {
          "output_type": "execute_result",
          "data": {
            "text/plain": [
              "(3, 3)"
            ]
          },
          "metadata": {},
          "execution_count": 94
        }
      ],
      "source": [
        "A.shape"
      ]
    },
    {
      "cell_type": "markdown",
      "id": "46b3b3af-f3d1-419b-9288-953a384e8259",
      "metadata": {
        "id": "46b3b3af-f3d1-419b-9288-953a384e8259"
      },
      "source": [
        "四則演算"
      ]
    },
    {
      "cell_type": "code",
      "execution_count": null,
      "id": "d0adf7dc-c486-4f17-9ffd-4ff00c03f4d6",
      "metadata": {
        "colab": {
          "base_uri": "https://localhost:8080/"
        },
        "id": "d0adf7dc-c486-4f17-9ffd-4ff00c03f4d6",
        "outputId": "1379f107-2657-463b-f730-2445a6254e47"
      },
      "outputs": [
        {
          "output_type": "execute_result",
          "data": {
            "text/plain": [
              "array([ 8, 10, 12, 14, 16])"
            ]
          },
          "metadata": {},
          "execution_count": 95
        }
      ],
      "source": [
        "a+b"
      ]
    },
    {
      "cell_type": "code",
      "execution_count": null,
      "id": "f95ce792-5f64-44ba-bfe8-c33d93a893f5",
      "metadata": {
        "colab": {
          "base_uri": "https://localhost:8080/"
        },
        "id": "f95ce792-5f64-44ba-bfe8-c33d93a893f5",
        "outputId": "2046af52-b91a-4718-a244-190d1aeec9c3"
      },
      "outputs": [
        {
          "output_type": "execute_result",
          "data": {
            "text/plain": [
              "array([[ 2,  5,  5],\n",
              "       [ 8,  8,  7],\n",
              "       [ 8, 11, 13]])"
            ]
          },
          "metadata": {},
          "execution_count": 96
        }
      ],
      "source": [
        "A+B"
      ]
    },
    {
      "cell_type": "code",
      "execution_count": null,
      "id": "3e12a41d-f837-489e-a6c3-6dcdbfa4a1a0",
      "metadata": {
        "colab": {
          "base_uri": "https://localhost:8080/"
        },
        "id": "3e12a41d-f837-489e-a6c3-6dcdbfa4a1a0",
        "outputId": "d0540b07-c4c5-459e-9558-6793b0c0174f"
      },
      "outputs": [
        {
          "output_type": "execute_result",
          "data": {
            "text/plain": [
              "array([6, 6, 6, 6, 6])"
            ]
          },
          "metadata": {},
          "execution_count": 97
        }
      ],
      "source": [
        "b-a"
      ]
    },
    {
      "cell_type": "code",
      "execution_count": null,
      "id": "24729d4b-d522-4625-b7a2-93a256aba5e4",
      "metadata": {
        "colab": {
          "base_uri": "https://localhost:8080/"
        },
        "id": "24729d4b-d522-4625-b7a2-93a256aba5e4",
        "outputId": "caaadca6-60c5-4f67-b7b0-c1a956d120c0"
      },
      "outputs": [
        {
          "output_type": "execute_result",
          "data": {
            "text/plain": [
              "array([[ 0,  1, -1],\n",
              "       [ 0, -2, -5],\n",
              "       [-6, -5, -5]])"
            ]
          },
          "metadata": {},
          "execution_count": 98
        }
      ],
      "source": [
        "B-A"
      ]
    },
    {
      "cell_type": "code",
      "execution_count": null,
      "id": "ec783444-312e-47dd-b3ac-8d5aba143a97",
      "metadata": {
        "colab": {
          "base_uri": "https://localhost:8080/"
        },
        "id": "ec783444-312e-47dd-b3ac-8d5aba143a97",
        "outputId": "86b3aaa9-0e37-412f-fc5b-b6ebab6950ee"
      },
      "outputs": [
        {
          "output_type": "execute_result",
          "data": {
            "text/plain": [
              "array([ 7, 16, 27, 40, 55])"
            ]
          },
          "metadata": {},
          "execution_count": 99
        }
      ],
      "source": [
        "a*b"
      ]
    },
    {
      "cell_type": "code",
      "execution_count": null,
      "id": "23ff5466-62b8-41cb-812d-e9cfecd21678",
      "metadata": {
        "colab": {
          "base_uri": "https://localhost:8080/"
        },
        "id": "23ff5466-62b8-41cb-812d-e9cfecd21678",
        "outputId": "b46fce37-ae48-469e-dafb-5c8fe3ff58bc"
      },
      "outputs": [
        {
          "output_type": "execute_result",
          "data": {
            "text/plain": [
              "array([[ 1,  6,  6],\n",
              "       [16, 15,  6],\n",
              "       [ 7, 24, 36]])"
            ]
          },
          "metadata": {},
          "execution_count": 100
        }
      ],
      "source": [
        "A*B"
      ]
    },
    {
      "cell_type": "markdown",
      "id": "05e92d33-d5f1-4b25-9b6f-3adc738cc28e",
      "metadata": {
        "id": "05e92d33-d5f1-4b25-9b6f-3adc738cc28e"
      },
      "source": [
        "`*`は各要素ごとの積になる"
      ]
    },
    {
      "cell_type": "code",
      "execution_count": null,
      "id": "db7d9026-e7e2-4dc3-b9c0-7eaa1c65f69e",
      "metadata": {
        "colab": {
          "base_uri": "https://localhost:8080/"
        },
        "id": "db7d9026-e7e2-4dc3-b9c0-7eaa1c65f69e",
        "outputId": "17e3ffe4-3fbe-4804-904b-1524d637b0f5"
      },
      "outputs": [
        {
          "output_type": "execute_result",
          "data": {
            "text/plain": [
              "array([0.14285714, 0.25      , 0.33333333, 0.4       , 0.45454545])"
            ]
          },
          "metadata": {},
          "execution_count": 101
        }
      ],
      "source": [
        "a/b"
      ]
    },
    {
      "cell_type": "code",
      "execution_count": null,
      "id": "f24aa883-bd4c-4b81-8c24-fd62ef6d9d7e",
      "metadata": {
        "colab": {
          "base_uri": "https://localhost:8080/"
        },
        "id": "f24aa883-bd4c-4b81-8c24-fd62ef6d9d7e",
        "outputId": "b39a8374-5481-4931-f5f3-9178ec070576"
      },
      "outputs": [
        {
          "output_type": "execute_result",
          "data": {
            "text/plain": [
              "array([[1.        , 0.66666667, 1.5       ],\n",
              "       [1.        , 1.66666667, 6.        ],\n",
              "       [7.        , 2.66666667, 2.25      ]])"
            ]
          },
          "metadata": {},
          "execution_count": 102
        }
      ],
      "source": [
        "A/B"
      ]
    },
    {
      "cell_type": "markdown",
      "id": "321221bc-7b3c-495f-b7e1-4586b82374cd",
      "metadata": {
        "id": "321221bc-7b3c-495f-b7e1-4586b82374cd"
      },
      "source": [
        "内積"
      ]
    },
    {
      "cell_type": "code",
      "execution_count": null,
      "id": "3b8fa23a-4195-4c30-9bca-d44def04ed4b",
      "metadata": {
        "colab": {
          "base_uri": "https://localhost:8080/"
        },
        "id": "3b8fa23a-4195-4c30-9bca-d44def04ed4b",
        "outputId": "e17f7d6f-22b3-4891-9357-32dd0d2e48af"
      },
      "outputs": [
        {
          "output_type": "execute_result",
          "data": {
            "text/plain": [
              "145"
            ]
          },
          "metadata": {},
          "execution_count": 103
        }
      ],
      "source": [
        "a.dot(b)"
      ]
    },
    {
      "cell_type": "code",
      "execution_count": null,
      "id": "2f686248-7125-4e6b-b54d-30deecec3cc9",
      "metadata": {
        "colab": {
          "base_uri": "https://localhost:8080/"
        },
        "id": "2f686248-7125-4e6b-b54d-30deecec3cc9",
        "outputId": "ef401531-aa43-4f51-c1f9-21048c6dda75"
      },
      "outputs": [
        {
          "output_type": "execute_result",
          "data": {
            "text/plain": [
              "145"
            ]
          },
          "metadata": {},
          "execution_count": 104
        }
      ],
      "source": [
        "a @ b"
      ]
    },
    {
      "cell_type": "markdown",
      "id": "a37f53d1-809f-462e-841f-c067b1d2f913",
      "metadata": {
        "id": "a37f53d1-809f-462e-841f-c067b1d2f913"
      },
      "source": [
        "外積"
      ]
    },
    {
      "cell_type": "code",
      "execution_count": null,
      "id": "e8c90c09-04ff-465d-8b44-abc2f9baa0bb",
      "metadata": {
        "colab": {
          "base_uri": "https://localhost:8080/"
        },
        "id": "e8c90c09-04ff-465d-8b44-abc2f9baa0bb",
        "outputId": "d5441edf-2aa8-4e82-be30-a57262482d56"
      },
      "outputs": [
        {
          "output_type": "execute_result",
          "data": {
            "text/plain": [
              "array([[ 7,  8,  9, 10, 11],\n",
              "       [14, 16, 18, 20, 22],\n",
              "       [21, 24, 27, 30, 33],\n",
              "       [28, 32, 36, 40, 44],\n",
              "       [35, 40, 45, 50, 55]])"
            ]
          },
          "metadata": {},
          "execution_count": 105
        }
      ],
      "source": [
        "np.outer(a,b)"
      ]
    },
    {
      "cell_type": "markdown",
      "id": "42c25235-603d-4e0a-8ac8-66ea081d1d98",
      "metadata": {
        "id": "42c25235-603d-4e0a-8ac8-66ea081d1d98"
      },
      "source": [
        "行列積"
      ]
    },
    {
      "cell_type": "code",
      "execution_count": null,
      "id": "77a4f31b-584a-4b63-a3a8-48caf31d505d",
      "metadata": {
        "colab": {
          "base_uri": "https://localhost:8080/"
        },
        "id": "77a4f31b-584a-4b63-a3a8-48caf31d505d",
        "outputId": "b73f9019-174b-472f-e3bc-f2e6934ebb94"
      },
      "outputs": [
        {
          "output_type": "execute_result",
          "data": {
            "text/plain": [
              "array([[12, 18, 16],\n",
              "       [30, 45, 37],\n",
              "       [48, 72, 58]])"
            ]
          },
          "metadata": {},
          "execution_count": 106
        }
      ],
      "source": [
        "A.dot(B)"
      ]
    },
    {
      "cell_type": "code",
      "execution_count": null,
      "id": "8e54b978-8c5c-43fb-96ec-e82e40659e3c",
      "metadata": {
        "colab": {
          "base_uri": "https://localhost:8080/"
        },
        "id": "8e54b978-8c5c-43fb-96ec-e82e40659e3c",
        "outputId": "998f0bb6-1c39-435b-fbb5-c1f4aab5854c"
      },
      "outputs": [
        {
          "output_type": "execute_result",
          "data": {
            "text/plain": [
              "array([[12, 18, 16],\n",
              "       [30, 45, 37],\n",
              "       [48, 72, 58]])"
            ]
          },
          "metadata": {},
          "execution_count": 107
        }
      ],
      "source": [
        "A@B"
      ]
    },
    {
      "cell_type": "markdown",
      "id": "5670fdb1-7ed0-41ab-8c2b-c350101401d2",
      "metadata": {
        "id": "5670fdb1-7ed0-41ab-8c2b-c350101401d2"
      },
      "source": [
        "転置"
      ]
    },
    {
      "cell_type": "code",
      "execution_count": null,
      "id": "2cd4a2f0-b853-4492-a499-3b50153d7c24",
      "metadata": {
        "colab": {
          "base_uri": "https://localhost:8080/"
        },
        "id": "2cd4a2f0-b853-4492-a499-3b50153d7c24",
        "outputId": "6e022ae9-e0a8-4930-db4b-3eefa8f79290"
      },
      "outputs": [
        {
          "output_type": "execute_result",
          "data": {
            "text/plain": [
              "array([[1, 4, 7],\n",
              "       [2, 5, 8],\n",
              "       [3, 6, 9]])"
            ]
          },
          "metadata": {},
          "execution_count": 108
        }
      ],
      "source": [
        "A.T"
      ]
    },
    {
      "cell_type": "markdown",
      "id": "52cc1a29-ad9b-4ecf-bf58-0026911c0719",
      "metadata": {
        "id": "52cc1a29-ad9b-4ecf-bf58-0026911c0719"
      },
      "source": [
        "ベクトルはそのまま転置できない"
      ]
    },
    {
      "cell_type": "code",
      "execution_count": null,
      "id": "2f1c8007-3eeb-48f2-b3d7-631e61cb074b",
      "metadata": {
        "colab": {
          "base_uri": "https://localhost:8080/"
        },
        "id": "2f1c8007-3eeb-48f2-b3d7-631e61cb074b",
        "outputId": "7f50ce2c-9550-400e-9db5-f2824ca69394"
      },
      "outputs": [
        {
          "output_type": "execute_result",
          "data": {
            "text/plain": [
              "array([1, 2, 3, 4, 5])"
            ]
          },
          "metadata": {},
          "execution_count": 109
        }
      ],
      "source": [
        "a.T"
      ]
    },
    {
      "cell_type": "markdown",
      "id": "2010097c-ebdc-44b9-a3ab-2affa16d008e",
      "metadata": {
        "id": "2010097c-ebdc-44b9-a3ab-2affa16d008e"
      },
      "source": [
        "`np.newaxis`でベクトルから次元を増やすことができる"
      ]
    },
    {
      "cell_type": "code",
      "execution_count": null,
      "id": "e5e2bc4f-d24d-49aa-be99-f169c367f5f3",
      "metadata": {
        "colab": {
          "base_uri": "https://localhost:8080/"
        },
        "id": "e5e2bc4f-d24d-49aa-be99-f169c367f5f3",
        "outputId": "f1f5089f-fe40-4ee5-c4d7-359aaac62750"
      },
      "outputs": [
        {
          "output_type": "execute_result",
          "data": {
            "text/plain": [
              "array([[1, 2, 3, 4, 5]])"
            ]
          },
          "metadata": {},
          "execution_count": 110
        }
      ],
      "source": [
        "a[np.newaxis,:]"
      ]
    },
    {
      "cell_type": "code",
      "execution_count": null,
      "id": "9d9648ea-4243-4036-8831-33b5b5ad2beb",
      "metadata": {
        "colab": {
          "base_uri": "https://localhost:8080/"
        },
        "id": "9d9648ea-4243-4036-8831-33b5b5ad2beb",
        "outputId": "5ba73749-6c2b-4fea-bdab-7b267cdd68ef"
      },
      "outputs": [
        {
          "output_type": "execute_result",
          "data": {
            "text/plain": [
              "array([[1],\n",
              "       [2],\n",
              "       [3],\n",
              "       [4],\n",
              "       [5]])"
            ]
          },
          "metadata": {},
          "execution_count": 111
        }
      ],
      "source": [
        "a[:,np.newaxis]\n",
        "# a[:,np.newaxis].shape -> (5, 1)"
      ]
    },
    {
      "cell_type": "code",
      "execution_count": null,
      "id": "62db0660-7497-46c7-a996-7889530c803d",
      "metadata": {
        "colab": {
          "base_uri": "https://localhost:8080/"
        },
        "id": "62db0660-7497-46c7-a996-7889530c803d",
        "outputId": "d0ecb325-6aa0-40e6-f6e6-9100acb5b817"
      },
      "outputs": [
        {
          "output_type": "execute_result",
          "data": {
            "text/plain": [
              "array([[ 7,  8,  9, 10, 11],\n",
              "       [14, 16, 18, 20, 22],\n",
              "       [21, 24, 27, 30, 33],\n",
              "       [28, 32, 36, 40, 44],\n",
              "       [35, 40, 45, 50, 55]])"
            ]
          },
          "metadata": {},
          "execution_count": 112
        }
      ],
      "source": [
        "# こういう外積も可\n",
        "a[:,np.newaxis].dot(b[np.newaxis,:])"
      ]
    },
    {
      "cell_type": "markdown",
      "id": "df40f2dc-e8ac-4554-9115-78a1e4890184",
      "metadata": {
        "id": "df40f2dc-e8ac-4554-9115-78a1e4890184"
      },
      "source": [
        "平均とか分散とか"
      ]
    },
    {
      "cell_type": "code",
      "execution_count": null,
      "id": "6c1944c4-3bf3-48c4-9131-5e0cafe808d5",
      "metadata": {
        "colab": {
          "base_uri": "https://localhost:8080/"
        },
        "id": "6c1944c4-3bf3-48c4-9131-5e0cafe808d5",
        "outputId": "ecc3d273-32d6-48a3-b418-54b8dce77db3"
      },
      "outputs": [
        {
          "output_type": "stream",
          "name": "stdout",
          "text": [
            "a 3.0\n",
            "A 5.0\n",
            "A [4. 5. 6.]\n",
            "A [2. 5. 8.]\n"
          ]
        }
      ],
      "source": [
        "print('a', np.mean(a))\n",
        "print('A', np.mean(A))\n",
        "print('A', np.mean(A, axis=0))\n",
        "print('A', np.mean(A, axis=1))"
      ]
    },
    {
      "cell_type": "code",
      "execution_count": null,
      "id": "9f284956-e063-49ef-99bd-b26eba54239c",
      "metadata": {
        "colab": {
          "base_uri": "https://localhost:8080/"
        },
        "id": "9f284956-e063-49ef-99bd-b26eba54239c",
        "outputId": "f45ff0e2-f8f1-44b9-baa5-294fa167b3da"
      },
      "outputs": [
        {
          "output_type": "execute_result",
          "data": {
            "text/plain": [
              "(6.666666666666667, 2.581988897471611)"
            ]
          },
          "metadata": {},
          "execution_count": 114
        }
      ],
      "source": [
        "# 分散，標準偏差\n",
        "np.var(A), np.std(A)"
      ]
    },
    {
      "cell_type": "markdown",
      "id": "2f9a475d-2e9d-4ee7-b39d-c6d3e9310ea8",
      "metadata": {
        "id": "2f9a475d-2e9d-4ee7-b39d-c6d3e9310ea8"
      },
      "source": [
        "axisで方向を指定して平均したりする　超重要"
      ]
    },
    {
      "cell_type": "markdown",
      "id": "1e583063-efe6-4028-ba2a-57791ee872c1",
      "metadata": {
        "jp-MarkdownHeadingCollapsed": true,
        "tags": [],
        "id": "1e583063-efe6-4028-ba2a-57791ee872c1"
      },
      "source": [
        "行列のランク"
      ]
    },
    {
      "cell_type": "markdown",
      "id": "9b93fb2e-f54f-4572-b37d-1c280e6a34b5",
      "metadata": {
        "id": "9b93fb2e-f54f-4572-b37d-1c280e6a34b5"
      },
      "source": [
        "固有値とか行列の数学っぽいことは`linalg`でやる　詳細はググって"
      ]
    },
    {
      "cell_type": "code",
      "execution_count": null,
      "id": "9cd5d745-7b30-450c-bb7a-48186cf67b7a",
      "metadata": {
        "colab": {
          "base_uri": "https://localhost:8080/"
        },
        "id": "9cd5d745-7b30-450c-bb7a-48186cf67b7a",
        "outputId": "c19963a1-1101-4001-f24b-d55cd04cc45b"
      },
      "outputs": [
        {
          "output_type": "stream",
          "name": "stdout",
          "text": [
            "rank of A is  2\n",
            "rank of B is  3\n"
          ]
        }
      ],
      "source": [
        "print('rank of A is ', np.linalg.matrix_rank(A))\n",
        "print('rank of B is ', np.linalg.matrix_rank(B))"
      ]
    },
    {
      "cell_type": "markdown",
      "id": "f18ae72f-a7d2-4b33-9794-0ac995db17e0",
      "metadata": {
        "id": "f18ae72f-a7d2-4b33-9794-0ac995db17e0"
      },
      "source": [
        "行列積"
      ]
    },
    {
      "cell_type": "code",
      "execution_count": null,
      "id": "da4021d4-3d72-4b7d-bd8b-4bfc8aedd0ff",
      "metadata": {
        "colab": {
          "base_uri": "https://localhost:8080/"
        },
        "id": "da4021d4-3d72-4b7d-bd8b-4bfc8aedd0ff",
        "outputId": "f7565cec-1524-476e-ee3f-d92a68b12c8e"
      },
      "outputs": [
        {
          "output_type": "execute_result",
          "data": {
            "text/plain": [
              "0.0"
            ]
          },
          "metadata": {},
          "execution_count": 116
        }
      ],
      "source": [
        "np.linalg.det(A)"
      ]
    },
    {
      "cell_type": "markdown",
      "id": "859a7d0b-5272-4aae-851c-a83359b41e2f",
      "metadata": {
        "id": "859a7d0b-5272-4aae-851c-a83359b41e2f"
      },
      "source": [
        "floatの関係で0にはならないけど実質0"
      ]
    },
    {
      "cell_type": "markdown",
      "id": "745cc4e5-ff67-4c05-b515-17dcc4ac552a",
      "metadata": {
        "id": "745cc4e5-ff67-4c05-b515-17dcc4ac552a"
      },
      "source": [
        "逆行列"
      ]
    },
    {
      "cell_type": "code",
      "execution_count": null,
      "id": "1003f8cc-27e0-4f5a-82f5-83082e97f7bc",
      "metadata": {
        "id": "1003f8cc-27e0-4f5a-82f5-83082e97f7bc"
      },
      "outputs": [],
      "source": [
        "B_ = np.linalg.inv(B)"
      ]
    },
    {
      "cell_type": "code",
      "execution_count": null,
      "id": "385f0a0a-6aac-4cc3-9c80-cb19f81d5073",
      "metadata": {
        "colab": {
          "base_uri": "https://localhost:8080/"
        },
        "id": "385f0a0a-6aac-4cc3-9c80-cb19f81d5073",
        "outputId": "74db020b-e1bf-4418-be38-03fcd2eed865"
      },
      "outputs": [
        {
          "output_type": "execute_result",
          "data": {
            "text/plain": [
              "array([[ 1.00000000e+00,  0.00000000e+00,  1.11022302e-16],\n",
              "       [-2.22044605e-16,  1.00000000e+00,  0.00000000e+00],\n",
              "       [-2.22044605e-16,  0.00000000e+00,  1.00000000e+00]])"
            ]
          },
          "metadata": {},
          "execution_count": 118
        }
      ],
      "source": [
        "B @ B_"
      ]
    },
    {
      "cell_type": "code",
      "execution_count": null,
      "id": "82abf109-5d67-4aea-89df-bfb0e3d47de5",
      "metadata": {
        "id": "82abf109-5d67-4aea-89df-bfb0e3d47de5"
      },
      "outputs": [],
      "source": [
        "# pinv 擬似逆行列\n",
        "A_ = np.linalg.pinv(A)"
      ]
    },
    {
      "cell_type": "code",
      "execution_count": null,
      "id": "b2059c87-a283-4bc2-b096-2b081baba4da",
      "metadata": {
        "colab": {
          "base_uri": "https://localhost:8080/"
        },
        "id": "b2059c87-a283-4bc2-b096-2b081baba4da",
        "outputId": "57d2a72d-4a48-4791-f356-4f803c9c2be6"
      },
      "outputs": [
        {
          "output_type": "execute_result",
          "data": {
            "text/plain": [
              "array([[1., 2., 3.],\n",
              "       [4., 5., 6.],\n",
              "       [7., 8., 9.]])"
            ]
          },
          "metadata": {},
          "execution_count": 120
        }
      ],
      "source": [
        "A @ A_ @ A"
      ]
    },
    {
      "cell_type": "markdown",
      "id": "c44ee0e7-2f01-4290-a767-27190dc64a23",
      "metadata": {
        "id": "c44ee0e7-2f01-4290-a767-27190dc64a23"
      },
      "source": [
        "単位行列"
      ]
    },
    {
      "cell_type": "code",
      "execution_count": null,
      "id": "b56b79bb-f13d-424f-a60d-75728fb701d5",
      "metadata": {
        "colab": {
          "base_uri": "https://localhost:8080/"
        },
        "id": "b56b79bb-f13d-424f-a60d-75728fb701d5",
        "outputId": "6a28c52d-f303-4304-a2f2-07991b082ff8"
      },
      "outputs": [
        {
          "output_type": "execute_result",
          "data": {
            "text/plain": [
              "array([[1., 0., 0.],\n",
              "       [0., 1., 0.],\n",
              "       [0., 0., 1.]])"
            ]
          },
          "metadata": {},
          "execution_count": 121
        }
      ],
      "source": [
        "np.eye(3)"
      ]
    },
    {
      "cell_type": "markdown",
      "id": "89a329a6-12e3-48e3-a670-42d391128b8e",
      "metadata": {
        "id": "89a329a6-12e3-48e3-a670-42d391128b8e"
      },
      "source": [
        "すべての要素が1"
      ]
    },
    {
      "cell_type": "code",
      "execution_count": null,
      "id": "b28f084a-379d-4647-93a8-4e001816f39d",
      "metadata": {
        "colab": {
          "base_uri": "https://localhost:8080/"
        },
        "id": "b28f084a-379d-4647-93a8-4e001816f39d",
        "outputId": "8f62d81b-a289-49fa-e347-5b7f231bf4ab"
      },
      "outputs": [
        {
          "output_type": "execute_result",
          "data": {
            "text/plain": [
              "array([1., 1., 1.])"
            ]
          },
          "metadata": {},
          "execution_count": 122
        }
      ],
      "source": [
        "np.ones(3)"
      ]
    },
    {
      "cell_type": "code",
      "execution_count": null,
      "id": "02a3caf5-25f8-44ae-b541-b21772c4e2c3",
      "metadata": {
        "colab": {
          "base_uri": "https://localhost:8080/"
        },
        "id": "02a3caf5-25f8-44ae-b541-b21772c4e2c3",
        "outputId": "fcb46739-c797-47a2-ca75-c6fce7becf92"
      },
      "outputs": [
        {
          "output_type": "execute_result",
          "data": {
            "text/plain": [
              "array([[1., 1., 1.],\n",
              "       [1., 1., 1.],\n",
              "       [1., 1., 1.]])"
            ]
          },
          "metadata": {},
          "execution_count": 123
        }
      ],
      "source": [
        "np.ones((3,3))"
      ]
    },
    {
      "cell_type": "markdown",
      "id": "d2ef0231-5c59-4481-b283-b098178084c2",
      "metadata": {
        "id": "d2ef0231-5c59-4481-b283-b098178084c2"
      },
      "source": [
        "その他"
      ]
    },
    {
      "cell_type": "markdown",
      "id": "bcf1432e-a35d-4bf7-bf96-0317474c9181",
      "metadata": {
        "id": "bcf1432e-a35d-4bf7-bf96-0317474c9181"
      },
      "source": [
        "`np.random`で乱数関係色々使える"
      ]
    },
    {
      "cell_type": "code",
      "execution_count": null,
      "id": "4dfdf797-ee29-48e2-bce8-d321f1a655fc",
      "metadata": {
        "colab": {
          "base_uri": "https://localhost:8080/"
        },
        "id": "4dfdf797-ee29-48e2-bce8-d321f1a655fc",
        "outputId": "aefdb596-1a9d-4a26-95d0-c1aeb9ce8186"
      },
      "outputs": [
        {
          "output_type": "stream",
          "name": "stdout",
          "text": [
            "多分一様乱数 8\n",
            "ガウス分布に従う乱数 1.3834582253598415\n",
            "range(10)からランダムに選択とか… [1 3 3 5 7 7 7 7 8 7]\n"
          ]
        }
      ],
      "source": [
        "print('多分一様乱数', np.random.randint(10))\n",
        "print('ガウス分布に従う乱数', np.random.normal())\n",
        "print('range(10)からランダムに選択とか…', np.random.choice(range(10), size=10))"
      ]
    },
    {
      "cell_type": "markdown",
      "id": "c2085c1d-371f-43f0-b017-dbc41465ef18",
      "metadata": {
        "id": "c2085c1d-371f-43f0-b017-dbc41465ef18"
      },
      "source": [
        "sin,cosとか"
      ]
    },
    {
      "cell_type": "code",
      "execution_count": null,
      "id": "14b5c6dd-5c41-438b-a49c-9b6fe02cd8a1",
      "metadata": {
        "colab": {
          "base_uri": "https://localhost:8080/"
        },
        "id": "14b5c6dd-5c41-438b-a49c-9b6fe02cd8a1",
        "outputId": "4f57a0b4-3ff7-4201-d5e8-1792d60d64ff"
      },
      "outputs": [
        {
          "output_type": "execute_result",
          "data": {
            "text/plain": [
              "1.0"
            ]
          },
          "metadata": {},
          "execution_count": 125
        }
      ],
      "source": [
        "np.sin(np.pi/2)"
      ]
    },
    {
      "cell_type": "code",
      "execution_count": null,
      "id": "366e253e-3807-4fd7-a41f-982b95b73263",
      "metadata": {
        "colab": {
          "base_uri": "https://localhost:8080/"
        },
        "id": "366e253e-3807-4fd7-a41f-982b95b73263",
        "outputId": "7530d84f-694f-4d14-b828-a6bc475b126c"
      },
      "outputs": [
        {
          "output_type": "execute_result",
          "data": {
            "text/plain": [
              "3.141592653589793"
            ]
          },
          "metadata": {},
          "execution_count": 126
        }
      ],
      "source": [
        "np.arccos(0)*2"
      ]
    },
    {
      "cell_type": "markdown",
      "id": "3f1a19c5-f231-41a5-a277-160e789ddb77",
      "metadata": {
        "tags": [],
        "id": "3f1a19c5-f231-41a5-a277-160e789ddb77"
      },
      "source": [
        "## pandas"
      ]
    },
    {
      "cell_type": "markdown",
      "source": [
        "参考 https://utokyo-ipp.github.io/7/7-1.html"
      ],
      "metadata": {
        "id": "hIYN1xQ_yMHr"
      },
      "id": "hIYN1xQ_yMHr"
    },
    {
      "cell_type": "markdown",
      "id": "557bc9b4-af25-4eb2-81a1-1725986d2202",
      "metadata": {
        "id": "557bc9b4-af25-4eb2-81a1-1725986d2202"
      },
      "source": [
        "- エクセルとかcsvみたいなやつを扱う`pd.DataFrame`\n",
        "- ベクトルみたいに一次元のときは`pd.Series`"
      ]
    },
    {
      "cell_type": "code",
      "execution_count": null,
      "id": "b9c06023-0b22-444b-b813-a8428fb97f2c",
      "metadata": {
        "id": "b9c06023-0b22-444b-b813-a8428fb97f2c"
      },
      "outputs": [],
      "source": [
        "import pandas as pd"
      ]
    },
    {
      "cell_type": "markdown",
      "id": "69fbca41-06cb-4ade-866a-6a18ec5cde36",
      "metadata": {
        "id": "69fbca41-06cb-4ade-866a-6a18ec5cde36"
      },
      "source": [
        "DataFrameに配列を渡せば生成"
      ]
    },
    {
      "cell_type": "code",
      "execution_count": null,
      "id": "debbdb34-4e6f-424e-b85d-1b7c3db186f1",
      "metadata": {
        "id": "debbdb34-4e6f-424e-b85d-1b7c3db186f1"
      },
      "outputs": [],
      "source": [
        "data1=[['田中', 18, True],\n",
        "       ['山田', 42, False],\n",
        "       ['鈴木', 32, True]]\n",
        "data2=[['林', 22, False],\n",
        "       ['斎藤', 18, True],\n",
        "       ['大田', 25, False]]"
      ]
    },
    {
      "cell_type": "code",
      "execution_count": null,
      "id": "19acea7a-1a9d-44b4-8530-a0cef5fa1eaa",
      "metadata": {
        "id": "19acea7a-1a9d-44b4-8530-a0cef5fa1eaa"
      },
      "outputs": [],
      "source": [
        "df = pd.DataFrame(data1)\n",
        "# numpyでも可\n",
        "# df = pd.DataFrame(A)"
      ]
    },
    {
      "cell_type": "code",
      "execution_count": null,
      "id": "715c6199-d87b-490b-9f6d-8da50f17c5c2",
      "metadata": {
        "colab": {
          "base_uri": "https://localhost:8080/",
          "height": 143
        },
        "id": "715c6199-d87b-490b-9f6d-8da50f17c5c2",
        "outputId": "9d78b16e-0dd1-4823-cd7d-db742c74592d"
      },
      "outputs": [
        {
          "output_type": "execute_result",
          "data": {
            "text/plain": [
              "    0   1      2\n",
              "0  田中  18   True\n",
              "1  山田  42  False\n",
              "2  鈴木  32   True"
            ],
            "text/html": [
              "\n",
              "  <div id=\"df-0d4798f2-8c69-4496-bf4e-7cb3266f4e31\">\n",
              "    <div class=\"colab-df-container\">\n",
              "      <div>\n",
              "<style scoped>\n",
              "    .dataframe tbody tr th:only-of-type {\n",
              "        vertical-align: middle;\n",
              "    }\n",
              "\n",
              "    .dataframe tbody tr th {\n",
              "        vertical-align: top;\n",
              "    }\n",
              "\n",
              "    .dataframe thead th {\n",
              "        text-align: right;\n",
              "    }\n",
              "</style>\n",
              "<table border=\"1\" class=\"dataframe\">\n",
              "  <thead>\n",
              "    <tr style=\"text-align: right;\">\n",
              "      <th></th>\n",
              "      <th>0</th>\n",
              "      <th>1</th>\n",
              "      <th>2</th>\n",
              "    </tr>\n",
              "  </thead>\n",
              "  <tbody>\n",
              "    <tr>\n",
              "      <th>0</th>\n",
              "      <td>田中</td>\n",
              "      <td>18</td>\n",
              "      <td>True</td>\n",
              "    </tr>\n",
              "    <tr>\n",
              "      <th>1</th>\n",
              "      <td>山田</td>\n",
              "      <td>42</td>\n",
              "      <td>False</td>\n",
              "    </tr>\n",
              "    <tr>\n",
              "      <th>2</th>\n",
              "      <td>鈴木</td>\n",
              "      <td>32</td>\n",
              "      <td>True</td>\n",
              "    </tr>\n",
              "  </tbody>\n",
              "</table>\n",
              "</div>\n",
              "      <button class=\"colab-df-convert\" onclick=\"convertToInteractive('df-0d4798f2-8c69-4496-bf4e-7cb3266f4e31')\"\n",
              "              title=\"Convert this dataframe to an interactive table.\"\n",
              "              style=\"display:none;\">\n",
              "        \n",
              "  <svg xmlns=\"http://www.w3.org/2000/svg\" height=\"24px\"viewBox=\"0 0 24 24\"\n",
              "       width=\"24px\">\n",
              "    <path d=\"M0 0h24v24H0V0z\" fill=\"none\"/>\n",
              "    <path d=\"M18.56 5.44l.94 2.06.94-2.06 2.06-.94-2.06-.94-.94-2.06-.94 2.06-2.06.94zm-11 1L8.5 8.5l.94-2.06 2.06-.94-2.06-.94L8.5 2.5l-.94 2.06-2.06.94zm10 10l.94 2.06.94-2.06 2.06-.94-2.06-.94-.94-2.06-.94 2.06-2.06.94z\"/><path d=\"M17.41 7.96l-1.37-1.37c-.4-.4-.92-.59-1.43-.59-.52 0-1.04.2-1.43.59L10.3 9.45l-7.72 7.72c-.78.78-.78 2.05 0 2.83L4 21.41c.39.39.9.59 1.41.59.51 0 1.02-.2 1.41-.59l7.78-7.78 2.81-2.81c.8-.78.8-2.07 0-2.86zM5.41 20L4 18.59l7.72-7.72 1.47 1.35L5.41 20z\"/>\n",
              "  </svg>\n",
              "      </button>\n",
              "      \n",
              "  <style>\n",
              "    .colab-df-container {\n",
              "      display:flex;\n",
              "      flex-wrap:wrap;\n",
              "      gap: 12px;\n",
              "    }\n",
              "\n",
              "    .colab-df-convert {\n",
              "      background-color: #E8F0FE;\n",
              "      border: none;\n",
              "      border-radius: 50%;\n",
              "      cursor: pointer;\n",
              "      display: none;\n",
              "      fill: #1967D2;\n",
              "      height: 32px;\n",
              "      padding: 0 0 0 0;\n",
              "      width: 32px;\n",
              "    }\n",
              "\n",
              "    .colab-df-convert:hover {\n",
              "      background-color: #E2EBFA;\n",
              "      box-shadow: 0px 1px 2px rgba(60, 64, 67, 0.3), 0px 1px 3px 1px rgba(60, 64, 67, 0.15);\n",
              "      fill: #174EA6;\n",
              "    }\n",
              "\n",
              "    [theme=dark] .colab-df-convert {\n",
              "      background-color: #3B4455;\n",
              "      fill: #D2E3FC;\n",
              "    }\n",
              "\n",
              "    [theme=dark] .colab-df-convert:hover {\n",
              "      background-color: #434B5C;\n",
              "      box-shadow: 0px 1px 3px 1px rgba(0, 0, 0, 0.15);\n",
              "      filter: drop-shadow(0px 1px 2px rgba(0, 0, 0, 0.3));\n",
              "      fill: #FFFFFF;\n",
              "    }\n",
              "  </style>\n",
              "\n",
              "      <script>\n",
              "        const buttonEl =\n",
              "          document.querySelector('#df-0d4798f2-8c69-4496-bf4e-7cb3266f4e31 button.colab-df-convert');\n",
              "        buttonEl.style.display =\n",
              "          google.colab.kernel.accessAllowed ? 'block' : 'none';\n",
              "\n",
              "        async function convertToInteractive(key) {\n",
              "          const element = document.querySelector('#df-0d4798f2-8c69-4496-bf4e-7cb3266f4e31');\n",
              "          const dataTable =\n",
              "            await google.colab.kernel.invokeFunction('convertToInteractive',\n",
              "                                                     [key], {});\n",
              "          if (!dataTable) return;\n",
              "\n",
              "          const docLinkHtml = 'Like what you see? Visit the ' +\n",
              "            '<a target=\"_blank\" href=https://colab.research.google.com/notebooks/data_table.ipynb>data table notebook</a>'\n",
              "            + ' to learn more about interactive tables.';\n",
              "          element.innerHTML = '';\n",
              "          dataTable['output_type'] = 'display_data';\n",
              "          await google.colab.output.renderOutput(dataTable, element);\n",
              "          const docLink = document.createElement('div');\n",
              "          docLink.innerHTML = docLinkHtml;\n",
              "          element.appendChild(docLink);\n",
              "        }\n",
              "      </script>\n",
              "    </div>\n",
              "  </div>\n",
              "  "
            ]
          },
          "metadata": {},
          "execution_count": 130
        }
      ],
      "source": [
        "df"
      ]
    },
    {
      "cell_type": "markdown",
      "id": "99969f36-1092-48f9-9a21-88192004189a",
      "metadata": {
        "id": "99969f36-1092-48f9-9a21-88192004189a"
      },
      "source": [
        "- 列:columns 特徴とか\n",
        "- 行:index データの数だけある"
      ]
    },
    {
      "cell_type": "code",
      "execution_count": null,
      "id": "da9dc44e-0ba0-48c7-957c-7f718e4898c8",
      "metadata": {
        "id": "da9dc44e-0ba0-48c7-957c-7f718e4898c8"
      },
      "outputs": [],
      "source": [
        "df1 = pd.DataFrame(data1, columns=['名前','年齢', '男'])\n",
        "df2 = pd.DataFrame(data2, columns=['名前','年齢', '男'])"
      ]
    },
    {
      "cell_type": "code",
      "execution_count": null,
      "id": "4bb4c3fb-8edf-4f11-a864-4568cad2da8c",
      "metadata": {
        "colab": {
          "base_uri": "https://localhost:8080/",
          "height": 143
        },
        "id": "4bb4c3fb-8edf-4f11-a864-4568cad2da8c",
        "outputId": "d72961c8-2975-4ef3-f425-0a429c51c881"
      },
      "outputs": [
        {
          "output_type": "execute_result",
          "data": {
            "text/plain": [
              "   名前  年齢      男\n",
              "0  田中  18   True\n",
              "1  山田  42  False\n",
              "2  鈴木  32   True"
            ],
            "text/html": [
              "\n",
              "  <div id=\"df-ed1b3f67-3ae6-478a-9aea-a0f0625e5dfd\">\n",
              "    <div class=\"colab-df-container\">\n",
              "      <div>\n",
              "<style scoped>\n",
              "    .dataframe tbody tr th:only-of-type {\n",
              "        vertical-align: middle;\n",
              "    }\n",
              "\n",
              "    .dataframe tbody tr th {\n",
              "        vertical-align: top;\n",
              "    }\n",
              "\n",
              "    .dataframe thead th {\n",
              "        text-align: right;\n",
              "    }\n",
              "</style>\n",
              "<table border=\"1\" class=\"dataframe\">\n",
              "  <thead>\n",
              "    <tr style=\"text-align: right;\">\n",
              "      <th></th>\n",
              "      <th>名前</th>\n",
              "      <th>年齢</th>\n",
              "      <th>男</th>\n",
              "    </tr>\n",
              "  </thead>\n",
              "  <tbody>\n",
              "    <tr>\n",
              "      <th>0</th>\n",
              "      <td>田中</td>\n",
              "      <td>18</td>\n",
              "      <td>True</td>\n",
              "    </tr>\n",
              "    <tr>\n",
              "      <th>1</th>\n",
              "      <td>山田</td>\n",
              "      <td>42</td>\n",
              "      <td>False</td>\n",
              "    </tr>\n",
              "    <tr>\n",
              "      <th>2</th>\n",
              "      <td>鈴木</td>\n",
              "      <td>32</td>\n",
              "      <td>True</td>\n",
              "    </tr>\n",
              "  </tbody>\n",
              "</table>\n",
              "</div>\n",
              "      <button class=\"colab-df-convert\" onclick=\"convertToInteractive('df-ed1b3f67-3ae6-478a-9aea-a0f0625e5dfd')\"\n",
              "              title=\"Convert this dataframe to an interactive table.\"\n",
              "              style=\"display:none;\">\n",
              "        \n",
              "  <svg xmlns=\"http://www.w3.org/2000/svg\" height=\"24px\"viewBox=\"0 0 24 24\"\n",
              "       width=\"24px\">\n",
              "    <path d=\"M0 0h24v24H0V0z\" fill=\"none\"/>\n",
              "    <path d=\"M18.56 5.44l.94 2.06.94-2.06 2.06-.94-2.06-.94-.94-2.06-.94 2.06-2.06.94zm-11 1L8.5 8.5l.94-2.06 2.06-.94-2.06-.94L8.5 2.5l-.94 2.06-2.06.94zm10 10l.94 2.06.94-2.06 2.06-.94-2.06-.94-.94-2.06-.94 2.06-2.06.94z\"/><path d=\"M17.41 7.96l-1.37-1.37c-.4-.4-.92-.59-1.43-.59-.52 0-1.04.2-1.43.59L10.3 9.45l-7.72 7.72c-.78.78-.78 2.05 0 2.83L4 21.41c.39.39.9.59 1.41.59.51 0 1.02-.2 1.41-.59l7.78-7.78 2.81-2.81c.8-.78.8-2.07 0-2.86zM5.41 20L4 18.59l7.72-7.72 1.47 1.35L5.41 20z\"/>\n",
              "  </svg>\n",
              "      </button>\n",
              "      \n",
              "  <style>\n",
              "    .colab-df-container {\n",
              "      display:flex;\n",
              "      flex-wrap:wrap;\n",
              "      gap: 12px;\n",
              "    }\n",
              "\n",
              "    .colab-df-convert {\n",
              "      background-color: #E8F0FE;\n",
              "      border: none;\n",
              "      border-radius: 50%;\n",
              "      cursor: pointer;\n",
              "      display: none;\n",
              "      fill: #1967D2;\n",
              "      height: 32px;\n",
              "      padding: 0 0 0 0;\n",
              "      width: 32px;\n",
              "    }\n",
              "\n",
              "    .colab-df-convert:hover {\n",
              "      background-color: #E2EBFA;\n",
              "      box-shadow: 0px 1px 2px rgba(60, 64, 67, 0.3), 0px 1px 3px 1px rgba(60, 64, 67, 0.15);\n",
              "      fill: #174EA6;\n",
              "    }\n",
              "\n",
              "    [theme=dark] .colab-df-convert {\n",
              "      background-color: #3B4455;\n",
              "      fill: #D2E3FC;\n",
              "    }\n",
              "\n",
              "    [theme=dark] .colab-df-convert:hover {\n",
              "      background-color: #434B5C;\n",
              "      box-shadow: 0px 1px 3px 1px rgba(0, 0, 0, 0.15);\n",
              "      filter: drop-shadow(0px 1px 2px rgba(0, 0, 0, 0.3));\n",
              "      fill: #FFFFFF;\n",
              "    }\n",
              "  </style>\n",
              "\n",
              "      <script>\n",
              "        const buttonEl =\n",
              "          document.querySelector('#df-ed1b3f67-3ae6-478a-9aea-a0f0625e5dfd button.colab-df-convert');\n",
              "        buttonEl.style.display =\n",
              "          google.colab.kernel.accessAllowed ? 'block' : 'none';\n",
              "\n",
              "        async function convertToInteractive(key) {\n",
              "          const element = document.querySelector('#df-ed1b3f67-3ae6-478a-9aea-a0f0625e5dfd');\n",
              "          const dataTable =\n",
              "            await google.colab.kernel.invokeFunction('convertToInteractive',\n",
              "                                                     [key], {});\n",
              "          if (!dataTable) return;\n",
              "\n",
              "          const docLinkHtml = 'Like what you see? Visit the ' +\n",
              "            '<a target=\"_blank\" href=https://colab.research.google.com/notebooks/data_table.ipynb>data table notebook</a>'\n",
              "            + ' to learn more about interactive tables.';\n",
              "          element.innerHTML = '';\n",
              "          dataTable['output_type'] = 'display_data';\n",
              "          await google.colab.output.renderOutput(dataTable, element);\n",
              "          const docLink = document.createElement('div');\n",
              "          docLink.innerHTML = docLinkHtml;\n",
              "          element.appendChild(docLink);\n",
              "        }\n",
              "      </script>\n",
              "    </div>\n",
              "  </div>\n",
              "  "
            ]
          },
          "metadata": {},
          "execution_count": 132
        }
      ],
      "source": [
        "# columnsは指定しよう\n",
        "df1"
      ]
    },
    {
      "cell_type": "code",
      "source": [
        "# 各列はSeries\n",
        "df1['年齢']"
      ],
      "metadata": {
        "colab": {
          "base_uri": "https://localhost:8080/"
        },
        "id": "e2L-sAg0xTze",
        "outputId": "d679e22c-299c-4a8c-ff92-7d8c9df4956c"
      },
      "id": "e2L-sAg0xTze",
      "execution_count": null,
      "outputs": [
        {
          "output_type": "execute_result",
          "data": {
            "text/plain": [
              "0    18\n",
              "1    42\n",
              "2    32\n",
              "Name: 年齢, dtype: int64"
            ]
          },
          "metadata": {},
          "execution_count": 134
        }
      ]
    },
    {
      "cell_type": "code",
      "source": [
        "# 0-2行目まで表示\n",
        "df[0:2]"
      ],
      "metadata": {
        "id": "WT07YQJ98SNT",
        "outputId": "1e30b282-34a4-4fed-9fb8-23afd0bbfb6c",
        "colab": {
          "base_uri": "https://localhost:8080/",
          "height": 112
        }
      },
      "id": "WT07YQJ98SNT",
      "execution_count": null,
      "outputs": [
        {
          "output_type": "execute_result",
          "data": {
            "text/plain": [
              "    0   1      2\n",
              "0  田中  18   True\n",
              "1  山田  42  False"
            ],
            "text/html": [
              "\n",
              "  <div id=\"df-407c2a1f-1706-4a28-a988-643660d2c8a1\">\n",
              "    <div class=\"colab-df-container\">\n",
              "      <div>\n",
              "<style scoped>\n",
              "    .dataframe tbody tr th:only-of-type {\n",
              "        vertical-align: middle;\n",
              "    }\n",
              "\n",
              "    .dataframe tbody tr th {\n",
              "        vertical-align: top;\n",
              "    }\n",
              "\n",
              "    .dataframe thead th {\n",
              "        text-align: right;\n",
              "    }\n",
              "</style>\n",
              "<table border=\"1\" class=\"dataframe\">\n",
              "  <thead>\n",
              "    <tr style=\"text-align: right;\">\n",
              "      <th></th>\n",
              "      <th>0</th>\n",
              "      <th>1</th>\n",
              "      <th>2</th>\n",
              "    </tr>\n",
              "  </thead>\n",
              "  <tbody>\n",
              "    <tr>\n",
              "      <th>0</th>\n",
              "      <td>田中</td>\n",
              "      <td>18</td>\n",
              "      <td>True</td>\n",
              "    </tr>\n",
              "    <tr>\n",
              "      <th>1</th>\n",
              "      <td>山田</td>\n",
              "      <td>42</td>\n",
              "      <td>False</td>\n",
              "    </tr>\n",
              "  </tbody>\n",
              "</table>\n",
              "</div>\n",
              "      <button class=\"colab-df-convert\" onclick=\"convertToInteractive('df-407c2a1f-1706-4a28-a988-643660d2c8a1')\"\n",
              "              title=\"Convert this dataframe to an interactive table.\"\n",
              "              style=\"display:none;\">\n",
              "        \n",
              "  <svg xmlns=\"http://www.w3.org/2000/svg\" height=\"24px\"viewBox=\"0 0 24 24\"\n",
              "       width=\"24px\">\n",
              "    <path d=\"M0 0h24v24H0V0z\" fill=\"none\"/>\n",
              "    <path d=\"M18.56 5.44l.94 2.06.94-2.06 2.06-.94-2.06-.94-.94-2.06-.94 2.06-2.06.94zm-11 1L8.5 8.5l.94-2.06 2.06-.94-2.06-.94L8.5 2.5l-.94 2.06-2.06.94zm10 10l.94 2.06.94-2.06 2.06-.94-2.06-.94-.94-2.06-.94 2.06-2.06.94z\"/><path d=\"M17.41 7.96l-1.37-1.37c-.4-.4-.92-.59-1.43-.59-.52 0-1.04.2-1.43.59L10.3 9.45l-7.72 7.72c-.78.78-.78 2.05 0 2.83L4 21.41c.39.39.9.59 1.41.59.51 0 1.02-.2 1.41-.59l7.78-7.78 2.81-2.81c.8-.78.8-2.07 0-2.86zM5.41 20L4 18.59l7.72-7.72 1.47 1.35L5.41 20z\"/>\n",
              "  </svg>\n",
              "      </button>\n",
              "      \n",
              "  <style>\n",
              "    .colab-df-container {\n",
              "      display:flex;\n",
              "      flex-wrap:wrap;\n",
              "      gap: 12px;\n",
              "    }\n",
              "\n",
              "    .colab-df-convert {\n",
              "      background-color: #E8F0FE;\n",
              "      border: none;\n",
              "      border-radius: 50%;\n",
              "      cursor: pointer;\n",
              "      display: none;\n",
              "      fill: #1967D2;\n",
              "      height: 32px;\n",
              "      padding: 0 0 0 0;\n",
              "      width: 32px;\n",
              "    }\n",
              "\n",
              "    .colab-df-convert:hover {\n",
              "      background-color: #E2EBFA;\n",
              "      box-shadow: 0px 1px 2px rgba(60, 64, 67, 0.3), 0px 1px 3px 1px rgba(60, 64, 67, 0.15);\n",
              "      fill: #174EA6;\n",
              "    }\n",
              "\n",
              "    [theme=dark] .colab-df-convert {\n",
              "      background-color: #3B4455;\n",
              "      fill: #D2E3FC;\n",
              "    }\n",
              "\n",
              "    [theme=dark] .colab-df-convert:hover {\n",
              "      background-color: #434B5C;\n",
              "      box-shadow: 0px 1px 3px 1px rgba(0, 0, 0, 0.15);\n",
              "      filter: drop-shadow(0px 1px 2px rgba(0, 0, 0, 0.3));\n",
              "      fill: #FFFFFF;\n",
              "    }\n",
              "  </style>\n",
              "\n",
              "      <script>\n",
              "        const buttonEl =\n",
              "          document.querySelector('#df-407c2a1f-1706-4a28-a988-643660d2c8a1 button.colab-df-convert');\n",
              "        buttonEl.style.display =\n",
              "          google.colab.kernel.accessAllowed ? 'block' : 'none';\n",
              "\n",
              "        async function convertToInteractive(key) {\n",
              "          const element = document.querySelector('#df-407c2a1f-1706-4a28-a988-643660d2c8a1');\n",
              "          const dataTable =\n",
              "            await google.colab.kernel.invokeFunction('convertToInteractive',\n",
              "                                                     [key], {});\n",
              "          if (!dataTable) return;\n",
              "\n",
              "          const docLinkHtml = 'Like what you see? Visit the ' +\n",
              "            '<a target=\"_blank\" href=https://colab.research.google.com/notebooks/data_table.ipynb>data table notebook</a>'\n",
              "            + ' to learn more about interactive tables.';\n",
              "          element.innerHTML = '';\n",
              "          dataTable['output_type'] = 'display_data';\n",
              "          await google.colab.output.renderOutput(dataTable, element);\n",
              "          const docLink = document.createElement('div');\n",
              "          docLink.innerHTML = docLinkHtml;\n",
              "          element.appendChild(docLink);\n",
              "        }\n",
              "      </script>\n",
              "    </div>\n",
              "  </div>\n",
              "  "
            ]
          },
          "metadata": {},
          "execution_count": 150
        }
      ]
    },
    {
      "cell_type": "code",
      "source": [
        "# 行にアクセスするときはlocとか\n",
        "df1.loc[0]"
      ],
      "metadata": {
        "colab": {
          "base_uri": "https://localhost:8080/"
        },
        "id": "yROS5oBlxWcC",
        "outputId": "46205e88-2563-443d-d964-228a663b886a"
      },
      "id": "yROS5oBlxWcC",
      "execution_count": null,
      "outputs": [
        {
          "output_type": "execute_result",
          "data": {
            "text/plain": [
              "名前      田中\n",
              "年齢      18\n",
              "男     True\n",
              "Name: 0, dtype: object"
            ]
          },
          "metadata": {},
          "execution_count": 135
        }
      ]
    },
    {
      "cell_type": "code",
      "execution_count": null,
      "id": "985e6829-2692-42fb-9eaa-e5532aab22ec",
      "metadata": {
        "colab": {
          "base_uri": "https://localhost:8080/"
        },
        "id": "985e6829-2692-42fb-9eaa-e5532aab22ec",
        "outputId": "a8c4f562-834f-47b4-8e8d-760e14f674cb"
      },
      "outputs": [
        {
          "output_type": "execute_result",
          "data": {
            "text/plain": [
              "0    163\n",
              "1    155\n",
              "2    171\n",
              "dtype: int64"
            ]
          },
          "metadata": {},
          "execution_count": 136
        }
      ],
      "source": [
        "# seriesはこう\n",
        "hight1 = [163,155,171]\n",
        "hight2 = [160,180,163]\n",
        "sr1 = pd.Series(hight1)\n",
        "sr1"
      ]
    },
    {
      "cell_type": "code",
      "execution_count": null,
      "id": "815706b7-00bd-4472-8310-f0bc6e807690",
      "metadata": {
        "id": "815706b7-00bd-4472-8310-f0bc6e807690"
      },
      "outputs": [],
      "source": [
        "# Seriesとか配列で列を増やせる\n",
        "df1['身長']=sr1\n",
        "df2['身長']=hight2"
      ]
    },
    {
      "cell_type": "code",
      "execution_count": null,
      "id": "aa98a9a6-26a8-40ca-9a4c-124877234f41",
      "metadata": {
        "colab": {
          "base_uri": "https://localhost:8080/",
          "height": 143
        },
        "id": "aa98a9a6-26a8-40ca-9a4c-124877234f41",
        "outputId": "4d5d3e67-e76d-4220-e553-f0190c661561"
      },
      "outputs": [
        {
          "output_type": "execute_result",
          "data": {
            "text/plain": [
              "   名前  年齢      男   身長\n",
              "0  田中  18   True  163\n",
              "1  山田  42  False  155\n",
              "2  鈴木  32   True  171"
            ],
            "text/html": [
              "\n",
              "  <div id=\"df-fbbe783f-33a1-43f9-be8d-120cea724f1b\">\n",
              "    <div class=\"colab-df-container\">\n",
              "      <div>\n",
              "<style scoped>\n",
              "    .dataframe tbody tr th:only-of-type {\n",
              "        vertical-align: middle;\n",
              "    }\n",
              "\n",
              "    .dataframe tbody tr th {\n",
              "        vertical-align: top;\n",
              "    }\n",
              "\n",
              "    .dataframe thead th {\n",
              "        text-align: right;\n",
              "    }\n",
              "</style>\n",
              "<table border=\"1\" class=\"dataframe\">\n",
              "  <thead>\n",
              "    <tr style=\"text-align: right;\">\n",
              "      <th></th>\n",
              "      <th>名前</th>\n",
              "      <th>年齢</th>\n",
              "      <th>男</th>\n",
              "      <th>身長</th>\n",
              "    </tr>\n",
              "  </thead>\n",
              "  <tbody>\n",
              "    <tr>\n",
              "      <th>0</th>\n",
              "      <td>田中</td>\n",
              "      <td>18</td>\n",
              "      <td>True</td>\n",
              "      <td>163</td>\n",
              "    </tr>\n",
              "    <tr>\n",
              "      <th>1</th>\n",
              "      <td>山田</td>\n",
              "      <td>42</td>\n",
              "      <td>False</td>\n",
              "      <td>155</td>\n",
              "    </tr>\n",
              "    <tr>\n",
              "      <th>2</th>\n",
              "      <td>鈴木</td>\n",
              "      <td>32</td>\n",
              "      <td>True</td>\n",
              "      <td>171</td>\n",
              "    </tr>\n",
              "  </tbody>\n",
              "</table>\n",
              "</div>\n",
              "      <button class=\"colab-df-convert\" onclick=\"convertToInteractive('df-fbbe783f-33a1-43f9-be8d-120cea724f1b')\"\n",
              "              title=\"Convert this dataframe to an interactive table.\"\n",
              "              style=\"display:none;\">\n",
              "        \n",
              "  <svg xmlns=\"http://www.w3.org/2000/svg\" height=\"24px\"viewBox=\"0 0 24 24\"\n",
              "       width=\"24px\">\n",
              "    <path d=\"M0 0h24v24H0V0z\" fill=\"none\"/>\n",
              "    <path d=\"M18.56 5.44l.94 2.06.94-2.06 2.06-.94-2.06-.94-.94-2.06-.94 2.06-2.06.94zm-11 1L8.5 8.5l.94-2.06 2.06-.94-2.06-.94L8.5 2.5l-.94 2.06-2.06.94zm10 10l.94 2.06.94-2.06 2.06-.94-2.06-.94-.94-2.06-.94 2.06-2.06.94z\"/><path d=\"M17.41 7.96l-1.37-1.37c-.4-.4-.92-.59-1.43-.59-.52 0-1.04.2-1.43.59L10.3 9.45l-7.72 7.72c-.78.78-.78 2.05 0 2.83L4 21.41c.39.39.9.59 1.41.59.51 0 1.02-.2 1.41-.59l7.78-7.78 2.81-2.81c.8-.78.8-2.07 0-2.86zM5.41 20L4 18.59l7.72-7.72 1.47 1.35L5.41 20z\"/>\n",
              "  </svg>\n",
              "      </button>\n",
              "      \n",
              "  <style>\n",
              "    .colab-df-container {\n",
              "      display:flex;\n",
              "      flex-wrap:wrap;\n",
              "      gap: 12px;\n",
              "    }\n",
              "\n",
              "    .colab-df-convert {\n",
              "      background-color: #E8F0FE;\n",
              "      border: none;\n",
              "      border-radius: 50%;\n",
              "      cursor: pointer;\n",
              "      display: none;\n",
              "      fill: #1967D2;\n",
              "      height: 32px;\n",
              "      padding: 0 0 0 0;\n",
              "      width: 32px;\n",
              "    }\n",
              "\n",
              "    .colab-df-convert:hover {\n",
              "      background-color: #E2EBFA;\n",
              "      box-shadow: 0px 1px 2px rgba(60, 64, 67, 0.3), 0px 1px 3px 1px rgba(60, 64, 67, 0.15);\n",
              "      fill: #174EA6;\n",
              "    }\n",
              "\n",
              "    [theme=dark] .colab-df-convert {\n",
              "      background-color: #3B4455;\n",
              "      fill: #D2E3FC;\n",
              "    }\n",
              "\n",
              "    [theme=dark] .colab-df-convert:hover {\n",
              "      background-color: #434B5C;\n",
              "      box-shadow: 0px 1px 3px 1px rgba(0, 0, 0, 0.15);\n",
              "      filter: drop-shadow(0px 1px 2px rgba(0, 0, 0, 0.3));\n",
              "      fill: #FFFFFF;\n",
              "    }\n",
              "  </style>\n",
              "\n",
              "      <script>\n",
              "        const buttonEl =\n",
              "          document.querySelector('#df-fbbe783f-33a1-43f9-be8d-120cea724f1b button.colab-df-convert');\n",
              "        buttonEl.style.display =\n",
              "          google.colab.kernel.accessAllowed ? 'block' : 'none';\n",
              "\n",
              "        async function convertToInteractive(key) {\n",
              "          const element = document.querySelector('#df-fbbe783f-33a1-43f9-be8d-120cea724f1b');\n",
              "          const dataTable =\n",
              "            await google.colab.kernel.invokeFunction('convertToInteractive',\n",
              "                                                     [key], {});\n",
              "          if (!dataTable) return;\n",
              "\n",
              "          const docLinkHtml = 'Like what you see? Visit the ' +\n",
              "            '<a target=\"_blank\" href=https://colab.research.google.com/notebooks/data_table.ipynb>data table notebook</a>'\n",
              "            + ' to learn more about interactive tables.';\n",
              "          element.innerHTML = '';\n",
              "          dataTable['output_type'] = 'display_data';\n",
              "          await google.colab.output.renderOutput(dataTable, element);\n",
              "          const docLink = document.createElement('div');\n",
              "          docLink.innerHTML = docLinkHtml;\n",
              "          element.appendChild(docLink);\n",
              "        }\n",
              "      </script>\n",
              "    </div>\n",
              "  </div>\n",
              "  "
            ]
          },
          "metadata": {},
          "execution_count": 138
        }
      ],
      "source": [
        "df1"
      ]
    },
    {
      "cell_type": "code",
      "execution_count": null,
      "id": "cbaeb230-6199-499c-b0cd-3decb03db17d",
      "metadata": {
        "id": "cbaeb230-6199-499c-b0cd-3decb03db17d"
      },
      "outputs": [],
      "source": [
        "# 結合できる\n",
        "df_merged = pd.concat([df1,df2])"
      ]
    },
    {
      "cell_type": "code",
      "source": [
        "# indexのリセット\n",
        "df_merged = df_merged.reset_index(drop=True)"
      ],
      "metadata": {
        "id": "uddgQs9fvvBB"
      },
      "id": "uddgQs9fvvBB",
      "execution_count": null,
      "outputs": []
    },
    {
      "cell_type": "code",
      "source": [
        "# csvで出力できる\n",
        "df_merged.to_csv('hoge.csv')"
      ],
      "metadata": {
        "id": "p0N6-r4Wv3CM"
      },
      "id": "p0N6-r4Wv3CM",
      "execution_count": null,
      "outputs": []
    },
    {
      "cell_type": "code",
      "source": [
        "!cat hoge.csv"
      ],
      "metadata": {
        "colab": {
          "base_uri": "https://localhost:8080/"
        },
        "id": "gytB5oLcwBFB",
        "outputId": "9b0e6cf6-4eca-41fb-ad25-873c52d34560"
      },
      "id": "gytB5oLcwBFB",
      "execution_count": null,
      "outputs": [
        {
          "output_type": "stream",
          "name": "stdout",
          "text": [
            ",名前,年齢,男,身長\n",
            "0,田中,18,True,163\n",
            "1,山田,42,False,155\n",
            "2,鈴木,32,True,171\n",
            "3,林,22,False,160\n",
            "4,斎藤,18,True,180\n",
            "5,大田,25,False,163\n"
          ]
        }
      ]
    },
    {
      "cell_type": "code",
      "execution_count": null,
      "id": "5388aa13-77df-43a0-9eed-d5e02a436866",
      "metadata": {
        "colab": {
          "base_uri": "https://localhost:8080/",
          "height": 238
        },
        "id": "5388aa13-77df-43a0-9eed-d5e02a436866",
        "outputId": "8c61037f-30ac-4f18-e131-77c7ae6d55a9"
      },
      "outputs": [
        {
          "output_type": "execute_result",
          "data": {
            "text/plain": [
              "   名前  年齢      男   身長\n",
              "0  田中  18   True  163\n",
              "1  山田  42  False  155\n",
              "2  鈴木  32   True  171\n",
              "3   林  22  False  160\n",
              "4  斎藤  18   True  180\n",
              "5  大田  25  False  163"
            ],
            "text/html": [
              "\n",
              "  <div id=\"df-7c25d227-9471-4839-b2e9-644c1d7001ff\">\n",
              "    <div class=\"colab-df-container\">\n",
              "      <div>\n",
              "<style scoped>\n",
              "    .dataframe tbody tr th:only-of-type {\n",
              "        vertical-align: middle;\n",
              "    }\n",
              "\n",
              "    .dataframe tbody tr th {\n",
              "        vertical-align: top;\n",
              "    }\n",
              "\n",
              "    .dataframe thead th {\n",
              "        text-align: right;\n",
              "    }\n",
              "</style>\n",
              "<table border=\"1\" class=\"dataframe\">\n",
              "  <thead>\n",
              "    <tr style=\"text-align: right;\">\n",
              "      <th></th>\n",
              "      <th>名前</th>\n",
              "      <th>年齢</th>\n",
              "      <th>男</th>\n",
              "      <th>身長</th>\n",
              "    </tr>\n",
              "  </thead>\n",
              "  <tbody>\n",
              "    <tr>\n",
              "      <th>0</th>\n",
              "      <td>田中</td>\n",
              "      <td>18</td>\n",
              "      <td>True</td>\n",
              "      <td>163</td>\n",
              "    </tr>\n",
              "    <tr>\n",
              "      <th>1</th>\n",
              "      <td>山田</td>\n",
              "      <td>42</td>\n",
              "      <td>False</td>\n",
              "      <td>155</td>\n",
              "    </tr>\n",
              "    <tr>\n",
              "      <th>2</th>\n",
              "      <td>鈴木</td>\n",
              "      <td>32</td>\n",
              "      <td>True</td>\n",
              "      <td>171</td>\n",
              "    </tr>\n",
              "    <tr>\n",
              "      <th>3</th>\n",
              "      <td>林</td>\n",
              "      <td>22</td>\n",
              "      <td>False</td>\n",
              "      <td>160</td>\n",
              "    </tr>\n",
              "    <tr>\n",
              "      <th>4</th>\n",
              "      <td>斎藤</td>\n",
              "      <td>18</td>\n",
              "      <td>True</td>\n",
              "      <td>180</td>\n",
              "    </tr>\n",
              "    <tr>\n",
              "      <th>5</th>\n",
              "      <td>大田</td>\n",
              "      <td>25</td>\n",
              "      <td>False</td>\n",
              "      <td>163</td>\n",
              "    </tr>\n",
              "  </tbody>\n",
              "</table>\n",
              "</div>\n",
              "      <button class=\"colab-df-convert\" onclick=\"convertToInteractive('df-7c25d227-9471-4839-b2e9-644c1d7001ff')\"\n",
              "              title=\"Convert this dataframe to an interactive table.\"\n",
              "              style=\"display:none;\">\n",
              "        \n",
              "  <svg xmlns=\"http://www.w3.org/2000/svg\" height=\"24px\"viewBox=\"0 0 24 24\"\n",
              "       width=\"24px\">\n",
              "    <path d=\"M0 0h24v24H0V0z\" fill=\"none\"/>\n",
              "    <path d=\"M18.56 5.44l.94 2.06.94-2.06 2.06-.94-2.06-.94-.94-2.06-.94 2.06-2.06.94zm-11 1L8.5 8.5l.94-2.06 2.06-.94-2.06-.94L8.5 2.5l-.94 2.06-2.06.94zm10 10l.94 2.06.94-2.06 2.06-.94-2.06-.94-.94-2.06-.94 2.06-2.06.94z\"/><path d=\"M17.41 7.96l-1.37-1.37c-.4-.4-.92-.59-1.43-.59-.52 0-1.04.2-1.43.59L10.3 9.45l-7.72 7.72c-.78.78-.78 2.05 0 2.83L4 21.41c.39.39.9.59 1.41.59.51 0 1.02-.2 1.41-.59l7.78-7.78 2.81-2.81c.8-.78.8-2.07 0-2.86zM5.41 20L4 18.59l7.72-7.72 1.47 1.35L5.41 20z\"/>\n",
              "  </svg>\n",
              "      </button>\n",
              "      \n",
              "  <style>\n",
              "    .colab-df-container {\n",
              "      display:flex;\n",
              "      flex-wrap:wrap;\n",
              "      gap: 12px;\n",
              "    }\n",
              "\n",
              "    .colab-df-convert {\n",
              "      background-color: #E8F0FE;\n",
              "      border: none;\n",
              "      border-radius: 50%;\n",
              "      cursor: pointer;\n",
              "      display: none;\n",
              "      fill: #1967D2;\n",
              "      height: 32px;\n",
              "      padding: 0 0 0 0;\n",
              "      width: 32px;\n",
              "    }\n",
              "\n",
              "    .colab-df-convert:hover {\n",
              "      background-color: #E2EBFA;\n",
              "      box-shadow: 0px 1px 2px rgba(60, 64, 67, 0.3), 0px 1px 3px 1px rgba(60, 64, 67, 0.15);\n",
              "      fill: #174EA6;\n",
              "    }\n",
              "\n",
              "    [theme=dark] .colab-df-convert {\n",
              "      background-color: #3B4455;\n",
              "      fill: #D2E3FC;\n",
              "    }\n",
              "\n",
              "    [theme=dark] .colab-df-convert:hover {\n",
              "      background-color: #434B5C;\n",
              "      box-shadow: 0px 1px 3px 1px rgba(0, 0, 0, 0.15);\n",
              "      filter: drop-shadow(0px 1px 2px rgba(0, 0, 0, 0.3));\n",
              "      fill: #FFFFFF;\n",
              "    }\n",
              "  </style>\n",
              "\n",
              "      <script>\n",
              "        const buttonEl =\n",
              "          document.querySelector('#df-7c25d227-9471-4839-b2e9-644c1d7001ff button.colab-df-convert');\n",
              "        buttonEl.style.display =\n",
              "          google.colab.kernel.accessAllowed ? 'block' : 'none';\n",
              "\n",
              "        async function convertToInteractive(key) {\n",
              "          const element = document.querySelector('#df-7c25d227-9471-4839-b2e9-644c1d7001ff');\n",
              "          const dataTable =\n",
              "            await google.colab.kernel.invokeFunction('convertToInteractive',\n",
              "                                                     [key], {});\n",
              "          if (!dataTable) return;\n",
              "\n",
              "          const docLinkHtml = 'Like what you see? Visit the ' +\n",
              "            '<a target=\"_blank\" href=https://colab.research.google.com/notebooks/data_table.ipynb>data table notebook</a>'\n",
              "            + ' to learn more about interactive tables.';\n",
              "          element.innerHTML = '';\n",
              "          dataTable['output_type'] = 'display_data';\n",
              "          await google.colab.output.renderOutput(dataTable, element);\n",
              "          const docLink = document.createElement('div');\n",
              "          docLink.innerHTML = docLinkHtml;\n",
              "          element.appendChild(docLink);\n",
              "        }\n",
              "      </script>\n",
              "    </div>\n",
              "  </div>\n",
              "  "
            ]
          },
          "metadata": {},
          "execution_count": 143
        }
      ],
      "source": [
        "# サンプルのcsvを生成\n",
        "pd.read_csv('hoge.csv', index_col=0) # index_col=0を取るとどうなる？"
      ]
    },
    {
      "cell_type": "markdown",
      "source": [
        "統計的な処理とか"
      ],
      "metadata": {
        "id": "WXMlJWYFwGus"
      },
      "id": "WXMlJWYFwGus"
    },
    {
      "cell_type": "code",
      "source": [
        "# 先頭だけ表示\n",
        "df.head()"
      ],
      "metadata": {
        "colab": {
          "base_uri": "https://localhost:8080/",
          "height": 143
        },
        "id": "0l06tCQNxOga",
        "outputId": "17d17527-d9c1-4f97-d81b-c45877c7530f"
      },
      "id": "0l06tCQNxOga",
      "execution_count": null,
      "outputs": [
        {
          "output_type": "execute_result",
          "data": {
            "text/plain": [
              "    0   1      2\n",
              "0  田中  18   True\n",
              "1  山田  42  False\n",
              "2  鈴木  32   True"
            ],
            "text/html": [
              "\n",
              "  <div id=\"df-e9258f4e-60e3-416c-b843-6c9554eab505\">\n",
              "    <div class=\"colab-df-container\">\n",
              "      <div>\n",
              "<style scoped>\n",
              "    .dataframe tbody tr th:only-of-type {\n",
              "        vertical-align: middle;\n",
              "    }\n",
              "\n",
              "    .dataframe tbody tr th {\n",
              "        vertical-align: top;\n",
              "    }\n",
              "\n",
              "    .dataframe thead th {\n",
              "        text-align: right;\n",
              "    }\n",
              "</style>\n",
              "<table border=\"1\" class=\"dataframe\">\n",
              "  <thead>\n",
              "    <tr style=\"text-align: right;\">\n",
              "      <th></th>\n",
              "      <th>0</th>\n",
              "      <th>1</th>\n",
              "      <th>2</th>\n",
              "    </tr>\n",
              "  </thead>\n",
              "  <tbody>\n",
              "    <tr>\n",
              "      <th>0</th>\n",
              "      <td>田中</td>\n",
              "      <td>18</td>\n",
              "      <td>True</td>\n",
              "    </tr>\n",
              "    <tr>\n",
              "      <th>1</th>\n",
              "      <td>山田</td>\n",
              "      <td>42</td>\n",
              "      <td>False</td>\n",
              "    </tr>\n",
              "    <tr>\n",
              "      <th>2</th>\n",
              "      <td>鈴木</td>\n",
              "      <td>32</td>\n",
              "      <td>True</td>\n",
              "    </tr>\n",
              "  </tbody>\n",
              "</table>\n",
              "</div>\n",
              "      <button class=\"colab-df-convert\" onclick=\"convertToInteractive('df-e9258f4e-60e3-416c-b843-6c9554eab505')\"\n",
              "              title=\"Convert this dataframe to an interactive table.\"\n",
              "              style=\"display:none;\">\n",
              "        \n",
              "  <svg xmlns=\"http://www.w3.org/2000/svg\" height=\"24px\"viewBox=\"0 0 24 24\"\n",
              "       width=\"24px\">\n",
              "    <path d=\"M0 0h24v24H0V0z\" fill=\"none\"/>\n",
              "    <path d=\"M18.56 5.44l.94 2.06.94-2.06 2.06-.94-2.06-.94-.94-2.06-.94 2.06-2.06.94zm-11 1L8.5 8.5l.94-2.06 2.06-.94-2.06-.94L8.5 2.5l-.94 2.06-2.06.94zm10 10l.94 2.06.94-2.06 2.06-.94-2.06-.94-.94-2.06-.94 2.06-2.06.94z\"/><path d=\"M17.41 7.96l-1.37-1.37c-.4-.4-.92-.59-1.43-.59-.52 0-1.04.2-1.43.59L10.3 9.45l-7.72 7.72c-.78.78-.78 2.05 0 2.83L4 21.41c.39.39.9.59 1.41.59.51 0 1.02-.2 1.41-.59l7.78-7.78 2.81-2.81c.8-.78.8-2.07 0-2.86zM5.41 20L4 18.59l7.72-7.72 1.47 1.35L5.41 20z\"/>\n",
              "  </svg>\n",
              "      </button>\n",
              "      \n",
              "  <style>\n",
              "    .colab-df-container {\n",
              "      display:flex;\n",
              "      flex-wrap:wrap;\n",
              "      gap: 12px;\n",
              "    }\n",
              "\n",
              "    .colab-df-convert {\n",
              "      background-color: #E8F0FE;\n",
              "      border: none;\n",
              "      border-radius: 50%;\n",
              "      cursor: pointer;\n",
              "      display: none;\n",
              "      fill: #1967D2;\n",
              "      height: 32px;\n",
              "      padding: 0 0 0 0;\n",
              "      width: 32px;\n",
              "    }\n",
              "\n",
              "    .colab-df-convert:hover {\n",
              "      background-color: #E2EBFA;\n",
              "      box-shadow: 0px 1px 2px rgba(60, 64, 67, 0.3), 0px 1px 3px 1px rgba(60, 64, 67, 0.15);\n",
              "      fill: #174EA6;\n",
              "    }\n",
              "\n",
              "    [theme=dark] .colab-df-convert {\n",
              "      background-color: #3B4455;\n",
              "      fill: #D2E3FC;\n",
              "    }\n",
              "\n",
              "    [theme=dark] .colab-df-convert:hover {\n",
              "      background-color: #434B5C;\n",
              "      box-shadow: 0px 1px 3px 1px rgba(0, 0, 0, 0.15);\n",
              "      filter: drop-shadow(0px 1px 2px rgba(0, 0, 0, 0.3));\n",
              "      fill: #FFFFFF;\n",
              "    }\n",
              "  </style>\n",
              "\n",
              "      <script>\n",
              "        const buttonEl =\n",
              "          document.querySelector('#df-e9258f4e-60e3-416c-b843-6c9554eab505 button.colab-df-convert');\n",
              "        buttonEl.style.display =\n",
              "          google.colab.kernel.accessAllowed ? 'block' : 'none';\n",
              "\n",
              "        async function convertToInteractive(key) {\n",
              "          const element = document.querySelector('#df-e9258f4e-60e3-416c-b843-6c9554eab505');\n",
              "          const dataTable =\n",
              "            await google.colab.kernel.invokeFunction('convertToInteractive',\n",
              "                                                     [key], {});\n",
              "          if (!dataTable) return;\n",
              "\n",
              "          const docLinkHtml = 'Like what you see? Visit the ' +\n",
              "            '<a target=\"_blank\" href=https://colab.research.google.com/notebooks/data_table.ipynb>data table notebook</a>'\n",
              "            + ' to learn more about interactive tables.';\n",
              "          element.innerHTML = '';\n",
              "          dataTable['output_type'] = 'display_data';\n",
              "          await google.colab.output.renderOutput(dataTable, element);\n",
              "          const docLink = document.createElement('div');\n",
              "          docLink.innerHTML = docLinkHtml;\n",
              "          element.appendChild(docLink);\n",
              "        }\n",
              "      </script>\n",
              "    </div>\n",
              "  </div>\n",
              "  "
            ]
          },
          "metadata": {},
          "execution_count": 144
        }
      ]
    },
    {
      "cell_type": "code",
      "source": [
        "# 平均\n",
        "df_merged['年齢'].mean()\n",
        "# 分散\n",
        "df_merged['年齢'].std()"
      ],
      "metadata": {
        "colab": {
          "base_uri": "https://localhost:8080/"
        },
        "id": "XykCL0NywFz1",
        "outputId": "61a2522a-5007-44a2-c80b-8955877958e9"
      },
      "id": "XykCL0NywFz1",
      "execution_count": null,
      "outputs": [
        {
          "output_type": "execute_result",
          "data": {
            "text/plain": [
              "9.347013783378447"
            ]
          },
          "metadata": {},
          "execution_count": 145
        }
      ]
    },
    {
      "cell_type": "code",
      "source": [
        "# shape\n",
        "df_merged.shape"
      ],
      "metadata": {
        "colab": {
          "base_uri": "https://localhost:8080/"
        },
        "id": "pChYgEP9wN7Q",
        "outputId": "3456c1e3-2dd2-40fe-84dd-2211dc473a7e"
      },
      "id": "pChYgEP9wN7Q",
      "execution_count": null,
      "outputs": [
        {
          "output_type": "execute_result",
          "data": {
            "text/plain": [
              "(6, 4)"
            ]
          },
          "metadata": {},
          "execution_count": 146
        }
      ]
    },
    {
      "cell_type": "markdown",
      "source": [
        "１行ごとにアクセスしたい時（めっちゃ遅い）"
      ],
      "metadata": {
        "id": "nC3u7rvOzRLR"
      },
      "id": "nC3u7rvOzRLR"
    },
    {
      "cell_type": "code",
      "source": [
        "for d in df1.iterrows():\n",
        "  print(d)"
      ],
      "metadata": {
        "colab": {
          "base_uri": "https://localhost:8080/"
        },
        "id": "Ede4Wc_Vy1r3",
        "outputId": "9972143c-9146-40f8-ae50-b0be37cd2403"
      },
      "id": "Ede4Wc_Vy1r3",
      "execution_count": null,
      "outputs": [
        {
          "output_type": "stream",
          "name": "stdout",
          "text": [
            "(0, 名前      田中\n",
            "年齢      18\n",
            "男     True\n",
            "身長     163\n",
            "Name: 0, dtype: object)\n",
            "(1, 名前       山田\n",
            "年齢       42\n",
            "男     False\n",
            "身長      155\n",
            "Name: 1, dtype: object)\n",
            "(2, 名前      鈴木\n",
            "年齢      32\n",
            "男     True\n",
            "身長     171\n",
            "Name: 2, dtype: object)\n"
          ]
        }
      ]
    },
    {
      "cell_type": "code",
      "source": [
        "for d in df1.itertuples():\n",
        "  print(d)\n",
        "# こういうふうにアクセスできる（一応）\n",
        "d.名前"
      ],
      "metadata": {
        "colab": {
          "base_uri": "https://localhost:8080/",
          "height": 88
        },
        "id": "CmXRqvoSy_xd",
        "outputId": "3eeb6571-c3e7-4af5-9318-f208a5dcedba"
      },
      "id": "CmXRqvoSy_xd",
      "execution_count": null,
      "outputs": [
        {
          "output_type": "stream",
          "name": "stdout",
          "text": [
            "Pandas(Index=0, 名前='田中', 年齢=18, 男=True, 身長=163)\n",
            "Pandas(Index=1, 名前='山田', 年齢=42, 男=False, 身長=155)\n",
            "Pandas(Index=2, 名前='鈴木', 年齢=32, 男=True, 身長=171)\n"
          ]
        },
        {
          "output_type": "execute_result",
          "data": {
            "text/plain": [
              "'鈴木'"
            ],
            "application/vnd.google.colaboratory.intrinsic+json": {
              "type": "string"
            }
          },
          "metadata": {},
          "execution_count": 148
        }
      ]
    }
  ],
  "metadata": {
    "kernelspec": {
      "display_name": "play39",
      "language": "python",
      "name": "play39"
    },
    "language_info": {
      "codemirror_mode": {
        "name": "ipython",
        "version": 3
      },
      "file_extension": ".py",
      "mimetype": "text/x-python",
      "name": "python",
      "nbconvert_exporter": "python",
      "pygments_lexer": "ipython3",
      "version": "3.9.2"
    },
    "colab": {
      "name": "機械学習講習会第3回_チートシート.ipynb",
      "provenance": [],
      "collapsed_sections": [],
      "include_colab_link": true
    }
  },
  "nbformat": 4,
  "nbformat_minor": 5
}