{
  "nbformat": 4,
  "nbformat_minor": 0,
  "metadata": {
    "colab": {
      "name": "機械学習講習会第3回.ipynb",
      "provenance": [],
      "collapsed_sections": [
        "eOD4XCkTa8nw"
      ],
      "include_colab_link": true
    },
    "kernelspec": {
      "name": "python3",
      "display_name": "Python 3"
    },
    "language_info": {
      "name": "python"
    }
  },
  "cells": [
    {
      "cell_type": "markdown",
      "metadata": {
        "id": "view-in-github",
        "colab_type": "text"
      },
      "source": [
        "<a href=\"https://colab.research.google.com/github/dacq-trap/MachineLearningWorkshop/blob/main/%E7%AC%AC3%E5%9B%9E.ipynb\" target=\"_parent\"><img src=\"https://colab.research.google.com/assets/colab-badge.svg\" alt=\"Open In Colab\"/></a>"
      ]
    },
    {
      "cell_type": "markdown",
      "source": [
        "# 機械学習講習会第三回"
      ],
      "metadata": {
        "id": "KmYLqBzz1xJt"
      }
    },
    {
      "cell_type": "markdown",
      "source": [
        "## 演習の流れ\n",
        "1. データセットをロード\n",
        "1. pandasを使ってデータセットを加工\n",
        "1. numpyを使って線形回帰を解く\n",
        "\n",
        "前回演習で使用したMNISTでは、データセット加工の部分が既に行われており機械学習モデルに直接投げることが出来ました。\n",
        "\n",
        "この演習では、収集した生データを機械学習に適した形に加工することを目標に進めていきます。\n",
        "\n",
        "\n",
        "データセットにはCalifornia Housing Prices dataset：\n",
        "https://www.kaggle.com/datasets/camnugent/california-housing-prices\n",
        "を一部加工したものを使います。\n",
        "\n",
        "今回はこのデータからmedian_house_value(住宅価格の中央値)を線形回帰で求めてみたいと思います。\n",
        "\n",
        "全体的に「scikit-learn、Keras、TensorFlowによる実践機械学習」をパクっています。\n"
      ],
      "metadata": {
        "id": "9Ef8Slvx14hT"
      }
    },
    {
      "cell_type": "markdown",
      "source": [
        "## 1. データセットのロード\n"
      ],
      "metadata": {
        "id": "5IzUEJg5Gif4"
      }
    },
    {
      "cell_type": "markdown",
      "source": [
        "ダウンロード"
      ],
      "metadata": {
        "id": "-xIkyi_DJ00-"
      }
    },
    {
      "cell_type": "code",
      "source": [
        "import os\n",
        "import tarfile\n",
        "import urllib.request\n",
        "import pandas as pd\n",
        "\n",
        "DOWNLOAD_ROOT = \"https://raw.githubusercontent.com/ageron/handson-ml2/master/\"\n",
        "HOUSING_PATH = os.path.join(\"datasets\", \"housing\")\n",
        "HOUSING_URL = DOWNLOAD_ROOT + \"datasets/housing/housing.tgz\"\n",
        "\n",
        "def load_housing_data():\n",
        "    if not os.path.isdir(HOUSING_PATH):\n",
        "        os.makedirs(HOUSING_PATH)\n",
        "    tgz_path = os.path.join(HOUSING_PATH, \"housing.tgz\")\n",
        "    urllib.request.urlretrieve(HOUSING_URL, tgz_path)\n",
        "    housing_tgz = tarfile.open(tgz_path)\n",
        "    housing_tgz.extractall(path=HOUSING_PATH)\n",
        "    housing_tgz.close()\n",
        "\n",
        "    csv_path = os.path.join(HOUSING_PATH, \"housing.csv\")\n",
        "    return pd.read_csv(csv_path)\n",
        "\n",
        "\n",
        "housing = load_housing_data()"
      ],
      "metadata": {
        "id": "4wcMtVdY7_7b"
      },
      "execution_count": null,
      "outputs": []
    },
    {
      "cell_type": "markdown",
      "source": [
        "中身確認\n",
        "\n",
        "pandasで読み込んだデータはDataFrameという型となります。\n",
        "\n",
        "データセットを保持・加工するのに適しています。"
      ],
      "metadata": {
        "id": "tE0pV-PHJtlT"
      }
    },
    {
      "cell_type": "code",
      "source": [
        "housing.head()"
      ],
      "metadata": {
        "colab": {
          "base_uri": "https://localhost:8080/",
          "height": 206
        },
        "id": "p8NGs9ES9Ijv",
        "outputId": "352cca81-1c73-4e46-e5db-23830053d82b"
      },
      "execution_count": null,
      "outputs": [
        {
          "output_type": "execute_result",
          "data": {
            "text/plain": [
              "   longitude  latitude  housing_median_age  total_rooms  total_bedrooms  \\\n",
              "0    -122.23     37.88                41.0        880.0           129.0   \n",
              "1    -122.22     37.86                21.0       7099.0          1106.0   \n",
              "2    -122.24     37.85                52.0       1467.0           190.0   \n",
              "3    -122.25     37.85                52.0       1274.0           235.0   \n",
              "4    -122.25     37.85                52.0       1627.0           280.0   \n",
              "\n",
              "   population  households  median_income  median_house_value ocean_proximity  \n",
              "0       322.0       126.0         8.3252            452600.0        NEAR BAY  \n",
              "1      2401.0      1138.0         8.3014            358500.0        NEAR BAY  \n",
              "2       496.0       177.0         7.2574            352100.0        NEAR BAY  \n",
              "3       558.0       219.0         5.6431            341300.0        NEAR BAY  \n",
              "4       565.0       259.0         3.8462            342200.0        NEAR BAY  "
            ],
            "text/html": [
              "\n",
              "  <div id=\"df-31c892f0-1299-4512-b5d5-707327dca7e8\">\n",
              "    <div class=\"colab-df-container\">\n",
              "      <div>\n",
              "<style scoped>\n",
              "    .dataframe tbody tr th:only-of-type {\n",
              "        vertical-align: middle;\n",
              "    }\n",
              "\n",
              "    .dataframe tbody tr th {\n",
              "        vertical-align: top;\n",
              "    }\n",
              "\n",
              "    .dataframe thead th {\n",
              "        text-align: right;\n",
              "    }\n",
              "</style>\n",
              "<table border=\"1\" class=\"dataframe\">\n",
              "  <thead>\n",
              "    <tr style=\"text-align: right;\">\n",
              "      <th></th>\n",
              "      <th>longitude</th>\n",
              "      <th>latitude</th>\n",
              "      <th>housing_median_age</th>\n",
              "      <th>total_rooms</th>\n",
              "      <th>total_bedrooms</th>\n",
              "      <th>population</th>\n",
              "      <th>households</th>\n",
              "      <th>median_income</th>\n",
              "      <th>median_house_value</th>\n",
              "      <th>ocean_proximity</th>\n",
              "    </tr>\n",
              "  </thead>\n",
              "  <tbody>\n",
              "    <tr>\n",
              "      <th>0</th>\n",
              "      <td>-122.23</td>\n",
              "      <td>37.88</td>\n",
              "      <td>41.0</td>\n",
              "      <td>880.0</td>\n",
              "      <td>129.0</td>\n",
              "      <td>322.0</td>\n",
              "      <td>126.0</td>\n",
              "      <td>8.3252</td>\n",
              "      <td>452600.0</td>\n",
              "      <td>NEAR BAY</td>\n",
              "    </tr>\n",
              "    <tr>\n",
              "      <th>1</th>\n",
              "      <td>-122.22</td>\n",
              "      <td>37.86</td>\n",
              "      <td>21.0</td>\n",
              "      <td>7099.0</td>\n",
              "      <td>1106.0</td>\n",
              "      <td>2401.0</td>\n",
              "      <td>1138.0</td>\n",
              "      <td>8.3014</td>\n",
              "      <td>358500.0</td>\n",
              "      <td>NEAR BAY</td>\n",
              "    </tr>\n",
              "    <tr>\n",
              "      <th>2</th>\n",
              "      <td>-122.24</td>\n",
              "      <td>37.85</td>\n",
              "      <td>52.0</td>\n",
              "      <td>1467.0</td>\n",
              "      <td>190.0</td>\n",
              "      <td>496.0</td>\n",
              "      <td>177.0</td>\n",
              "      <td>7.2574</td>\n",
              "      <td>352100.0</td>\n",
              "      <td>NEAR BAY</td>\n",
              "    </tr>\n",
              "    <tr>\n",
              "      <th>3</th>\n",
              "      <td>-122.25</td>\n",
              "      <td>37.85</td>\n",
              "      <td>52.0</td>\n",
              "      <td>1274.0</td>\n",
              "      <td>235.0</td>\n",
              "      <td>558.0</td>\n",
              "      <td>219.0</td>\n",
              "      <td>5.6431</td>\n",
              "      <td>341300.0</td>\n",
              "      <td>NEAR BAY</td>\n",
              "    </tr>\n",
              "    <tr>\n",
              "      <th>4</th>\n",
              "      <td>-122.25</td>\n",
              "      <td>37.85</td>\n",
              "      <td>52.0</td>\n",
              "      <td>1627.0</td>\n",
              "      <td>280.0</td>\n",
              "      <td>565.0</td>\n",
              "      <td>259.0</td>\n",
              "      <td>3.8462</td>\n",
              "      <td>342200.0</td>\n",
              "      <td>NEAR BAY</td>\n",
              "    </tr>\n",
              "  </tbody>\n",
              "</table>\n",
              "</div>\n",
              "      <button class=\"colab-df-convert\" onclick=\"convertToInteractive('df-31c892f0-1299-4512-b5d5-707327dca7e8')\"\n",
              "              title=\"Convert this dataframe to an interactive table.\"\n",
              "              style=\"display:none;\">\n",
              "        \n",
              "  <svg xmlns=\"http://www.w3.org/2000/svg\" height=\"24px\"viewBox=\"0 0 24 24\"\n",
              "       width=\"24px\">\n",
              "    <path d=\"M0 0h24v24H0V0z\" fill=\"none\"/>\n",
              "    <path d=\"M18.56 5.44l.94 2.06.94-2.06 2.06-.94-2.06-.94-.94-2.06-.94 2.06-2.06.94zm-11 1L8.5 8.5l.94-2.06 2.06-.94-2.06-.94L8.5 2.5l-.94 2.06-2.06.94zm10 10l.94 2.06.94-2.06 2.06-.94-2.06-.94-.94-2.06-.94 2.06-2.06.94z\"/><path d=\"M17.41 7.96l-1.37-1.37c-.4-.4-.92-.59-1.43-.59-.52 0-1.04.2-1.43.59L10.3 9.45l-7.72 7.72c-.78.78-.78 2.05 0 2.83L4 21.41c.39.39.9.59 1.41.59.51 0 1.02-.2 1.41-.59l7.78-7.78 2.81-2.81c.8-.78.8-2.07 0-2.86zM5.41 20L4 18.59l7.72-7.72 1.47 1.35L5.41 20z\"/>\n",
              "  </svg>\n",
              "      </button>\n",
              "      \n",
              "  <style>\n",
              "    .colab-df-container {\n",
              "      display:flex;\n",
              "      flex-wrap:wrap;\n",
              "      gap: 12px;\n",
              "    }\n",
              "\n",
              "    .colab-df-convert {\n",
              "      background-color: #E8F0FE;\n",
              "      border: none;\n",
              "      border-radius: 50%;\n",
              "      cursor: pointer;\n",
              "      display: none;\n",
              "      fill: #1967D2;\n",
              "      height: 32px;\n",
              "      padding: 0 0 0 0;\n",
              "      width: 32px;\n",
              "    }\n",
              "\n",
              "    .colab-df-convert:hover {\n",
              "      background-color: #E2EBFA;\n",
              "      box-shadow: 0px 1px 2px rgba(60, 64, 67, 0.3), 0px 1px 3px 1px rgba(60, 64, 67, 0.15);\n",
              "      fill: #174EA6;\n",
              "    }\n",
              "\n",
              "    [theme=dark] .colab-df-convert {\n",
              "      background-color: #3B4455;\n",
              "      fill: #D2E3FC;\n",
              "    }\n",
              "\n",
              "    [theme=dark] .colab-df-convert:hover {\n",
              "      background-color: #434B5C;\n",
              "      box-shadow: 0px 1px 3px 1px rgba(0, 0, 0, 0.15);\n",
              "      filter: drop-shadow(0px 1px 2px rgba(0, 0, 0, 0.3));\n",
              "      fill: #FFFFFF;\n",
              "    }\n",
              "  </style>\n",
              "\n",
              "      <script>\n",
              "        const buttonEl =\n",
              "          document.querySelector('#df-31c892f0-1299-4512-b5d5-707327dca7e8 button.colab-df-convert');\n",
              "        buttonEl.style.display =\n",
              "          google.colab.kernel.accessAllowed ? 'block' : 'none';\n",
              "\n",
              "        async function convertToInteractive(key) {\n",
              "          const element = document.querySelector('#df-31c892f0-1299-4512-b5d5-707327dca7e8');\n",
              "          const dataTable =\n",
              "            await google.colab.kernel.invokeFunction('convertToInteractive',\n",
              "                                                     [key], {});\n",
              "          if (!dataTable) return;\n",
              "\n",
              "          const docLinkHtml = 'Like what you see? Visit the ' +\n",
              "            '<a target=\"_blank\" href=https://colab.research.google.com/notebooks/data_table.ipynb>data table notebook</a>'\n",
              "            + ' to learn more about interactive tables.';\n",
              "          element.innerHTML = '';\n",
              "          dataTable['output_type'] = 'display_data';\n",
              "          await google.colab.output.renderOutput(dataTable, element);\n",
              "          const docLink = document.createElement('div');\n",
              "          docLink.innerHTML = docLinkHtml;\n",
              "          element.appendChild(docLink);\n",
              "        }\n",
              "      </script>\n",
              "    </div>\n",
              "  </div>\n",
              "  "
            ]
          },
          "metadata": {},
          "execution_count": 2
        }
      ]
    },
    {
      "cell_type": "code",
      "source": [
        "housing.info()"
      ],
      "metadata": {
        "colab": {
          "base_uri": "https://localhost:8080/"
        },
        "id": "WX-Bavhv9Rl8",
        "outputId": "86e4ff4c-7816-4dea-988f-9612ca93b68d"
      },
      "execution_count": null,
      "outputs": [
        {
          "output_type": "stream",
          "name": "stdout",
          "text": [
            "<class 'pandas.core.frame.DataFrame'>\n",
            "RangeIndex: 20640 entries, 0 to 20639\n",
            "Data columns (total 10 columns):\n",
            " #   Column              Non-Null Count  Dtype  \n",
            "---  ------              --------------  -----  \n",
            " 0   longitude           20640 non-null  float64\n",
            " 1   latitude            20640 non-null  float64\n",
            " 2   housing_median_age  20640 non-null  float64\n",
            " 3   total_rooms         20640 non-null  float64\n",
            " 4   total_bedrooms      20433 non-null  float64\n",
            " 5   population          20640 non-null  float64\n",
            " 6   households          20640 non-null  float64\n",
            " 7   median_income       20640 non-null  float64\n",
            " 8   median_house_value  20640 non-null  float64\n",
            " 9   ocean_proximity     20640 non-null  object \n",
            "dtypes: float64(9), object(1)\n",
            "memory usage: 1.6+ MB\n"
          ]
        }
      ]
    },
    {
      "cell_type": "markdown",
      "source": [
        "データ数が20640で、total_bedroomsに欠損があり、ocean_proximityが値ではないことが分かります。\n",
        "\n",
        "|ラベル|日本語訳|\n",
        "|-|-|\n",
        "|longitude|経度|\n",
        "|latitude|緯度|\n",
        "|housing_median_age|住宅築年数(中央値)|\n",
        "|total_rooms|総部屋数|\n",
        "|total_bedrooms|総ベッド数|\n",
        "|population|人口|\n",
        "|households|世帯数|\n",
        "|median_income|収入(中央値)|\n",
        "|median_house_value|住宅価格(中央値)|\n",
        "|ocean_proximity|海との位置関係|\n"
      ],
      "metadata": {
        "id": "EwIuuvkhJyX8"
      }
    },
    {
      "cell_type": "code",
      "source": [
        "housing[\"ocean_proximity\"].value_counts()"
      ],
      "metadata": {
        "colab": {
          "base_uri": "https://localhost:8080/"
        },
        "id": "1dT2hQet9m3K",
        "outputId": "7abd626b-3856-4cf1-91d8-08332a1a131d"
      },
      "execution_count": null,
      "outputs": [
        {
          "output_type": "execute_result",
          "data": {
            "text/plain": [
              "<1H OCEAN     9136\n",
              "INLAND        6551\n",
              "NEAR OCEAN    2658\n",
              "NEAR BAY      2290\n",
              "ISLAND           5\n",
              "Name: ocean_proximity, dtype: int64"
            ]
          },
          "metadata": {},
          "execution_count": 4
        }
      ]
    },
    {
      "cell_type": "markdown",
      "source": [
        "ocean_proximityはカテゴリ型のようです。\n",
        "\n"
      ],
      "metadata": {
        "id": "bWzhNaYvYLsu"
      }
    },
    {
      "cell_type": "code",
      "source": [
        "housing.describe()"
      ],
      "metadata": {
        "colab": {
          "base_uri": "https://localhost:8080/",
          "height": 300
        },
        "id": "2G357WArNrLx",
        "outputId": "db366ca4-feab-4e1b-c88e-948b1938700d"
      },
      "execution_count": null,
      "outputs": [
        {
          "output_type": "execute_result",
          "data": {
            "text/plain": [
              "          longitude      latitude  housing_median_age   total_rooms  \\\n",
              "count  20640.000000  20640.000000        20640.000000  20640.000000   \n",
              "mean    -119.569704     35.631861           28.639486   2635.763081   \n",
              "std        2.003532      2.135952           12.585558   2181.615252   \n",
              "min     -124.350000     32.540000            1.000000      2.000000   \n",
              "25%     -121.800000     33.930000           18.000000   1447.750000   \n",
              "50%     -118.490000     34.260000           29.000000   2127.000000   \n",
              "75%     -118.010000     37.710000           37.000000   3148.000000   \n",
              "max     -114.310000     41.950000           52.000000  39320.000000   \n",
              "\n",
              "       total_bedrooms    population    households  median_income  \\\n",
              "count    20433.000000  20640.000000  20640.000000   20640.000000   \n",
              "mean       537.870553   1425.476744    499.539680       3.870671   \n",
              "std        421.385070   1132.462122    382.329753       1.899822   \n",
              "min          1.000000      3.000000      1.000000       0.499900   \n",
              "25%        296.000000    787.000000    280.000000       2.563400   \n",
              "50%        435.000000   1166.000000    409.000000       3.534800   \n",
              "75%        647.000000   1725.000000    605.000000       4.743250   \n",
              "max       6445.000000  35682.000000   6082.000000      15.000100   \n",
              "\n",
              "       median_house_value  \n",
              "count        20640.000000  \n",
              "mean        206855.816909  \n",
              "std         115395.615874  \n",
              "min          14999.000000  \n",
              "25%         119600.000000  \n",
              "50%         179700.000000  \n",
              "75%         264725.000000  \n",
              "max         500001.000000  "
            ],
            "text/html": [
              "\n",
              "  <div id=\"df-ef4486d3-df07-4fc5-914e-9ddfb365f5df\">\n",
              "    <div class=\"colab-df-container\">\n",
              "      <div>\n",
              "<style scoped>\n",
              "    .dataframe tbody tr th:only-of-type {\n",
              "        vertical-align: middle;\n",
              "    }\n",
              "\n",
              "    .dataframe tbody tr th {\n",
              "        vertical-align: top;\n",
              "    }\n",
              "\n",
              "    .dataframe thead th {\n",
              "        text-align: right;\n",
              "    }\n",
              "</style>\n",
              "<table border=\"1\" class=\"dataframe\">\n",
              "  <thead>\n",
              "    <tr style=\"text-align: right;\">\n",
              "      <th></th>\n",
              "      <th>longitude</th>\n",
              "      <th>latitude</th>\n",
              "      <th>housing_median_age</th>\n",
              "      <th>total_rooms</th>\n",
              "      <th>total_bedrooms</th>\n",
              "      <th>population</th>\n",
              "      <th>households</th>\n",
              "      <th>median_income</th>\n",
              "      <th>median_house_value</th>\n",
              "    </tr>\n",
              "  </thead>\n",
              "  <tbody>\n",
              "    <tr>\n",
              "      <th>count</th>\n",
              "      <td>20640.000000</td>\n",
              "      <td>20640.000000</td>\n",
              "      <td>20640.000000</td>\n",
              "      <td>20640.000000</td>\n",
              "      <td>20433.000000</td>\n",
              "      <td>20640.000000</td>\n",
              "      <td>20640.000000</td>\n",
              "      <td>20640.000000</td>\n",
              "      <td>20640.000000</td>\n",
              "    </tr>\n",
              "    <tr>\n",
              "      <th>mean</th>\n",
              "      <td>-119.569704</td>\n",
              "      <td>35.631861</td>\n",
              "      <td>28.639486</td>\n",
              "      <td>2635.763081</td>\n",
              "      <td>537.870553</td>\n",
              "      <td>1425.476744</td>\n",
              "      <td>499.539680</td>\n",
              "      <td>3.870671</td>\n",
              "      <td>206855.816909</td>\n",
              "    </tr>\n",
              "    <tr>\n",
              "      <th>std</th>\n",
              "      <td>2.003532</td>\n",
              "      <td>2.135952</td>\n",
              "      <td>12.585558</td>\n",
              "      <td>2181.615252</td>\n",
              "      <td>421.385070</td>\n",
              "      <td>1132.462122</td>\n",
              "      <td>382.329753</td>\n",
              "      <td>1.899822</td>\n",
              "      <td>115395.615874</td>\n",
              "    </tr>\n",
              "    <tr>\n",
              "      <th>min</th>\n",
              "      <td>-124.350000</td>\n",
              "      <td>32.540000</td>\n",
              "      <td>1.000000</td>\n",
              "      <td>2.000000</td>\n",
              "      <td>1.000000</td>\n",
              "      <td>3.000000</td>\n",
              "      <td>1.000000</td>\n",
              "      <td>0.499900</td>\n",
              "      <td>14999.000000</td>\n",
              "    </tr>\n",
              "    <tr>\n",
              "      <th>25%</th>\n",
              "      <td>-121.800000</td>\n",
              "      <td>33.930000</td>\n",
              "      <td>18.000000</td>\n",
              "      <td>1447.750000</td>\n",
              "      <td>296.000000</td>\n",
              "      <td>787.000000</td>\n",
              "      <td>280.000000</td>\n",
              "      <td>2.563400</td>\n",
              "      <td>119600.000000</td>\n",
              "    </tr>\n",
              "    <tr>\n",
              "      <th>50%</th>\n",
              "      <td>-118.490000</td>\n",
              "      <td>34.260000</td>\n",
              "      <td>29.000000</td>\n",
              "      <td>2127.000000</td>\n",
              "      <td>435.000000</td>\n",
              "      <td>1166.000000</td>\n",
              "      <td>409.000000</td>\n",
              "      <td>3.534800</td>\n",
              "      <td>179700.000000</td>\n",
              "    </tr>\n",
              "    <tr>\n",
              "      <th>75%</th>\n",
              "      <td>-118.010000</td>\n",
              "      <td>37.710000</td>\n",
              "      <td>37.000000</td>\n",
              "      <td>3148.000000</td>\n",
              "      <td>647.000000</td>\n",
              "      <td>1725.000000</td>\n",
              "      <td>605.000000</td>\n",
              "      <td>4.743250</td>\n",
              "      <td>264725.000000</td>\n",
              "    </tr>\n",
              "    <tr>\n",
              "      <th>max</th>\n",
              "      <td>-114.310000</td>\n",
              "      <td>41.950000</td>\n",
              "      <td>52.000000</td>\n",
              "      <td>39320.000000</td>\n",
              "      <td>6445.000000</td>\n",
              "      <td>35682.000000</td>\n",
              "      <td>6082.000000</td>\n",
              "      <td>15.000100</td>\n",
              "      <td>500001.000000</td>\n",
              "    </tr>\n",
              "  </tbody>\n",
              "</table>\n",
              "</div>\n",
              "      <button class=\"colab-df-convert\" onclick=\"convertToInteractive('df-ef4486d3-df07-4fc5-914e-9ddfb365f5df')\"\n",
              "              title=\"Convert this dataframe to an interactive table.\"\n",
              "              style=\"display:none;\">\n",
              "        \n",
              "  <svg xmlns=\"http://www.w3.org/2000/svg\" height=\"24px\"viewBox=\"0 0 24 24\"\n",
              "       width=\"24px\">\n",
              "    <path d=\"M0 0h24v24H0V0z\" fill=\"none\"/>\n",
              "    <path d=\"M18.56 5.44l.94 2.06.94-2.06 2.06-.94-2.06-.94-.94-2.06-.94 2.06-2.06.94zm-11 1L8.5 8.5l.94-2.06 2.06-.94-2.06-.94L8.5 2.5l-.94 2.06-2.06.94zm10 10l.94 2.06.94-2.06 2.06-.94-2.06-.94-.94-2.06-.94 2.06-2.06.94z\"/><path d=\"M17.41 7.96l-1.37-1.37c-.4-.4-.92-.59-1.43-.59-.52 0-1.04.2-1.43.59L10.3 9.45l-7.72 7.72c-.78.78-.78 2.05 0 2.83L4 21.41c.39.39.9.59 1.41.59.51 0 1.02-.2 1.41-.59l7.78-7.78 2.81-2.81c.8-.78.8-2.07 0-2.86zM5.41 20L4 18.59l7.72-7.72 1.47 1.35L5.41 20z\"/>\n",
              "  </svg>\n",
              "      </button>\n",
              "      \n",
              "  <style>\n",
              "    .colab-df-container {\n",
              "      display:flex;\n",
              "      flex-wrap:wrap;\n",
              "      gap: 12px;\n",
              "    }\n",
              "\n",
              "    .colab-df-convert {\n",
              "      background-color: #E8F0FE;\n",
              "      border: none;\n",
              "      border-radius: 50%;\n",
              "      cursor: pointer;\n",
              "      display: none;\n",
              "      fill: #1967D2;\n",
              "      height: 32px;\n",
              "      padding: 0 0 0 0;\n",
              "      width: 32px;\n",
              "    }\n",
              "\n",
              "    .colab-df-convert:hover {\n",
              "      background-color: #E2EBFA;\n",
              "      box-shadow: 0px 1px 2px rgba(60, 64, 67, 0.3), 0px 1px 3px 1px rgba(60, 64, 67, 0.15);\n",
              "      fill: #174EA6;\n",
              "    }\n",
              "\n",
              "    [theme=dark] .colab-df-convert {\n",
              "      background-color: #3B4455;\n",
              "      fill: #D2E3FC;\n",
              "    }\n",
              "\n",
              "    [theme=dark] .colab-df-convert:hover {\n",
              "      background-color: #434B5C;\n",
              "      box-shadow: 0px 1px 3px 1px rgba(0, 0, 0, 0.15);\n",
              "      filter: drop-shadow(0px 1px 2px rgba(0, 0, 0, 0.3));\n",
              "      fill: #FFFFFF;\n",
              "    }\n",
              "  </style>\n",
              "\n",
              "      <script>\n",
              "        const buttonEl =\n",
              "          document.querySelector('#df-ef4486d3-df07-4fc5-914e-9ddfb365f5df button.colab-df-convert');\n",
              "        buttonEl.style.display =\n",
              "          google.colab.kernel.accessAllowed ? 'block' : 'none';\n",
              "\n",
              "        async function convertToInteractive(key) {\n",
              "          const element = document.querySelector('#df-ef4486d3-df07-4fc5-914e-9ddfb365f5df');\n",
              "          const dataTable =\n",
              "            await google.colab.kernel.invokeFunction('convertToInteractive',\n",
              "                                                     [key], {});\n",
              "          if (!dataTable) return;\n",
              "\n",
              "          const docLinkHtml = 'Like what you see? Visit the ' +\n",
              "            '<a target=\"_blank\" href=https://colab.research.google.com/notebooks/data_table.ipynb>data table notebook</a>'\n",
              "            + ' to learn more about interactive tables.';\n",
              "          element.innerHTML = '';\n",
              "          dataTable['output_type'] = 'display_data';\n",
              "          await google.colab.output.renderOutput(dataTable, element);\n",
              "          const docLink = document.createElement('div');\n",
              "          docLink.innerHTML = docLinkHtml;\n",
              "          element.appendChild(docLink);\n",
              "        }\n",
              "      </script>\n",
              "    </div>\n",
              "  </div>\n",
              "  "
            ]
          },
          "metadata": {},
          "execution_count": 5
        }
      ]
    },
    {
      "cell_type": "markdown",
      "source": [
        "他の数値型も特徴量ごとに数字のスケールがかなり違うことが分かります。\n"
      ],
      "metadata": {
        "id": "rAX64yFiYaw4"
      }
    },
    {
      "cell_type": "markdown",
      "source": [
        "## 2. pandasを使ってデータセットを加工"
      ],
      "metadata": {
        "id": "eAPJQoHGOCJn"
      }
    },
    {
      "cell_type": "markdown",
      "source": [
        "pandasでデータ加工と言っていますが、自分はpandasを全然使わない派の人間なのでscikit-learnが所々出てきます。\n",
        "\n",
        "ごめんね"
      ],
      "metadata": {
        "id": "CtOg7repaC53"
      }
    },
    {
      "cell_type": "markdown",
      "source": [
        "### 分割"
      ],
      "metadata": {
        "id": "u5HpnCOf2yHl"
      }
    },
    {
      "cell_type": "markdown",
      "source": [
        "データセットを加工する前に訓練用データセットとテスト用データセットに分けます\n",
        "\n",
        "sklearnのtrain_test_split関数を使って、訓練セット：テストセット＝8:2に分割します\n",
        "\n",
        "本当は訓練セット、検証セット、テストセットに分ける必要がありますが、ここでは検証セットは省略します"
      ],
      "metadata": {
        "id": "V3xydPYAQ9IW"
      }
    },
    {
      "cell_type": "code",
      "source": [
        "from sklearn.model_selection import train_test_split\n",
        "\n",
        "train_set, test_set = train_test_split(housing, test_size=0.2, random_state=42)\n"
      ],
      "metadata": {
        "id": "uY2okDc1QsHO"
      },
      "execution_count": null,
      "outputs": []
    },
    {
      "cell_type": "code",
      "source": [
        "print(len(train_set), len(test_set))"
      ],
      "metadata": {
        "colab": {
          "base_uri": "https://localhost:8080/"
        },
        "id": "uh708DImTOoo",
        "outputId": "461ebec6-7e73-480b-f6a7-56431b1131bb"
      },
      "execution_count": null,
      "outputs": [
        {
          "output_type": "stream",
          "name": "stdout",
          "text": [
            "16512 4128\n"
          ]
        }
      ]
    },
    {
      "cell_type": "code",
      "source": [
        "x_train_raw = train_set.drop(\"median_house_value\", axis=1)\n",
        "y_train_raw = train_set[\"median_house_value\"]\n",
        "x_test_raw = test_set.drop(\"median_house_value\", axis=1)\n",
        "y_test_raw = test_set[\"median_house_value\"]"
      ],
      "metadata": {
        "id": "lbOMh3vflw9V"
      },
      "execution_count": null,
      "outputs": []
    },
    {
      "cell_type": "markdown",
      "source": [
        "無事分割出来ました\n",
        "\n",
        "train_test_splitでrandom_state=42として乱数を固定していますが、これは実行する度にtrain_setとtest_setが混ざるのを防ぐため。"
      ],
      "metadata": {
        "id": "xLFKotwsTlC0"
      }
    },
    {
      "cell_type": "markdown",
      "source": [
        "### 欠損値処理"
      ],
      "metadata": {
        "id": "kAxjVPb420y3"
      }
    },
    {
      "cell_type": "markdown",
      "source": [
        "total_bedroomsに欠損値があるので処理します\n",
        "\n",
        "欠損値の処理方法は3通りあり\n",
        "1. 欠損値があるインスタンスを削除する\n",
        "2. 欠損値がある特徴量を削除\n",
        "3. 何らかの値で穴埋めする\n",
        "\n",
        "穴埋めする場合、数値型なら平均値や中央値など、カテゴリ型なら最頻値などで補完します。\n",
        "\n",
        "ここでは、中央値で補完することにします。"
      ],
      "metadata": {
        "id": "2mU_qZxUVjKt"
      }
    },
    {
      "cell_type": "code",
      "source": [
        "total_bedrooms_median = x_train_raw[\"total_bedrooms\"].median()\n",
        "x_train_raw[\"total_bedrooms\"].fillna(total_bedrooms_median, inplace=True)\n",
        "\n",
        "x_train_raw.info()"
      ],
      "metadata": {
        "colab": {
          "base_uri": "https://localhost:8080/"
        },
        "id": "d8Nmez0mTZvu",
        "outputId": "1b92de7d-7680-49d4-a58b-b2473023d091"
      },
      "execution_count": null,
      "outputs": [
        {
          "output_type": "stream",
          "name": "stdout",
          "text": [
            "<class 'pandas.core.frame.DataFrame'>\n",
            "Int64Index: 16512 entries, 14196 to 15795\n",
            "Data columns (total 9 columns):\n",
            " #   Column              Non-Null Count  Dtype  \n",
            "---  ------              --------------  -----  \n",
            " 0   longitude           16512 non-null  float64\n",
            " 1   latitude            16512 non-null  float64\n",
            " 2   housing_median_age  16512 non-null  float64\n",
            " 3   total_rooms         16512 non-null  float64\n",
            " 4   total_bedrooms      16512 non-null  float64\n",
            " 5   population          16512 non-null  float64\n",
            " 6   households          16512 non-null  float64\n",
            " 7   median_income       16512 non-null  float64\n",
            " 8   ocean_proximity     16512 non-null  object \n",
            "dtypes: float64(8), object(1)\n",
            "memory usage: 1.3+ MB\n"
          ]
        }
      ]
    },
    {
      "cell_type": "markdown",
      "source": [
        "ここで補完に使った中央値は保存しておく必要があります。\n",
        "\n",
        "テストセットや検証セットの欠損値に対して、ここで保存した中央値で補完します。\n",
        "\n",
        "もし余裕があれば、以下を参考にインスタンスを削除するパターンも試してみましょう\n",
        "\n",
        "https://note.nkmk.me/python-pandas-nan-fillna/"
      ],
      "metadata": {
        "id": "Zoyctkzkahy0"
      }
    },
    {
      "cell_type": "markdown",
      "source": [
        "#### 答え\n",
        "\n",
        "\n",
        "\n",
        "\n"
      ],
      "metadata": {
        "id": "eOD4XCkTa8nw"
      }
    },
    {
      "cell_type": "markdown",
      "source": [
        "```\n",
        "x_train_raw.dropna(subset=[\"total_bedrooms\"])    # 1. 欠損があるインスタンス削除\n",
        "x_train_raw.drop(\"total_bedrooms\", axis=1)       # 2. total_bedrooms自体を削除\n",
        "```"
      ],
      "metadata": {
        "id": "8vHFeHilblK7"
      }
    },
    {
      "cell_type": "markdown",
      "source": [
        "### カテゴリ型の処理"
      ],
      "metadata": {
        "id": "tidIcjmdSB-z"
      }
    },
    {
      "cell_type": "code",
      "source": [
        "x_train_raw[\"ocean_proximity\"].value_counts()"
      ],
      "metadata": {
        "colab": {
          "base_uri": "https://localhost:8080/"
        },
        "id": "0y8JIlTQSNZv",
        "outputId": "01f0c965-9ece-4dc2-8cba-23cc3ec303c1"
      },
      "execution_count": null,
      "outputs": [
        {
          "output_type": "execute_result",
          "data": {
            "text/plain": [
              "<1H OCEAN     7341\n",
              "INLAND        5227\n",
              "NEAR OCEAN    2086\n",
              "NEAR BAY      1854\n",
              "ISLAND           4\n",
              "Name: ocean_proximity, dtype: int64"
            ]
          },
          "metadata": {},
          "execution_count": 10
        }
      ]
    },
    {
      "cell_type": "markdown",
      "source": [
        "ocean_proximityがカテゴリで表されているが、このままだと扱いづらいので数値に置き換えます。\n",
        "\n",
        "1H OCEANを0、INLANDを1、NEAR OCEANを2、...  と置き換えると、1H OCEANとINLANDが似ていて、ISLANDとは大きく異なるというふうに機械学習モデルが勘違いしてしまいます。\n",
        "\n",
        "そこで、1H OCEANを[1,0,0,0,0]、INLANDを[0,1,0,0,0]、NEAR OCEANを[0,0,1,0,0]、...というふうに行列に置き換えることにします。\n",
        "\n",
        "これをワンホットエンコーディングと言います。\n",
        "\n",
        "\n",
        "面倒なのでcategory_encodersのOneHotEncoderを使います。\n",
        "\n",
        "fitでデータに適合し、transformでデータを変換します。\n",
        "\n",
        "fit_trainsformはこれを合わせたものです。\n",
        "\n",
        "訓練セットに対してはfit_transform、テストセットに対してはtransformを使います。"
      ],
      "metadata": {
        "id": "tFHJ1_SMSQNX"
      }
    },
    {
      "cell_type": "code",
      "source": [
        "!!pip install category_encoders"
      ],
      "metadata": {
        "colab": {
          "base_uri": "https://localhost:8080/"
        },
        "id": "zYh2gLxnwtG4",
        "outputId": "e54e0509-8c21-4eb3-b100-908283fe16ab"
      },
      "execution_count": null,
      "outputs": [
        {
          "output_type": "execute_result",
          "data": {
            "text/plain": [
              "['Looking in indexes: https://pypi.org/simple, https://us-python.pkg.dev/colab-wheels/public/simple/',\n",
              " 'Collecting category_encoders',\n",
              " '  Downloading category_encoders-2.5.0-py2.py3-none-any.whl (69 kB)',\n",
              " '\\x1b[?25l',\n",
              " '\\x1b[K     |████▊                           | 10 kB 11.4 MB/s eta 0:00:01',\n",
              " '\\x1b[K     |█████████▌                      | 20 kB 13.3 MB/s eta 0:00:01',\n",
              " '\\x1b[K     |██████████████▎                 | 30 kB 6.3 MB/s eta 0:00:01',\n",
              " '\\x1b[K     |███████████████████             | 40 kB 7.7 MB/s eta 0:00:01',\n",
              " '\\x1b[K     |███████████████████████▊        | 51 kB 9.1 MB/s eta 0:00:01',\n",
              " '\\x1b[K     |████████████████████████████▌   | 61 kB 10.5 MB/s eta 0:00:01',\n",
              " '\\x1b[K     |████████████████████████████████| 69 kB 2.1 MB/s ',\n",
              " '\\x1b[?25hRequirement already satisfied: scikit-learn>=0.20.0 in /usr/local/lib/python3.7/dist-packages (from category_encoders) (1.0.2)',\n",
              " 'Requirement already satisfied: pandas>=1.0.5 in /usr/local/lib/python3.7/dist-packages (from category_encoders) (1.3.5)',\n",
              " 'Requirement already satisfied: patsy>=0.5.1 in /usr/local/lib/python3.7/dist-packages (from category_encoders) (0.5.2)',\n",
              " 'Requirement already satisfied: statsmodels>=0.9.0 in /usr/local/lib/python3.7/dist-packages (from category_encoders) (0.10.2)',\n",
              " 'Requirement already satisfied: scipy>=1.0.0 in /usr/local/lib/python3.7/dist-packages (from category_encoders) (1.4.1)',\n",
              " 'Requirement already satisfied: numpy>=1.14.0 in /usr/local/lib/python3.7/dist-packages (from category_encoders) (1.21.6)',\n",
              " 'Requirement already satisfied: python-dateutil>=2.7.3 in /usr/local/lib/python3.7/dist-packages (from pandas>=1.0.5->category_encoders) (2.8.2)',\n",
              " 'Requirement already satisfied: pytz>=2017.3 in /usr/local/lib/python3.7/dist-packages (from pandas>=1.0.5->category_encoders) (2022.1)',\n",
              " 'Requirement already satisfied: six in /usr/local/lib/python3.7/dist-packages (from patsy>=0.5.1->category_encoders) (1.15.0)',\n",
              " 'Requirement already satisfied: joblib>=0.11 in /usr/local/lib/python3.7/dist-packages (from scikit-learn>=0.20.0->category_encoders) (1.1.0)',\n",
              " 'Requirement already satisfied: threadpoolctl>=2.0.0 in /usr/local/lib/python3.7/dist-packages (from scikit-learn>=0.20.0->category_encoders) (3.1.0)',\n",
              " 'Installing collected packages: category-encoders',\n",
              " 'Successfully installed category-encoders-2.5.0']"
            ]
          },
          "metadata": {},
          "execution_count": 11
        }
      ]
    },
    {
      "cell_type": "code",
      "source": [
        "import category_encoders as ce\n",
        "\n",
        "cat_encoder = ce.OneHotEncoder(cols=[\"ocean_proximity\"])\n",
        "\n",
        "x_train_raw = cat_encoder.fit_transform(x_train_raw)\n",
        "x_train_raw"
      ],
      "metadata": {
        "colab": {
          "base_uri": "https://localhost:8080/",
          "height": 522
        },
        "id": "UDY4S1-qUl2f",
        "outputId": "cdd30f7e-2332-40c7-fbec-c54b3c8b9b0a"
      },
      "execution_count": null,
      "outputs": [
        {
          "output_type": "stream",
          "name": "stderr",
          "text": [
            "/usr/local/lib/python3.7/dist-packages/statsmodels/tools/_testing.py:19: FutureWarning: pandas.util.testing is deprecated. Use the functions in the public API at pandas.testing instead.\n",
            "  import pandas.util.testing as tm\n"
          ]
        },
        {
          "output_type": "execute_result",
          "data": {
            "text/plain": [
              "       longitude  latitude  housing_median_age  total_rooms  total_bedrooms  \\\n",
              "14196    -117.03     32.71                33.0       3126.0           627.0   \n",
              "8267     -118.16     33.77                49.0       3382.0           787.0   \n",
              "17445    -120.48     34.66                 4.0       1897.0           331.0   \n",
              "14265    -117.11     32.69                36.0       1421.0           367.0   \n",
              "2271     -119.80     36.78                43.0       2382.0           431.0   \n",
              "...          ...       ...                 ...          ...             ...   \n",
              "11284    -117.96     33.78                35.0       1330.0           201.0   \n",
              "11964    -117.43     34.02                33.0       3084.0           570.0   \n",
              "5390     -118.38     34.03                36.0       2101.0           569.0   \n",
              "860      -121.96     37.58                15.0       3575.0           597.0   \n",
              "15795    -122.42     37.77                52.0       4226.0          1315.0   \n",
              "\n",
              "       population  households  median_income  ocean_proximity_1  \\\n",
              "14196      2300.0       623.0         3.2596                  1   \n",
              "8267       1314.0       756.0         3.8125                  1   \n",
              "17445       915.0       336.0         4.1563                  1   \n",
              "14265      1418.0       355.0         1.9425                  1   \n",
              "2271        874.0       380.0         3.5542                  0   \n",
              "...           ...         ...            ...                ...   \n",
              "11284       658.0       217.0         6.3700                  0   \n",
              "11964      1753.0       449.0         3.0500                  0   \n",
              "5390       1756.0       527.0         2.9344                  0   \n",
              "860        1777.0       559.0         5.7192                  0   \n",
              "15795      2619.0      1242.0         2.5755                  0   \n",
              "\n",
              "       ocean_proximity_2  ocean_proximity_3  ocean_proximity_4  \\\n",
              "14196                  0                  0                  0   \n",
              "8267                   0                  0                  0   \n",
              "17445                  0                  0                  0   \n",
              "14265                  0                  0                  0   \n",
              "2271                   1                  0                  0   \n",
              "...                  ...                ...                ...   \n",
              "11284                  0                  1                  0   \n",
              "11964                  1                  0                  0   \n",
              "5390                   0                  1                  0   \n",
              "860                    0                  1                  0   \n",
              "15795                  0                  0                  1   \n",
              "\n",
              "       ocean_proximity_5  \n",
              "14196                  0  \n",
              "8267                   0  \n",
              "17445                  0  \n",
              "14265                  0  \n",
              "2271                   0  \n",
              "...                  ...  \n",
              "11284                  0  \n",
              "11964                  0  \n",
              "5390                   0  \n",
              "860                    0  \n",
              "15795                  0  \n",
              "\n",
              "[16512 rows x 13 columns]"
            ],
            "text/html": [
              "\n",
              "  <div id=\"df-a50f3c3f-260f-4c11-8d36-93f2acbdf3b6\">\n",
              "    <div class=\"colab-df-container\">\n",
              "      <div>\n",
              "<style scoped>\n",
              "    .dataframe tbody tr th:only-of-type {\n",
              "        vertical-align: middle;\n",
              "    }\n",
              "\n",
              "    .dataframe tbody tr th {\n",
              "        vertical-align: top;\n",
              "    }\n",
              "\n",
              "    .dataframe thead th {\n",
              "        text-align: right;\n",
              "    }\n",
              "</style>\n",
              "<table border=\"1\" class=\"dataframe\">\n",
              "  <thead>\n",
              "    <tr style=\"text-align: right;\">\n",
              "      <th></th>\n",
              "      <th>longitude</th>\n",
              "      <th>latitude</th>\n",
              "      <th>housing_median_age</th>\n",
              "      <th>total_rooms</th>\n",
              "      <th>total_bedrooms</th>\n",
              "      <th>population</th>\n",
              "      <th>households</th>\n",
              "      <th>median_income</th>\n",
              "      <th>ocean_proximity_1</th>\n",
              "      <th>ocean_proximity_2</th>\n",
              "      <th>ocean_proximity_3</th>\n",
              "      <th>ocean_proximity_4</th>\n",
              "      <th>ocean_proximity_5</th>\n",
              "    </tr>\n",
              "  </thead>\n",
              "  <tbody>\n",
              "    <tr>\n",
              "      <th>14196</th>\n",
              "      <td>-117.03</td>\n",
              "      <td>32.71</td>\n",
              "      <td>33.0</td>\n",
              "      <td>3126.0</td>\n",
              "      <td>627.0</td>\n",
              "      <td>2300.0</td>\n",
              "      <td>623.0</td>\n",
              "      <td>3.2596</td>\n",
              "      <td>1</td>\n",
              "      <td>0</td>\n",
              "      <td>0</td>\n",
              "      <td>0</td>\n",
              "      <td>0</td>\n",
              "    </tr>\n",
              "    <tr>\n",
              "      <th>8267</th>\n",
              "      <td>-118.16</td>\n",
              "      <td>33.77</td>\n",
              "      <td>49.0</td>\n",
              "      <td>3382.0</td>\n",
              "      <td>787.0</td>\n",
              "      <td>1314.0</td>\n",
              "      <td>756.0</td>\n",
              "      <td>3.8125</td>\n",
              "      <td>1</td>\n",
              "      <td>0</td>\n",
              "      <td>0</td>\n",
              "      <td>0</td>\n",
              "      <td>0</td>\n",
              "    </tr>\n",
              "    <tr>\n",
              "      <th>17445</th>\n",
              "      <td>-120.48</td>\n",
              "      <td>34.66</td>\n",
              "      <td>4.0</td>\n",
              "      <td>1897.0</td>\n",
              "      <td>331.0</td>\n",
              "      <td>915.0</td>\n",
              "      <td>336.0</td>\n",
              "      <td>4.1563</td>\n",
              "      <td>1</td>\n",
              "      <td>0</td>\n",
              "      <td>0</td>\n",
              "      <td>0</td>\n",
              "      <td>0</td>\n",
              "    </tr>\n",
              "    <tr>\n",
              "      <th>14265</th>\n",
              "      <td>-117.11</td>\n",
              "      <td>32.69</td>\n",
              "      <td>36.0</td>\n",
              "      <td>1421.0</td>\n",
              "      <td>367.0</td>\n",
              "      <td>1418.0</td>\n",
              "      <td>355.0</td>\n",
              "      <td>1.9425</td>\n",
              "      <td>1</td>\n",
              "      <td>0</td>\n",
              "      <td>0</td>\n",
              "      <td>0</td>\n",
              "      <td>0</td>\n",
              "    </tr>\n",
              "    <tr>\n",
              "      <th>2271</th>\n",
              "      <td>-119.80</td>\n",
              "      <td>36.78</td>\n",
              "      <td>43.0</td>\n",
              "      <td>2382.0</td>\n",
              "      <td>431.0</td>\n",
              "      <td>874.0</td>\n",
              "      <td>380.0</td>\n",
              "      <td>3.5542</td>\n",
              "      <td>0</td>\n",
              "      <td>1</td>\n",
              "      <td>0</td>\n",
              "      <td>0</td>\n",
              "      <td>0</td>\n",
              "    </tr>\n",
              "    <tr>\n",
              "      <th>...</th>\n",
              "      <td>...</td>\n",
              "      <td>...</td>\n",
              "      <td>...</td>\n",
              "      <td>...</td>\n",
              "      <td>...</td>\n",
              "      <td>...</td>\n",
              "      <td>...</td>\n",
              "      <td>...</td>\n",
              "      <td>...</td>\n",
              "      <td>...</td>\n",
              "      <td>...</td>\n",
              "      <td>...</td>\n",
              "      <td>...</td>\n",
              "    </tr>\n",
              "    <tr>\n",
              "      <th>11284</th>\n",
              "      <td>-117.96</td>\n",
              "      <td>33.78</td>\n",
              "      <td>35.0</td>\n",
              "      <td>1330.0</td>\n",
              "      <td>201.0</td>\n",
              "      <td>658.0</td>\n",
              "      <td>217.0</td>\n",
              "      <td>6.3700</td>\n",
              "      <td>0</td>\n",
              "      <td>0</td>\n",
              "      <td>1</td>\n",
              "      <td>0</td>\n",
              "      <td>0</td>\n",
              "    </tr>\n",
              "    <tr>\n",
              "      <th>11964</th>\n",
              "      <td>-117.43</td>\n",
              "      <td>34.02</td>\n",
              "      <td>33.0</td>\n",
              "      <td>3084.0</td>\n",
              "      <td>570.0</td>\n",
              "      <td>1753.0</td>\n",
              "      <td>449.0</td>\n",
              "      <td>3.0500</td>\n",
              "      <td>0</td>\n",
              "      <td>1</td>\n",
              "      <td>0</td>\n",
              "      <td>0</td>\n",
              "      <td>0</td>\n",
              "    </tr>\n",
              "    <tr>\n",
              "      <th>5390</th>\n",
              "      <td>-118.38</td>\n",
              "      <td>34.03</td>\n",
              "      <td>36.0</td>\n",
              "      <td>2101.0</td>\n",
              "      <td>569.0</td>\n",
              "      <td>1756.0</td>\n",
              "      <td>527.0</td>\n",
              "      <td>2.9344</td>\n",
              "      <td>0</td>\n",
              "      <td>0</td>\n",
              "      <td>1</td>\n",
              "      <td>0</td>\n",
              "      <td>0</td>\n",
              "    </tr>\n",
              "    <tr>\n",
              "      <th>860</th>\n",
              "      <td>-121.96</td>\n",
              "      <td>37.58</td>\n",
              "      <td>15.0</td>\n",
              "      <td>3575.0</td>\n",
              "      <td>597.0</td>\n",
              "      <td>1777.0</td>\n",
              "      <td>559.0</td>\n",
              "      <td>5.7192</td>\n",
              "      <td>0</td>\n",
              "      <td>0</td>\n",
              "      <td>1</td>\n",
              "      <td>0</td>\n",
              "      <td>0</td>\n",
              "    </tr>\n",
              "    <tr>\n",
              "      <th>15795</th>\n",
              "      <td>-122.42</td>\n",
              "      <td>37.77</td>\n",
              "      <td>52.0</td>\n",
              "      <td>4226.0</td>\n",
              "      <td>1315.0</td>\n",
              "      <td>2619.0</td>\n",
              "      <td>1242.0</td>\n",
              "      <td>2.5755</td>\n",
              "      <td>0</td>\n",
              "      <td>0</td>\n",
              "      <td>0</td>\n",
              "      <td>1</td>\n",
              "      <td>0</td>\n",
              "    </tr>\n",
              "  </tbody>\n",
              "</table>\n",
              "<p>16512 rows × 13 columns</p>\n",
              "</div>\n",
              "      <button class=\"colab-df-convert\" onclick=\"convertToInteractive('df-a50f3c3f-260f-4c11-8d36-93f2acbdf3b6')\"\n",
              "              title=\"Convert this dataframe to an interactive table.\"\n",
              "              style=\"display:none;\">\n",
              "        \n",
              "  <svg xmlns=\"http://www.w3.org/2000/svg\" height=\"24px\"viewBox=\"0 0 24 24\"\n",
              "       width=\"24px\">\n",
              "    <path d=\"M0 0h24v24H0V0z\" fill=\"none\"/>\n",
              "    <path d=\"M18.56 5.44l.94 2.06.94-2.06 2.06-.94-2.06-.94-.94-2.06-.94 2.06-2.06.94zm-11 1L8.5 8.5l.94-2.06 2.06-.94-2.06-.94L8.5 2.5l-.94 2.06-2.06.94zm10 10l.94 2.06.94-2.06 2.06-.94-2.06-.94-.94-2.06-.94 2.06-2.06.94z\"/><path d=\"M17.41 7.96l-1.37-1.37c-.4-.4-.92-.59-1.43-.59-.52 0-1.04.2-1.43.59L10.3 9.45l-7.72 7.72c-.78.78-.78 2.05 0 2.83L4 21.41c.39.39.9.59 1.41.59.51 0 1.02-.2 1.41-.59l7.78-7.78 2.81-2.81c.8-.78.8-2.07 0-2.86zM5.41 20L4 18.59l7.72-7.72 1.47 1.35L5.41 20z\"/>\n",
              "  </svg>\n",
              "      </button>\n",
              "      \n",
              "  <style>\n",
              "    .colab-df-container {\n",
              "      display:flex;\n",
              "      flex-wrap:wrap;\n",
              "      gap: 12px;\n",
              "    }\n",
              "\n",
              "    .colab-df-convert {\n",
              "      background-color: #E8F0FE;\n",
              "      border: none;\n",
              "      border-radius: 50%;\n",
              "      cursor: pointer;\n",
              "      display: none;\n",
              "      fill: #1967D2;\n",
              "      height: 32px;\n",
              "      padding: 0 0 0 0;\n",
              "      width: 32px;\n",
              "    }\n",
              "\n",
              "    .colab-df-convert:hover {\n",
              "      background-color: #E2EBFA;\n",
              "      box-shadow: 0px 1px 2px rgba(60, 64, 67, 0.3), 0px 1px 3px 1px rgba(60, 64, 67, 0.15);\n",
              "      fill: #174EA6;\n",
              "    }\n",
              "\n",
              "    [theme=dark] .colab-df-convert {\n",
              "      background-color: #3B4455;\n",
              "      fill: #D2E3FC;\n",
              "    }\n",
              "\n",
              "    [theme=dark] .colab-df-convert:hover {\n",
              "      background-color: #434B5C;\n",
              "      box-shadow: 0px 1px 3px 1px rgba(0, 0, 0, 0.15);\n",
              "      filter: drop-shadow(0px 1px 2px rgba(0, 0, 0, 0.3));\n",
              "      fill: #FFFFFF;\n",
              "    }\n",
              "  </style>\n",
              "\n",
              "      <script>\n",
              "        const buttonEl =\n",
              "          document.querySelector('#df-a50f3c3f-260f-4c11-8d36-93f2acbdf3b6 button.colab-df-convert');\n",
              "        buttonEl.style.display =\n",
              "          google.colab.kernel.accessAllowed ? 'block' : 'none';\n",
              "\n",
              "        async function convertToInteractive(key) {\n",
              "          const element = document.querySelector('#df-a50f3c3f-260f-4c11-8d36-93f2acbdf3b6');\n",
              "          const dataTable =\n",
              "            await google.colab.kernel.invokeFunction('convertToInteractive',\n",
              "                                                     [key], {});\n",
              "          if (!dataTable) return;\n",
              "\n",
              "          const docLinkHtml = 'Like what you see? Visit the ' +\n",
              "            '<a target=\"_blank\" href=https://colab.research.google.com/notebooks/data_table.ipynb>data table notebook</a>'\n",
              "            + ' to learn more about interactive tables.';\n",
              "          element.innerHTML = '';\n",
              "          dataTable['output_type'] = 'display_data';\n",
              "          await google.colab.output.renderOutput(dataTable, element);\n",
              "          const docLink = document.createElement('div');\n",
              "          docLink.innerHTML = docLinkHtml;\n",
              "          element.appendChild(docLink);\n",
              "        }\n",
              "      </script>\n",
              "    </div>\n",
              "  </div>\n",
              "  "
            ]
          },
          "metadata": {},
          "execution_count": 12
        }
      ]
    },
    {
      "cell_type": "markdown",
      "source": [
        "### スケーリング"
      ],
      "metadata": {
        "id": "n7yhkcJl26BZ"
      }
    },
    {
      "cell_type": "markdown",
      "source": [
        "特徴量のスケールを確認します。"
      ],
      "metadata": {
        "id": "lBfF94i740Gm"
      }
    },
    {
      "cell_type": "code",
      "source": [
        "x_train_raw.describe()"
      ],
      "metadata": {
        "colab": {
          "base_uri": "https://localhost:8080/",
          "height": 364
        },
        "id": "mnXBTEI646Fe",
        "outputId": "89f82d7d-37c5-406a-9462-c209e4997c35"
      },
      "execution_count": null,
      "outputs": [
        {
          "output_type": "execute_result",
          "data": {
            "text/plain": [
              "          longitude      latitude  housing_median_age   total_rooms  \\\n",
              "count  16512.000000  16512.000000        16512.000000  16512.000000   \n",
              "mean    -119.582290     35.643149           28.608285   2642.004784   \n",
              "std        2.005654      2.136665           12.602499   2174.646744   \n",
              "min     -124.350000     32.550000            1.000000      2.000000   \n",
              "25%     -121.810000     33.930000           18.000000   1454.000000   \n",
              "50%     -118.510000     34.260000           29.000000   2129.000000   \n",
              "75%     -118.010000     37.720000           37.000000   3160.000000   \n",
              "max     -114.310000     41.950000           52.000000  39320.000000   \n",
              "\n",
              "       total_bedrooms    population    households  median_income  \\\n",
              "count    16512.000000  16512.000000  16512.000000   16512.000000   \n",
              "mean       538.496851   1426.453004    499.986919       3.880754   \n",
              "std        419.007096   1137.056380    380.967964       1.904294   \n",
              "min          1.000000      3.000000      1.000000       0.499900   \n",
              "25%        296.750000    789.000000    280.000000       2.566700   \n",
              "50%        437.000000   1167.000000    410.000000       3.545800   \n",
              "75%        647.000000   1726.000000    606.000000       4.773175   \n",
              "max       6445.000000  35682.000000   6082.000000      15.000100   \n",
              "\n",
              "       ocean_proximity_1  ocean_proximity_2  ocean_proximity_3  \\\n",
              "count       16512.000000       16512.000000       16512.000000   \n",
              "mean            0.126332           0.316558           0.444586   \n",
              "std             0.332234           0.465147           0.496935   \n",
              "min             0.000000           0.000000           0.000000   \n",
              "25%             0.000000           0.000000           0.000000   \n",
              "50%             0.000000           0.000000           0.000000   \n",
              "75%             0.000000           1.000000           1.000000   \n",
              "max             1.000000           1.000000           1.000000   \n",
              "\n",
              "       ocean_proximity_4  ocean_proximity_5  \n",
              "count       16512.000000       16512.000000  \n",
              "mean            0.112282           0.000242  \n",
              "std             0.315723           0.015563  \n",
              "min             0.000000           0.000000  \n",
              "25%             0.000000           0.000000  \n",
              "50%             0.000000           0.000000  \n",
              "75%             0.000000           0.000000  \n",
              "max             1.000000           1.000000  "
            ],
            "text/html": [
              "\n",
              "  <div id=\"df-ba8f35eb-dbb5-4ae7-bf61-ddae9ac9be96\">\n",
              "    <div class=\"colab-df-container\">\n",
              "      <div>\n",
              "<style scoped>\n",
              "    .dataframe tbody tr th:only-of-type {\n",
              "        vertical-align: middle;\n",
              "    }\n",
              "\n",
              "    .dataframe tbody tr th {\n",
              "        vertical-align: top;\n",
              "    }\n",
              "\n",
              "    .dataframe thead th {\n",
              "        text-align: right;\n",
              "    }\n",
              "</style>\n",
              "<table border=\"1\" class=\"dataframe\">\n",
              "  <thead>\n",
              "    <tr style=\"text-align: right;\">\n",
              "      <th></th>\n",
              "      <th>longitude</th>\n",
              "      <th>latitude</th>\n",
              "      <th>housing_median_age</th>\n",
              "      <th>total_rooms</th>\n",
              "      <th>total_bedrooms</th>\n",
              "      <th>population</th>\n",
              "      <th>households</th>\n",
              "      <th>median_income</th>\n",
              "      <th>ocean_proximity_1</th>\n",
              "      <th>ocean_proximity_2</th>\n",
              "      <th>ocean_proximity_3</th>\n",
              "      <th>ocean_proximity_4</th>\n",
              "      <th>ocean_proximity_5</th>\n",
              "    </tr>\n",
              "  </thead>\n",
              "  <tbody>\n",
              "    <tr>\n",
              "      <th>count</th>\n",
              "      <td>16512.000000</td>\n",
              "      <td>16512.000000</td>\n",
              "      <td>16512.000000</td>\n",
              "      <td>16512.000000</td>\n",
              "      <td>16512.000000</td>\n",
              "      <td>16512.000000</td>\n",
              "      <td>16512.000000</td>\n",
              "      <td>16512.000000</td>\n",
              "      <td>16512.000000</td>\n",
              "      <td>16512.000000</td>\n",
              "      <td>16512.000000</td>\n",
              "      <td>16512.000000</td>\n",
              "      <td>16512.000000</td>\n",
              "    </tr>\n",
              "    <tr>\n",
              "      <th>mean</th>\n",
              "      <td>-119.582290</td>\n",
              "      <td>35.643149</td>\n",
              "      <td>28.608285</td>\n",
              "      <td>2642.004784</td>\n",
              "      <td>538.496851</td>\n",
              "      <td>1426.453004</td>\n",
              "      <td>499.986919</td>\n",
              "      <td>3.880754</td>\n",
              "      <td>0.126332</td>\n",
              "      <td>0.316558</td>\n",
              "      <td>0.444586</td>\n",
              "      <td>0.112282</td>\n",
              "      <td>0.000242</td>\n",
              "    </tr>\n",
              "    <tr>\n",
              "      <th>std</th>\n",
              "      <td>2.005654</td>\n",
              "      <td>2.136665</td>\n",
              "      <td>12.602499</td>\n",
              "      <td>2174.646744</td>\n",
              "      <td>419.007096</td>\n",
              "      <td>1137.056380</td>\n",
              "      <td>380.967964</td>\n",
              "      <td>1.904294</td>\n",
              "      <td>0.332234</td>\n",
              "      <td>0.465147</td>\n",
              "      <td>0.496935</td>\n",
              "      <td>0.315723</td>\n",
              "      <td>0.015563</td>\n",
              "    </tr>\n",
              "    <tr>\n",
              "      <th>min</th>\n",
              "      <td>-124.350000</td>\n",
              "      <td>32.550000</td>\n",
              "      <td>1.000000</td>\n",
              "      <td>2.000000</td>\n",
              "      <td>1.000000</td>\n",
              "      <td>3.000000</td>\n",
              "      <td>1.000000</td>\n",
              "      <td>0.499900</td>\n",
              "      <td>0.000000</td>\n",
              "      <td>0.000000</td>\n",
              "      <td>0.000000</td>\n",
              "      <td>0.000000</td>\n",
              "      <td>0.000000</td>\n",
              "    </tr>\n",
              "    <tr>\n",
              "      <th>25%</th>\n",
              "      <td>-121.810000</td>\n",
              "      <td>33.930000</td>\n",
              "      <td>18.000000</td>\n",
              "      <td>1454.000000</td>\n",
              "      <td>296.750000</td>\n",
              "      <td>789.000000</td>\n",
              "      <td>280.000000</td>\n",
              "      <td>2.566700</td>\n",
              "      <td>0.000000</td>\n",
              "      <td>0.000000</td>\n",
              "      <td>0.000000</td>\n",
              "      <td>0.000000</td>\n",
              "      <td>0.000000</td>\n",
              "    </tr>\n",
              "    <tr>\n",
              "      <th>50%</th>\n",
              "      <td>-118.510000</td>\n",
              "      <td>34.260000</td>\n",
              "      <td>29.000000</td>\n",
              "      <td>2129.000000</td>\n",
              "      <td>437.000000</td>\n",
              "      <td>1167.000000</td>\n",
              "      <td>410.000000</td>\n",
              "      <td>3.545800</td>\n",
              "      <td>0.000000</td>\n",
              "      <td>0.000000</td>\n",
              "      <td>0.000000</td>\n",
              "      <td>0.000000</td>\n",
              "      <td>0.000000</td>\n",
              "    </tr>\n",
              "    <tr>\n",
              "      <th>75%</th>\n",
              "      <td>-118.010000</td>\n",
              "      <td>37.720000</td>\n",
              "      <td>37.000000</td>\n",
              "      <td>3160.000000</td>\n",
              "      <td>647.000000</td>\n",
              "      <td>1726.000000</td>\n",
              "      <td>606.000000</td>\n",
              "      <td>4.773175</td>\n",
              "      <td>0.000000</td>\n",
              "      <td>1.000000</td>\n",
              "      <td>1.000000</td>\n",
              "      <td>0.000000</td>\n",
              "      <td>0.000000</td>\n",
              "    </tr>\n",
              "    <tr>\n",
              "      <th>max</th>\n",
              "      <td>-114.310000</td>\n",
              "      <td>41.950000</td>\n",
              "      <td>52.000000</td>\n",
              "      <td>39320.000000</td>\n",
              "      <td>6445.000000</td>\n",
              "      <td>35682.000000</td>\n",
              "      <td>6082.000000</td>\n",
              "      <td>15.000100</td>\n",
              "      <td>1.000000</td>\n",
              "      <td>1.000000</td>\n",
              "      <td>1.000000</td>\n",
              "      <td>1.000000</td>\n",
              "      <td>1.000000</td>\n",
              "    </tr>\n",
              "  </tbody>\n",
              "</table>\n",
              "</div>\n",
              "      <button class=\"colab-df-convert\" onclick=\"convertToInteractive('df-ba8f35eb-dbb5-4ae7-bf61-ddae9ac9be96')\"\n",
              "              title=\"Convert this dataframe to an interactive table.\"\n",
              "              style=\"display:none;\">\n",
              "        \n",
              "  <svg xmlns=\"http://www.w3.org/2000/svg\" height=\"24px\"viewBox=\"0 0 24 24\"\n",
              "       width=\"24px\">\n",
              "    <path d=\"M0 0h24v24H0V0z\" fill=\"none\"/>\n",
              "    <path d=\"M18.56 5.44l.94 2.06.94-2.06 2.06-.94-2.06-.94-.94-2.06-.94 2.06-2.06.94zm-11 1L8.5 8.5l.94-2.06 2.06-.94-2.06-.94L8.5 2.5l-.94 2.06-2.06.94zm10 10l.94 2.06.94-2.06 2.06-.94-2.06-.94-.94-2.06-.94 2.06-2.06.94z\"/><path d=\"M17.41 7.96l-1.37-1.37c-.4-.4-.92-.59-1.43-.59-.52 0-1.04.2-1.43.59L10.3 9.45l-7.72 7.72c-.78.78-.78 2.05 0 2.83L4 21.41c.39.39.9.59 1.41.59.51 0 1.02-.2 1.41-.59l7.78-7.78 2.81-2.81c.8-.78.8-2.07 0-2.86zM5.41 20L4 18.59l7.72-7.72 1.47 1.35L5.41 20z\"/>\n",
              "  </svg>\n",
              "      </button>\n",
              "      \n",
              "  <style>\n",
              "    .colab-df-container {\n",
              "      display:flex;\n",
              "      flex-wrap:wrap;\n",
              "      gap: 12px;\n",
              "    }\n",
              "\n",
              "    .colab-df-convert {\n",
              "      background-color: #E8F0FE;\n",
              "      border: none;\n",
              "      border-radius: 50%;\n",
              "      cursor: pointer;\n",
              "      display: none;\n",
              "      fill: #1967D2;\n",
              "      height: 32px;\n",
              "      padding: 0 0 0 0;\n",
              "      width: 32px;\n",
              "    }\n",
              "\n",
              "    .colab-df-convert:hover {\n",
              "      background-color: #E2EBFA;\n",
              "      box-shadow: 0px 1px 2px rgba(60, 64, 67, 0.3), 0px 1px 3px 1px rgba(60, 64, 67, 0.15);\n",
              "      fill: #174EA6;\n",
              "    }\n",
              "\n",
              "    [theme=dark] .colab-df-convert {\n",
              "      background-color: #3B4455;\n",
              "      fill: #D2E3FC;\n",
              "    }\n",
              "\n",
              "    [theme=dark] .colab-df-convert:hover {\n",
              "      background-color: #434B5C;\n",
              "      box-shadow: 0px 1px 3px 1px rgba(0, 0, 0, 0.15);\n",
              "      filter: drop-shadow(0px 1px 2px rgba(0, 0, 0, 0.3));\n",
              "      fill: #FFFFFF;\n",
              "    }\n",
              "  </style>\n",
              "\n",
              "      <script>\n",
              "        const buttonEl =\n",
              "          document.querySelector('#df-ba8f35eb-dbb5-4ae7-bf61-ddae9ac9be96 button.colab-df-convert');\n",
              "        buttonEl.style.display =\n",
              "          google.colab.kernel.accessAllowed ? 'block' : 'none';\n",
              "\n",
              "        async function convertToInteractive(key) {\n",
              "          const element = document.querySelector('#df-ba8f35eb-dbb5-4ae7-bf61-ddae9ac9be96');\n",
              "          const dataTable =\n",
              "            await google.colab.kernel.invokeFunction('convertToInteractive',\n",
              "                                                     [key], {});\n",
              "          if (!dataTable) return;\n",
              "\n",
              "          const docLinkHtml = 'Like what you see? Visit the ' +\n",
              "            '<a target=\"_blank\" href=https://colab.research.google.com/notebooks/data_table.ipynb>data table notebook</a>'\n",
              "            + ' to learn more about interactive tables.';\n",
              "          element.innerHTML = '';\n",
              "          dataTable['output_type'] = 'display_data';\n",
              "          await google.colab.output.renderOutput(dataTable, element);\n",
              "          const docLink = document.createElement('div');\n",
              "          docLink.innerHTML = docLinkHtml;\n",
              "          element.appendChild(docLink);\n",
              "        }\n",
              "      </script>\n",
              "    </div>\n",
              "  </div>\n",
              "  "
            ]
          },
          "metadata": {},
          "execution_count": 13
        }
      ]
    },
    {
      "cell_type": "markdown",
      "source": [
        "項目によって値のスケールが違います。\n",
        "\n",
        "スケールが違うと、スケールが大きい特徴量にモデルが影響されやすくなる事があるので、スケールを合わせる必要があります。\n",
        "\n",
        "よく使われる手法は最小最大スケーリングと標準化です。\n",
        "\n",
        "今回は値を0~1の範囲に丸める最小最大スケーリングをしてみます。\n"
      ],
      "metadata": {
        "id": "kStf4mgn3NDw"
      }
    },
    {
      "cell_type": "code",
      "source": [
        "max = train_set[\"longitude\"].max()\n",
        "min = train_set[\"longitude\"].min()\n",
        "train_set[\"longitude\"] = (train_set[\"longitude\"] - min) / (max - min)\n",
        "\n",
        "train_set[\"longitude\"].describe()"
      ],
      "metadata": {
        "colab": {
          "base_uri": "https://localhost:8080/"
        },
        "id": "HdntnQerMZm4",
        "outputId": "7230791d-0a4f-4371-a002-5f4c0ee149f0"
      },
      "execution_count": null,
      "outputs": [
        {
          "output_type": "execute_result",
          "data": {
            "text/plain": [
              "count    16512.000000\n",
              "mean         0.474871\n",
              "std          0.199766\n",
              "min          0.000000\n",
              "25%          0.252988\n",
              "50%          0.581673\n",
              "75%          0.631474\n",
              "max          1.000000\n",
              "Name: longitude, dtype: float64"
            ]
          },
          "metadata": {},
          "execution_count": 14
        }
      ]
    },
    {
      "cell_type": "markdown",
      "source": [
        "流石にこれを全部の特徴量に行うのは面倒なので、scikit-learnのMinMaxScaler関数を使って楽します。"
      ],
      "metadata": {
        "id": "8iJT-VyVL8x-"
      }
    },
    {
      "cell_type": "code",
      "source": [
        "from sklearn.preprocessing import MinMaxScaler\n",
        "\n",
        "scaler = MinMaxScaler()\n",
        "x_train_raw = scaler.fit_transform(x_train_raw)"
      ],
      "metadata": {
        "id": "hGW-kGJ4P041"
      },
      "execution_count": null,
      "outputs": []
    },
    {
      "cell_type": "code",
      "source": [
        "x_train_raw[0:10]"
      ],
      "metadata": {
        "colab": {
          "base_uri": "https://localhost:8080/"
        },
        "id": "wNgFRGpixmvy",
        "outputId": "296acd92-6fbc-4782-a0dd-b14b560e5eaf"
      },
      "execution_count": null,
      "outputs": [
        {
          "output_type": "execute_result",
          "data": {
            "text/plain": [
              "array([[0.72908367, 0.01702128, 0.62745098, 0.0794547 , 0.09714463,\n",
              "        0.06437961, 0.10228581, 0.19032151, 1.        , 0.        ,\n",
              "        0.        , 0.        , 0.        ],\n",
              "       [0.61653386, 0.12978723, 0.94117647, 0.08596572, 0.12197393,\n",
              "        0.0367443 , 0.12415721, 0.22845202, 1.        , 0.        ,\n",
              "        0.        , 0.        , 0.        ],\n",
              "       [0.38545817, 0.22446809, 0.05882353, 0.04819675, 0.05121043,\n",
              "        0.02556125, 0.05508962, 0.25216204, 1.        , 0.        ,\n",
              "        0.        , 0.        , 0.        ],\n",
              "       [0.72111554, 0.01489362, 0.68627451, 0.03609034, 0.05679702,\n",
              "        0.03965918, 0.05821411, 0.09948828, 1.        , 0.        ,\n",
              "        0.        , 0.        , 0.        ],\n",
              "       [0.45318725, 0.45      , 0.82352941, 0.06053207, 0.06672874,\n",
              "        0.02441212, 0.06232528, 0.21063847, 0.        , 1.        ,\n",
              "        0.        , 0.        , 0.        ],\n",
              "       [0.24800797, 0.51808511, 0.37254902, 0.12793123, 0.12523277,\n",
              "        0.07545055, 0.13155731, 0.42225624, 0.        , 0.        ,\n",
              "        1.        , 0.        , 0.        ],\n",
              "       [0.63545817, 0.15851064, 0.52941176, 0.04283026, 0.06455618,\n",
              "        0.03789344, 0.06364085, 0.13926015, 0.        , 0.        ,\n",
              "        1.        , 0.        , 0.        ],\n",
              "       [0.1812749 , 0.57021277, 0.70588235, 0.06414365, 0.0616077 ,\n",
              "        0.02791558, 0.0684098 , 0.51649632, 0.        , 0.        ,\n",
              "        0.        , 1.        , 0.        ],\n",
              "       [0.64243028, 0.16808511, 0.07843137, 0.02858742, 0.04888268,\n",
              "        0.0228706 , 0.05097846, 0.06897146, 0.        , 0.        ,\n",
              "        1.        , 0.        , 0.        ],\n",
              "       [0.65338645, 0.15638298, 0.07843137, 0.47530393, 0.4439789 ,\n",
              "        0.26413296, 0.45650386, 0.40873229, 0.        , 0.        ,\n",
              "        1.        , 0.        , 0.        ]])"
            ]
          },
          "metadata": {},
          "execution_count": 16
        }
      ]
    },
    {
      "cell_type": "markdown",
      "source": [
        "### テストセットにも同じ変換を訓練セットと同じ変換をする"
      ],
      "metadata": {
        "id": "zA8UJvVZCHeP"
      }
    },
    {
      "cell_type": "markdown",
      "source": [
        "**演習**　訓練セットへの変換を参考に、テストセットにも欠損値処理、OneHotエンコード、スケーリングをしてみましょう。\n",
        "\n",
        "ヒント：欠損値には訓練セットで補完したときの値を使います。\n",
        "OneHotエンコードとスケーリングではcat_encoderとscalerが変換に必要な値を持っているので、transformで変換できます。"
      ],
      "metadata": {
        "id": "cx6QSZ6jVm-g"
      }
    },
    {
      "cell_type": "code",
      "source": [
        "# 欠損値処理\n",
        "#x_test_raw = ???\n",
        "\n",
        "# OneHotエンコード\n",
        "#x_test_raw = ???\n",
        "\n",
        "# スケーリング\n",
        "#x_test_raw = ???"
      ],
      "metadata": {
        "id": "WhpplMGgWkN-"
      },
      "execution_count": null,
      "outputs": []
    },
    {
      "cell_type": "markdown",
      "source": [
        "#### 答え"
      ],
      "metadata": {
        "id": "HY2wQTYsVlNj"
      }
    },
    {
      "cell_type": "code",
      "source": [
        "# 欠損値処理\n",
        "x_test_raw[\"total_bedrooms\"].fillna(total_bedrooms_median, inplace=True)\n",
        "\n",
        "# OneHotエンコード\n",
        "x_test_raw = cat_encoder.transform(x_test_raw)\n",
        "\n",
        "# スケーリング\n",
        "x_test_raw = scaler.transform(x_test_raw)\n"
      ],
      "metadata": {
        "id": "yIdryxd8N-56"
      },
      "execution_count": null,
      "outputs": []
    },
    {
      "cell_type": "markdown",
      "source": [
        "## モデル訓練"
      ],
      "metadata": {
        "id": "68HdP5Lvxyq-"
      }
    },
    {
      "cell_type": "code",
      "source": [
        "x_train = x_train_raw\n",
        "y_train = y_train_raw.to_numpy(dtype=\"float64\")\n",
        "x_test = x_test_raw\n",
        "y_test = y_test_raw.to_numpy(dtype=\"float64\")"
      ],
      "metadata": {
        "id": "orfaeKofySkc"
      },
      "execution_count": null,
      "outputs": []
    },
    {
      "cell_type": "markdown",
      "source": [
        "### sklearnのLinearRegression関数に投げてみる"
      ],
      "metadata": {
        "id": "ttUxoVH_BqLl"
      }
    },
    {
      "cell_type": "code",
      "source": [
        "from sklearn.linear_model import LinearRegression\n",
        "\n",
        "lr = LinearRegression()\n",
        "\n",
        "lr.fit(x_train, y_train)                         # 線形モデルの重みを学習\n"
      ],
      "metadata": {
        "colab": {
          "base_uri": "https://localhost:8080/"
        },
        "id": "OI-gJT-wx0UH",
        "outputId": "40ec846d-9cf5-47b4-c6d4-66c06af96c37"
      },
      "execution_count": null,
      "outputs": [
        {
          "output_type": "execute_result",
          "data": {
            "text/plain": [
              "LinearRegression()"
            ]
          },
          "metadata": {},
          "execution_count": 20
        }
      ]
    },
    {
      "cell_type": "markdown",
      "source": [
        "係数と切片表示"
      ],
      "metadata": {
        "id": "Rs93UYQjB1-X"
      }
    },
    {
      "cell_type": "code",
      "source": [
        "print('coefficient = ', lr.coef_)\n",
        "print('intercept = ', lr.intercept_)"
      ],
      "metadata": {
        "colab": {
          "base_uri": "https://localhost:8080/"
        },
        "id": "_VLLiV0GycrX",
        "outputId": "3b448329-80bb-4c08-bbe1-6103f9d51326"
      },
      "execution_count": null,
      "outputs": [
        {
          "output_type": "stream",
          "name": "stdout",
          "text": [
            "coefficient =  [ -269456.26465959  -239402.50926886    56211.43928254  -236753.55975715\n",
            "   662374.86390017 -1361971.12838034   293424.9896976    572380.53483714\n",
            "   -15495.4427888    -58713.23902328   -18926.58286195   -24063.22507943\n",
            "   117198.48975346]\n",
            "intercept =  272583.34148021037\n"
          ]
        }
      ]
    },
    {
      "cell_type": "code",
      "source": [
        "from sklearn.metrics import mean_absolute_error\n",
        "\n",
        "print(\"MAE train data:\", mean_absolute_error(y_train, lr.predict(x_train)))\n",
        "print(\"MAE test data:\", mean_absolute_error(y_test, lr.predict(x_test)))\n",
        "\n",
        "\n",
        "for i in range(10):\n",
        "    print(y_test[i], lr.predict(x_test[i].reshape(-1,13)))"
      ],
      "metadata": {
        "colab": {
          "base_uri": "https://localhost:8080/"
        },
        "id": "zShgkm3Yz5Am",
        "outputId": "ac8aa2bd-b858-49c1-e4ea-589b5c398d3e"
      },
      "execution_count": null,
      "outputs": [
        {
          "output_type": "stream",
          "name": "stdout",
          "text": [
            "MAE train data: 49594.84209472436\n",
            "MAE test data: 50670.48923565361\n",
            "47700.0 [54261.02768976]\n",
            "45800.0 [124430.91772796]\n",
            "500001.0 [255694.95828244]\n",
            "218600.0 [268208.01035997]\n",
            "278000.0 [262975.01360647]\n",
            "158700.0 [139811.88274638]\n",
            "198200.0 [290871.00270495]\n",
            "157500.0 [228470.45516607]\n",
            "340000.0 [256712.36440083]\n",
            "446600.0 [408129.43722564]\n"
          ]
        }
      ]
    },
    {
      "cell_type": "markdown",
      "source": [
        "平均絶対誤差がものすごくでかいですが、これは目的変数であるmedian_house_valueだけスケーリングしていないないからです\n",
        "\n",
        "median_house_valueは最大値：15,000、最大値：500,000なので決して良くないですが"
      ],
      "metadata": {
        "id": "EoyqluLRDImF"
      }
    },
    {
      "cell_type": "markdown",
      "source": [
        "### numpyで線形回帰を実装"
      ],
      "metadata": {
        "id": "3ZGchHwACcOf"
      }
    },
    {
      "cell_type": "markdown",
      "source": [
        "多変数の線形回帰を実装するのは難易度が高すぎるので、1変数で最小二乗法で解ける線形回帰を実装します。"
      ],
      "metadata": {
        "id": "MhVhA6eKCfoC"
      }
    },
    {
      "cell_type": "code",
      "source": [
        "x_train_single = x_train[:,7]\n",
        "x_test_single = x_test[:,7]"
      ],
      "metadata": {
        "id": "bKSlC6V6_Qwd"
      },
      "execution_count": null,
      "outputs": []
    },
    {
      "cell_type": "markdown",
      "source": [
        "**課題**　式をy=ax+bとして、xとyを渡されたときにaとbを返す関数linear(x,y)を定義してみましょう\n",
        "\n",
        "最小二乗法のヒント：第2回の資料(**訂正が入っているので再ダウンロード推奨**)\n",
        "\n",
        "numpyのヒント：https://naoyat.hatenablog.jp/entry/2011/12/29/021414\n",
        "\n",
        "チートシート(x,y,z:numpy配列、c:実数、i:添字、n:xの要素数)\n",
        "\n",
        "$x_i + y_i$ ： ```x + y```　　# 配列の各要素を足す\n",
        "\n",
        "$x * c$ ： ```x*c```　　# 配列を実数倍する\n",
        "\n",
        "$∑^n_{i=1}x_i$ ： ```np.sum(x)```　　# 配列をすべて足す\n",
        "\n",
        "$z_i = x_i^2$ ： ```z = np.square(x)```　　# 配列の各要素を2乗する\n",
        "\n",
        "$z_i = x_i * y_i$ ： ```z = np.dot(x,y)```　　# 配列の各要素を掛け合わせる\n",
        "\n"
      ],
      "metadata": {
        "id": "HsrFmq_qCzKO"
      }
    },
    {
      "cell_type": "code",
      "source": [
        "import numpy as np\n",
        "\n",
        "def linear(x, y):\n",
        "    n = x.size\n",
        "    a = 0\n",
        "    b = 0\n",
        "    # --- ここに実装してください ---\n",
        "\n",
        "    return a,b\n",
        "\n",
        "def predict(x, a, b):\n",
        "    return x * a + b\n",
        "\n",
        "a, b = linear(x_train_single, y_train)\n"
      ],
      "metadata": {
        "id": "SkqqXklrFOSE"
      },
      "execution_count": null,
      "outputs": []
    },
    {
      "cell_type": "code",
      "source": [
        "print(\"coefficient = \", a)\n",
        "print(\"intercept = \", b)\n",
        "\n",
        "for i in range(10):\n",
        "    print(y_test[i], predict(x_test_single[i], a, b))"
      ],
      "metadata": {
        "colab": {
          "base_uri": "https://localhost:8080/"
        },
        "id": "XlJx0DJVUrPE",
        "outputId": "67913e11-e677-4be2-9411-1366a32c8577"
      },
      "execution_count": null,
      "outputs": [
        {
          "output_type": "stream",
          "name": "stdout",
          "text": [
            "coefficient =  0\n",
            "intercept =  0\n",
            "47700.0 0.0\n",
            "45800.0 0.0\n",
            "500001.0 0.0\n",
            "218600.0 0.0\n",
            "278000.0 0.0\n",
            "158700.0 0.0\n",
            "198200.0 0.0\n",
            "157500.0 0.0\n",
            "340000.0 0.0\n",
            "446600.0 0.0\n"
          ]
        }
      ]
    },
    {
      "cell_type": "markdown",
      "source": [
        "#### 答え\n",
        "\n"
      ],
      "metadata": {
        "id": "ggRbXGfzEJ3-"
      }
    },
    {
      "cell_type": "code",
      "source": [
        "import numpy as np\n",
        "\n",
        "def linear(x, y):\n",
        "    n = x.size\n",
        "    a = 0\n",
        "    b = 0\n",
        "    # aの分子\n",
        "    a = n * np.sum(np.dot(x,y)) - np.sum(x) * np.sum(y)\n",
        "    # aの分母\n",
        "    a /= n * np.sum(np.square(x)) - np.sum(x)**2\n",
        "\n",
        "    # bの分子\n",
        "    b = np.sum(np.square(x)) * np.sum(y) - np.sum(x) * np.sum(np.dot(x,y))\n",
        "    # bの分母\n",
        "    b /= n * np.sum(np.square(x)) - np.sum(x)**2\n",
        "    return a, b\n",
        "\n",
        "def predict(x, a, b):\n",
        "    return x*a + b\n",
        "\n",
        "a, b = linear(x_train_single, y_train)\n"
      ],
      "metadata": {
        "id": "dlmLCfQgCyCx"
      },
      "execution_count": null,
      "outputs": []
    },
    {
      "cell_type": "code",
      "source": [
        "print('coefficient = ', a)\n",
        "print('intercept = ', b)\n",
        "\n",
        "print(\"MAE train data:\", mean_absolute_error(y_train, predict(x_train_single, a, b)))\n",
        "print(\"MAE test data:\", mean_absolute_error(y_test, predict(x_test_single, a, b)))\n",
        "\n",
        "for i in range(10):\n",
        "    print(y_test[i], predict(x_test_single[i], a, b))\n"
      ],
      "metadata": {
        "colab": {
          "base_uri": "https://localhost:8080/"
        },
        "id": "gicIrEf_ULKh",
        "outputId": "ddc8542f-3341-44e6-f4d6-c62376f09816"
      },
      "execution_count": null,
      "outputs": [
        {
          "output_type": "stream",
          "name": "stdout",
          "text": [
            "coefficient =  608049.202980165\n",
            "intercept =  65422.46048104547\n",
            "MAE train data: 62495.076556687294\n",
            "MAE test data: 62990.86530093762\n",
            "47700.0 114958.91676995659\n",
            "45800.0 150606.8821396369\n",
            "500001.0 190393.71844448656\n",
            "218600.0 285059.383451019\n",
            "278000.0 200663.3181610313\n",
            "158700.0 242165.24890608786\n",
            "198200.0 257647.22610228357\n",
            "157500.0 199229.18051176288\n",
            "340000.0 245893.16811719784\n",
            "446600.0 384677.4360709609\n"
          ]
        }
      ]
    },
    {
      "cell_type": "markdown",
      "source": [
        "#### sklearnで確認"
      ],
      "metadata": {
        "id": "LW3xnt_mEGGG"
      }
    },
    {
      "cell_type": "code",
      "source": [
        "\n",
        "lr2 = LinearRegression()\n",
        "\n",
        "lr2.fit(x_train_single.reshape(-1,1), y_train)          "
      ],
      "metadata": {
        "colab": {
          "base_uri": "https://localhost:8080/"
        },
        "id": "nCcbZJkWAI7Q",
        "outputId": "e04c8150-155d-4523-d26f-6ad1bd884a37"
      },
      "execution_count": null,
      "outputs": [
        {
          "output_type": "execute_result",
          "data": {
            "text/plain": [
              "LinearRegression()"
            ]
          },
          "metadata": {},
          "execution_count": 28
        }
      ]
    },
    {
      "cell_type": "code",
      "source": [
        "print('coefficient = ', lr2.coef_)\n",
        "print('intercept = ', lr2.intercept_)\n",
        "\n",
        "print(\"MAE train data:\", mean_absolute_error(y_train, lr2.predict(x_train_single.reshape(-1,1))))\n",
        "print(\"MAE test data:\", mean_absolute_error(y_test, lr2.predict(x_test_single.reshape(-1,1))))\n",
        "\n",
        "for i in range(10):\n",
        "    print(y_test[i], lr2.predict(x_test_single[i].reshape(-1,1)))\n",
        "\n"
      ],
      "metadata": {
        "colab": {
          "base_uri": "https://localhost:8080/"
        },
        "id": "Q0TLzMMLC8hj",
        "outputId": "268c4d5a-a09b-4cc2-eafb-8973bf490dca"
      },
      "execution_count": null,
      "outputs": [
        {
          "output_type": "stream",
          "name": "stdout",
          "text": [
            "coefficient =  [608049.20298016]\n",
            "intercept =  65422.46048104574\n",
            "MAE train data: 62495.07655668728\n",
            "MAE test data: 62990.86530093761\n",
            "47700.0 [114958.91676996]\n",
            "45800.0 [150606.88213964]\n",
            "500001.0 [190393.71844449]\n",
            "218600.0 [285059.38345102]\n",
            "278000.0 [200663.31816103]\n",
            "158700.0 [242165.24890609]\n",
            "198200.0 [257647.22610228]\n",
            "157500.0 [199229.18051176]\n",
            "340000.0 [245893.1681172]\n",
            "446600.0 [384677.43607096]\n"
          ]
        }
      ]
    },
    {
      "cell_type": "markdown",
      "source": [
        "#### RandomForestに突っ込んでみた"
      ],
      "metadata": {
        "id": "xHkS9kcXX3E-"
      }
    },
    {
      "cell_type": "code",
      "source": [
        "from sklearn.ensemble import RandomForestRegressor\n",
        "\n",
        "rf = RandomForestRegressor()\n",
        "\n",
        "rf.fit(x_train, y_train)    \n",
        " "
      ],
      "metadata": {
        "colab": {
          "base_uri": "https://localhost:8080/"
        },
        "id": "aqkiPnE2Xy0A",
        "outputId": "0d1213ca-e8d9-4e0c-80b1-133bf4ea533b"
      },
      "execution_count": null,
      "outputs": [
        {
          "output_type": "execute_result",
          "data": {
            "text/plain": [
              "RandomForestRegressor()"
            ]
          },
          "metadata": {},
          "execution_count": 30
        }
      ]
    },
    {
      "cell_type": "code",
      "source": [
        "\n",
        "print(\"MAE train data:\", mean_absolute_error(y_train, rf.predict(x_train)))\n",
        "print(\"MAE test data:\", mean_absolute_error(y_test, rf.predict(x_test)))\n",
        "\n",
        "\n",
        "for i in range(10):\n",
        "    print(y_test[i], rf.predict(x_test[i].reshape(-1,13)))"
      ],
      "metadata": {
        "colab": {
          "base_uri": "https://localhost:8080/"
        },
        "id": "9JyOt4aYYL8_",
        "outputId": "8d1722bf-8848-482e-f781-fd79ad07dd56"
      },
      "execution_count": null,
      "outputs": [
        {
          "output_type": "stream",
          "name": "stdout",
          "text": [
            "MAE train data: 11647.493710634688\n",
            "MAE test data: 31489.578425387597\n",
            "47700.0 [49214.]\n",
            "45800.0 [69059.]\n",
            "500001.0 [462127.38]\n",
            "218600.0 [261741.01]\n",
            "278000.0 [263803.]\n",
            "158700.0 [162628.]\n",
            "198200.0 [217130.]\n",
            "157500.0 [167383.]\n",
            "340000.0 [276377.02]\n",
            "446600.0 [480915.69]\n"
          ]
        }
      ]
    }
  ]
}